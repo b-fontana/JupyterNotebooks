{
 "cells": [
  {
   "cell_type": "markdown",
   "id": "4f5aceb8",
   "metadata": {
    "slideshow": {
     "slide_type": "slide"
    }
   },
   "source": [
    "# <span style=\"color:green\">Data Visualization with Bokeh</span>\n",
    "\n",
    "### <span style=\"color:brown\">PyHEP 2021 (virtual) Workshop</span>\n",
    "\n",
    "### <span style=\"color:salmon\">Author:</span> Bruno Alves | <span style=\"color:salmon\">Date:</span> 6 July 2021"
   ]
  },
  {
   "cell_type": "markdown",
   "id": "3a153079",
   "metadata": {
    "slideshow": {
     "slide_type": "slide"
    }
   },
   "source": [
    "## Disclaimers"
   ]
  },
  {
   "cell_type": "markdown",
   "id": "75e695ec",
   "metadata": {
    "slideshow": {
     "slide_type": "fragment"
    }
   },
   "source": [
    "1. This tutorial is heavily opinionated: the \"best\" plotting library can be different for different people with different needs \n",
    " - but ```bokeh``` is the best for me, and I will try to justify it"
   ]
  },
  {
   "cell_type": "markdown",
   "id": "7f95a6f2",
   "metadata": {
    "slideshow": {
     "slide_type": "fragment"
    }
   },
   "source": [
    "2. I am in now way involved with the development of ```bokeh```; I am simply a user, just like most of you\n",
    "    - I have been using ```bokeh``` for the past ~3 years"
   ]
  },
  {
   "cell_type": "markdown",
   "id": "607e408e",
   "metadata": {
    "slideshow": {
     "slide_type": "fragment"
    }
   },
   "source": [
    "3. I am far from being an expert on the topics and libraries covered\n",
    "    - correct me if I say something wrong"
   ]
  },
  {
   "cell_type": "markdown",
   "id": "6e7b032f",
   "metadata": {
    "cell_style": "center",
    "slideshow": {
     "slide_type": "slide"
    }
   },
   "source": [
    "# Motivation\n"
   ]
  },
  {
   "cell_type": "markdown",
   "id": "d9c34fb8",
   "metadata": {
    "cell_style": "center",
    "slideshow": {
     "slide_type": "subslide"
    }
   },
   "source": [
    " 1. Get people to know, enjoy and use ```bokeh```"
   ]
  },
  {
   "cell_type": "markdown",
   "id": "0edbbaae",
   "metadata": {
    "slideshow": {
     "slide_type": "fragment"
    }
   },
   "source": [
    "  - Does not seem to be popular in HEP. However:\n",
    "      - LHCb uses it for [data quality monitoring](https://cds.cern.ch/record/2298467)\n",
    "      - It was [mentioned](https://arxiv.org/abs/1811.10309) by the [HEP Software Foundation](https://hepsoftwarefoundation.org/) (but dismissed; fortunately their reasons are now completely outdated)"
   ]
  },
  {
   "cell_type": "markdown",
   "id": "a9f08fc9",
   "metadata": {
    "slideshow": {
     "slide_type": "fragment"
    }
   },
   "source": [
    "  - It is known in other areas,  <span style=\"color:brown\">Astrophysics</span> and  <span style=\"color:brown\">Biology</span> for example"
   ]
  },
  {
   "cell_type": "markdown",
   "id": "8473cfe0",
   "metadata": {
    "slideshow": {
     "slide_type": "fragment"
    }
   },
   "source": [
    " - As other plotting alternatives, it is shadowed by the ubiquitousness of ```matplotlib``` "
   ]
  },
  {
   "cell_type": "markdown",
   "id": "6334f167",
   "metadata": {
    "slideshow": {
     "slide_type": "subslide"
    }
   },
   "source": [
    " 2. ```bokeh``` code, when compared to ```matplotlib``` (personal opinion, of course):"
   ]
  },
  {
   "cell_type": "markdown",
   "id": "009bb4dd",
   "metadata": {
    "slideshow": {
     "slide_type": "fragment"
    }
   },
   "source": [
    " - is more readable. \n",
    "     - ```matplotlib```, on the contrary:\n",
    "         - has multiple APIs for the same things\n",
    "         - provides a ocasionally unpythonic syntax (originally based on Matlab)"
   ]
  },
  {
   "cell_type": "markdown",
   "id": "ebc27a24",
   "metadata": {
    "slideshow": {
     "slide_type": "fragment"
    }
   },
   "source": [
    " - is easier to write without constantly resorting to the documentation\n",
    "     - ```mpl```'s docs are unreliable"
   ]
  },
  {
   "cell_type": "markdown",
   "id": "a49ab31c",
   "metadata": {
    "slideshow": {
     "slide_type": "fragment"
    }
   },
   "source": [
    " - gives simple interactive plots for free"
   ]
  },
  {
   "cell_type": "markdown",
   "id": "ba3c3866",
   "metadata": {
    "slideshow": {
     "slide_type": "fragment"
    }
   },
   "source": [
    " - can be used for easily creating and sharing complex and virtually unlimited interactive visualizations/dashboards"
   ]
  },
  {
   "cell_type": "markdown",
   "id": "32477457",
   "metadata": {
    "slideshow": {
     "slide_type": "subslide"
    }
   },
   "source": [
    "```matplotlib``` is still more popular because:"
   ]
  },
  {
   "cell_type": "markdown",
   "id": "a5ab366e",
   "metadata": {
    "slideshow": {
     "slide_type": "fragment"
    }
   },
   "source": [
    "  - it is older (started in 2003, vs. 2013 for ```bokeh```) and has more features than current alternatives"
   ]
  },
  {
   "cell_type": "markdown",
   "id": "e3ab6f74",
   "metadata": {
    "slideshow": {
     "slide_type": "fragment"
    }
   },
   "source": [
    "   - people have the tendency to resist change"
   ]
  },
  {
   "cell_type": "markdown",
   "id": "30bf518c",
   "metadata": {
    "slideshow": {
     "slide_type": "fragment"
    }
   },
   "source": [
    "   - most default examples for anything on StackOverflow use ```matplotlib```:"
   ]
  },
  {
   "cell_type": "code",
   "execution_count": null,
   "id": "eb3e0403",
   "metadata": {
    "cell_style": "split",
    "slideshow": {
     "slide_type": "-"
    }
   },
   "outputs": [],
   "source": [
    "import numpy\n",
    "from matplotlib import pyplot as plt\n",
    "%matplotlib inline\n",
    "#requires ipympl\n",
    "#%matplotlib widget\n",
    "plt.rcParams['figure.dpi'] = 180\n",
    "\n",
    "nquestions=[59322, 4355, 767, 127]\n",
    "libs=['mpl', 'bokeh', 'altair', 'plotnine']\n",
    "\n",
    "fig = plt.figure(figsize=(12,9))\n",
    "ax = fig.add_subplot(111)\n",
    "ax.bar(libs, nquestions)\n",
    "ax.set_ylabel('Number of questions posted on SO')\n",
    "plt.title('Histogram')\n",
    "plt.show()"
   ]
  },
  {
   "cell_type": "code",
   "execution_count": null,
   "id": "5d7ce15c",
   "metadata": {
    "cell_style": "split",
    "slideshow": {
     "slide_type": "-"
    }
   },
   "outputs": [],
   "source": [
    "from bokeh.io import output_notebook, show\n",
    "from bokeh.plotting import figure\n",
    "output_notebook()\n",
    "\n",
    "nquestions=[59322, 4355, 767, 127]\n",
    "libs=['mpl', 'bokeh', 'altair', 'plotnine']\n",
    "\n",
    "p = figure(plot_height=600, plot_width=800,\n",
    "           title='Histogram', \n",
    "           x_range=libs)\n",
    "p.vbar(x=libs, top=nquestions, width=0.9)\n",
    "p.yaxis.axis_label = 'Number of questions posted on SO'\n",
    "show(p) "
   ]
  },
  {
   "cell_type": "markdown",
   "id": "b7f69430",
   "metadata": {
    "slideshow": {
     "slide_type": "slide"
    }
   },
   "source": [
    "# Basic plotting"
   ]
  },
  {
   "cell_type": "markdown",
   "id": "1a0f93e5",
   "metadata": {
    "slideshow": {
     "slide_type": "subslide"
    }
   },
   "source": [
    "### We will be comparing:\n",
    "\n",
    "- [matplotlib](https://matplotlib.org/stable/index.html)\n",
    "- [bokeh](https://bokeh.org/)\n",
    "- [plotnine](https://plotnine.readthedocs.io/en/stable/index.html)\n",
    "- [altair](https://altair-viz.github.io/)\n",
    "\n",
    "#### when performing arguably two of the most common plots:\n",
    "\n",
    "- line plot\n",
    "- histogram"
   ]
  },
  {
   "cell_type": "markdown",
   "id": "09a47996",
   "metadata": {
    "slideshow": {
     "slide_type": "subslide"
    }
   },
   "source": [
    "We start by defining everything that will be common to all libraries:"
   ]
  },
  {
   "cell_type": "code",
   "execution_count": null,
   "id": "09c167ed",
   "metadata": {
    "slideshow": {
     "slide_type": "-"
    }
   },
   "outputs": [],
   "source": [
    "import numpy as np\n",
    "from types import SimpleNamespace\n",
    "\n",
    "#data for line plots\n",
    "dline = SimpleNamespace( x=[1,2,3,4,5,6,7,8,9], \n",
    "                         y=[6,7,2,8,9,3,4,5,1],\n",
    "                         size=15,\n",
    "                         line_color='blue',\n",
    "                         out_color='red', \n",
    "                         fill_color='orange',\n",
    "                         fill_alpha=1 )\n",
    "\n",
    "#data for histograms\n",
    "mu, sigma, npoints = 0, 0.5, 1000\n",
    "nbins = 35\n",
    "dhist = np.random.normal(mu, sigma, npoints)\n",
    "hist_, edges_ = np.histogram(dhist, density=False, bins=nbins)\n",
    "dhist = SimpleNamespace( data=dhist, hist=hist_, edges=edges_, nbins=nbins)"
   ]
  },
  {
   "cell_type": "markdown",
   "id": "7a05af47",
   "metadata": {
    "slideshow": {
     "slide_type": "subslide"
    }
   },
   "source": [
    "## ```matplotlib```"
   ]
  },
  {
   "cell_type": "code",
   "execution_count": null,
   "id": "f85a8f9b",
   "metadata": {
    "slideshow": {
     "slide_type": "-"
    }
   },
   "outputs": [],
   "source": [
    "import matplotlib.pyplot as plt"
   ]
  },
  {
   "cell_type": "markdown",
   "id": "12676e38",
   "metadata": {
    "slideshow": {
     "slide_type": "subslide"
    }
   },
   "source": [
    "#### Line plot:"
   ]
  },
  {
   "cell_type": "code",
   "execution_count": null,
   "id": "fa32df3a",
   "metadata": {
    "slideshow": {
     "slide_type": "-"
    }
   },
   "outputs": [],
   "source": [
    "plt.figure(figsize=(2.,2.))\n",
    "\n",
    "plt_marker_options = dict(s=10*dline.size, color=dline.fill_color, marker='o',\n",
    "                          edgecolor=dline.out_color,\n",
    "                          alpha=dline.fill_alpha)\n",
    "\n",
    "plt.plot(dline.x, dline.y, color=dline.line_color)\n",
    "plt.scatter(dline.x, dline.y, **plt_marker_options)\n",
    "plt.show()"
   ]
  },
  {
   "cell_type": "markdown",
   "id": "1f5e8a81",
   "metadata": {
    "slideshow": {
     "slide_type": "subslide"
    }
   },
   "source": [
    "#### Histogram ([multiple APIs](https://matplotlib.org/stable/api/index.html)):"
   ]
  },
  {
   "cell_type": "code",
   "execution_count": null,
   "id": "d071bd0c",
   "metadata": {
    "cell_style": "split"
   },
   "outputs": [],
   "source": [
    "plt.hist(dhist.data, bins=dhist.nbins)\n",
    "plt.show()"
   ]
  },
  {
   "cell_type": "code",
   "execution_count": null,
   "id": "ffb8b4ca",
   "metadata": {
    "cell_style": "split"
   },
   "outputs": [],
   "source": [
    "#fig, ax = plt.subplots(figsize=(5,4))\n",
    "fig = plt.figure()\n",
    "ax = fig.add_subplot(111)\n",
    "ax.hist(dhist.data, bins=dhist.nbins)\n",
    "plt.show()\n",
    "#we can create Figure and Axes instances explicitly"
   ]
  },
  {
   "cell_type": "markdown",
   "id": "13ff5c75",
   "metadata": {
    "slideshow": {
     "slide_type": "subslide"
    }
   },
   "source": [
    "## Remarks"
   ]
  },
  {
   "cell_type": "markdown",
   "id": "9a23be40",
   "metadata": {
    "slideshow": {
     "slide_type": "fragment"
    }
   },
   "source": [
    "- ```Figure``` and ```Axes``` are a source for confusion"
   ]
  },
  {
   "cell_type": "markdown",
   "id": "a3d910cd",
   "metadata": {
    "slideshow": {
     "slide_type": "fragment"
    }
   },
   "source": [
    "- It becomes quite complex to build a visualization dashboard tool (this is very easy with ```bokeh```; we will get there)\n"
   ]
  },
  {
   "cell_type": "markdown",
   "id": "b83c34ec",
   "metadata": {
    "slideshow": {
     "slide_type": "fragment"
    }
   },
   "source": [
    "- ```set_*``` methods are everywhere, where Python's ```property``` could be used instead"
   ]
  },
  {
   "cell_type": "markdown",
   "id": "3fdbad6b",
   "metadata": {
    "slideshow": {
     "slide_type": "fragment"
    }
   },
   "source": [
    "- Note that the functions we are calling are not based on what we are plotting, but instead on the actions we are performing (```plot``` and ```scatter``` instead of ```line``` and ```circles```):\n",
    "   - less flexible/modular in the long-run\n",
    "   - more complex to control and understand individual properties"
   ]
  },
  {
   "cell_type": "markdown",
   "id": "c0b1ded5",
   "metadata": {
    "slideshow": {
     "slide_type": "fragment"
    }
   },
   "source": [
    "- According to the [official documentation](https://matplotlib.org/stable/gallery/subplots_axes_and_figures/subplots_demo.html), the preferred way to create a single figure is to call ```subplots()```!"
   ]
  },
  {
   "cell_type": "markdown",
   "id": "7bd7fc11",
   "metadata": {
    "slideshow": {
     "slide_type": "subslide"
    }
   },
   "source": [
    "## Conclusions\n"
   ]
  },
  {
   "cell_type": "markdown",
   "id": "f24df995",
   "metadata": {
    "slideshow": {
     "slide_type": "fragment"
    }
   },
   "source": [
    "- I find ```matplotlib``` hard to use without constantly going back to the documentation, even for simple tasks."
   ]
  },
  {
   "cell_type": "markdown",
   "id": "c49f9239",
   "metadata": {
    "slideshow": {
     "slide_type": "fragment"
    }
   },
   "source": [
    "  - I know many Python enthusiasts share this opinion."
   ]
  },
  {
   "cell_type": "markdown",
   "id": "2d5f4ed7",
   "metadata": {
    "slideshow": {
     "slide_type": "fragment"
    }
   },
   "source": [
    "- However, ```matplotlib``` is more mature and complete, being the oldest. In addition, some wrappers on top of it provide additional convenient functionalities, such as ```mplhep```."
   ]
  },
  {
   "cell_type": "markdown",
   "id": "2fd73d97",
   "metadata": {
    "slideshow": {
     "slide_type": "fragment"
    }
   },
   "source": [
    "- Unless what you want to do only exists in ```matplotlib```, I would suggest using ```bokeh``` for everything, including simple plots."
   ]
  },
  {
   "cell_type": "markdown",
   "id": "bfbc6886",
   "metadata": {
    "slideshow": {
     "slide_type": "subslide"
    }
   },
   "source": [
    "## ```bokeh```\n",
    "\n",
    "- built around glyphs"
   ]
  },
  {
   "cell_type": "code",
   "execution_count": null,
   "id": "73157af7",
   "metadata": {
    "slideshow": {
     "slide_type": "-"
    }
   },
   "outputs": [],
   "source": [
    "from bokeh.io import output_notebook, show\n",
    "from bokeh.plotting import figure\n",
    "output_notebook() # alternatively one could use output_file()"
   ]
  },
  {
   "cell_type": "markdown",
   "id": "2de202c3",
   "metadata": {
    "slideshow": {
     "slide_type": "subslide"
    }
   },
   "source": [
    "#### Line plot:"
   ]
  },
  {
   "cell_type": "code",
   "execution_count": null,
   "id": "9ca80c6f",
   "metadata": {
    "slideshow": {
     "slide_type": "-"
    }
   },
   "outputs": [],
   "source": [
    "# create a new plot with default tools, using figure\n",
    "pline = figure(plot_width=400, plot_height=400)\n",
    "\n",
    "line_options = dict(line_width=2)\n",
    "pline.line(dline.x, dline.y, **line_options)\n",
    "\n",
    "marker_options = dict(size=dline.size, color=dline.out_color, \n",
    "                      fill_color=dline.fill_color, fill_alpha=dline.fill_alpha)\n",
    "circ = pline.circle(dline.x, dline.y, **marker_options)\n",
    "\n",
    "show(pline)"
   ]
  },
  {
   "cell_type": "markdown",
   "id": "8f0cf23a",
   "metadata": {
    "slideshow": {
     "slide_type": "subslide"
    }
   },
   "source": [
    "#### Histogram:"
   ]
  },
  {
   "cell_type": "code",
   "execution_count": null,
   "id": "d9b0e09d",
   "metadata": {
    "slideshow": {
     "slide_type": "-"
    }
   },
   "outputs": [],
   "source": [
    "hist_options = dict(fill_color=\"yellow\", line_color=\"black\", alpha=.8)\n",
    "\n",
    "phist = figure(title='Bokeh Histogram', plot_width=600, plot_height=400,\n",
    "                background_fill_color=\"#2a4f32\")\n",
    "\n",
    "phist.quad(top=dhist.hist, bottom=0, left=dhist.edges[:-1], right=dhist.edges[1:], **hist_options)\n",
    "phist.ygrid.grid_line_color = None\n",
    "\n",
    "show(phist)"
   ]
  },
  {
   "cell_type": "markdown",
   "id": "6661213c",
   "metadata": {
    "slideshow": {
     "slide_type": "subslide"
    }
   },
   "source": [
    "## ```altair```\n",
    "\n",
    "- Includes interactive plots\n",
    "- Build on top of [Vega-Lite](https://vega.github.io/vega-lite/) which is based on the \"grammar of graphics\" (used in R's ```ggplot2```):"
   ]
  },
  {
   "cell_type": "markdown",
   "id": "0c877da3",
   "metadata": {
    "cell_style": "split",
    "slideshow": {
     "slide_type": "-"
    }
   },
   "source": [
    "The grammar of graphics creates plots based on the following layers:\n",
    "- Data\n",
    "- Mapping\n",
    "- Statistical transformation\n",
    "- Geometric object (markers)\n",
    "- Position adjustment\n",
    "- Some additional properties"
   ]
  },
  {
   "cell_type": "markdown",
   "id": "1a54222a",
   "metadata": {
    "cell_style": "split",
    "slideshow": {
     "slide_type": "-"
    }
   },
   "source": [
    "```bokeh``` also relies on a \"layered\" approach, but:\n",
    "- Mostly ignores data transformations\n",
    "    - lots of excellent libraries can already take care of it\n",
    "    - some exceptions: [transforming](https://docs.bokeh.org/en/latest/docs/user_guide/data.html#transforming-data), [filtering](https://docs.bokeh.org/en/latest/docs/user_guide/data.html#filtering-data)\n",
    "    - as [highlighted](https://arxiv.org/pdf/1811.10309.pdf) (Sec. 2.2.3) by the HEP Soft. Found.: \"**separating data visualization from the data analysis**\" is a big open-issue in HEP\n",
    "- Properties are directly associated to their related objects (figures, grid, axis, markers, ...) and are more intuitive to set"
   ]
  },
  {
   "cell_type": "code",
   "execution_count": null,
   "id": "d4a1ddf6",
   "metadata": {
    "slideshow": {
     "slide_type": "subslide"
    }
   },
   "outputs": [],
   "source": [
    "import altair as alt\n",
    "import pandas as pd #altair data model is built around pandas"
   ]
  },
  {
   "cell_type": "markdown",
   "id": "dd7002d2",
   "metadata": {
    "slideshow": {
     "slide_type": "subslide"
    }
   },
   "source": [
    "#### Line plot:"
   ]
  },
  {
   "cell_type": "code",
   "execution_count": null,
   "id": "1467a8ad",
   "metadata": {
    "cell_style": "center",
    "slideshow": {
     "slide_type": "-"
    }
   },
   "outputs": [],
   "source": [
    "alt_source_line = pd.DataFrame({'x': dline.x, 'y': dline.y})\n",
    "\n",
    "alt_line = alt.Chart(alt_source_line).mark_line().encode(x='x', y='y')\n",
    "\n",
    "alt_marker_options = dict(color=dline.out_color, size=10*dline.size, fill=dline.fill_color, opacity=dline.fill_alpha)\n",
    "alt_markers = alt.Chart(alt_source_line).mark_point(**alt_marker_options).encode(x='x', y='y')\n",
    "                          \n",
    "alt.layer(alt_line, alt_markers)"
   ]
  },
  {
   "cell_type": "markdown",
   "id": "be5272dc",
   "metadata": {
    "slideshow": {
     "slide_type": "subslide"
    }
   },
   "source": [
    "#### Histogram:"
   ]
  },
  {
   "cell_type": "markdown",
   "id": "63ee5b01",
   "metadata": {
    "cell_style": "split",
    "slideshow": {
     "slide_type": "-"
    }
   },
   "source": [
    "1. Use ```altair``` histogram utilities\n",
    " - the syntax is more complex"
   ]
  },
  {
   "cell_type": "markdown",
   "id": "8e101b14",
   "metadata": {
    "cell_style": "split",
    "slideshow": {
     "slide_type": "-"
    }
   },
   "source": [
    "2. Decouple data transformations from plotting\n",
    " - use data processed by ```numpy```\n",
    " - ```bokeh``` mostly follows this \"decoupling\" approach\n",
    " \n"
   ]
  },
  {
   "cell_type": "code",
   "execution_count": null,
   "id": "2d604919",
   "metadata": {
    "cell_style": "split",
    "slideshow": {
     "slide_type": "-"
    }
   },
   "outputs": [],
   "source": [
    "alt_src1 = pd.DataFrame({'data': dhist.data})\n",
    "alt1 = alt.Chart(alt_src1).mark_bar().encode(\n",
    "    alt.X('data:Q', bin=alt.Bin(extent=[-2,2],\n",
    "                                maxbins=dhist.nbins)),\n",
    "    y='count()',\n",
    ")\n",
    "alt1"
   ]
  },
  {
   "cell_type": "code",
   "execution_count": null,
   "id": "1d6915f9",
   "metadata": {
    "cell_style": "split",
    "slideshow": {
     "slide_type": "-"
    }
   },
   "outputs": [],
   "source": [
    "alt_src2= pd.DataFrame({'hist':dhist.hist, \n",
    "                       'edges':dhist.edges[1:]})\n",
    "alt2 = alt.Chart(alt_src2).mark_bar().encode(\n",
    "    y='hist',\n",
    "    x='edges',\n",
    ")\n",
    "alt2"
   ]
  },
  {
   "cell_type": "markdown",
   "id": "92665bf3",
   "metadata": {
    "slideshow": {
     "slide_type": "subslide"
    }
   },
   "source": [
    "Comparison with ```bokeh```:\n",
    " - the syntax is much readable and intuitive\n",
    " - harder to customise\n",
    " - ```bokeh``` does not require ```pandas```\n",
    " - out-of-the box interaction (not explored in this talk, see [this](https://altair-viz.github.io/altair-tutorial/notebooks/06-Selections.html) for a nice example) is way more succint, at the cost of flexibility\n",
    "- <span style=\"color:brown\">efficiency/flexibility tradeoff</span>, where (in my opinion) ```bokeh``` comes out on top"
   ]
  },
  {
   "cell_type": "markdown",
   "id": "d426ba13",
   "metadata": {
    "slideshow": {
     "slide_type": "-"
    }
   },
   "source": [
    "From the \"Zen of Python\" (```import this```):\n",
    "\n",
    "```\n",
    "Flat is better than nested.\n",
    "Readability counts.\n",
    "Special cases aren't special enough to break the rules.\n",
    "```"
   ]
  },
  {
   "cell_type": "markdown",
   "id": "f945e625",
   "metadata": {
    "slideshow": {
     "slide_type": "subslide"
    }
   },
   "source": [
    "## ```plotnine```\n",
    "\n",
    "- Also follows \"the grammar of graphics\"\n",
    "- Contrary to ```altair```, this is basically a port of ```ggplot2``` to Python"
   ]
  },
  {
   "cell_type": "markdown",
   "id": "2e5728fc",
   "metadata": {
    "slideshow": {
     "slide_type": "subslide"
    }
   },
   "source": [
    "#### Line plot:"
   ]
  },
  {
   "cell_type": "code",
   "execution_count": null,
   "id": "25e9ab99",
   "metadata": {
    "slideshow": {
     "slide_type": "-"
    }
   },
   "outputs": [],
   "source": [
    "import plotnine as p9"
   ]
  },
  {
   "cell_type": "code",
   "execution_count": null,
   "id": "09300f48",
   "metadata": {
    "slideshow": {
     "slide_type": "-"
    }
   },
   "outputs": [],
   "source": [
    "#pandas is again required\n",
    "p9_source_line = pd.DataFrame({'x': dline.x, 'y': dline.y})\n",
    "\n",
    "(\n",
    "    p9.ggplot(p9_source_line, p9.aes(x='x', y='y'))\n",
    "    + p9.geom_point(color=dline.fill_color, size=0.5*dline.size) # markers\n",
    "    + p9.geom_line(color=dline.line_color) # line plot\n",
    ")"
   ]
  },
  {
   "cell_type": "markdown",
   "id": "b9e2037f",
   "metadata": {
    "slideshow": {
     "slide_type": "subslide"
    }
   },
   "source": [
    "#### Histogram:"
   ]
  },
  {
   "cell_type": "code",
   "execution_count": null,
   "id": "49bddc10",
   "metadata": {
    "slideshow": {
     "slide_type": "-"
    }
   },
   "outputs": [],
   "source": [
    "p9_src1 = pd.DataFrame({'data': dhist.data})\n",
    "(\n",
    "    p9.ggplot(p9_src1, p9.aes(x='data'))\n",
    "    + p9.geom_histogram(bins=dhist.nbins, color='yellow')\n",
    ") "
   ]
  },
  {
   "cell_type": "markdown",
   "id": "fef47fee",
   "metadata": {
    "slideshow": {
     "slide_type": "-"
    }
   },
   "source": [
    "- The syntax is very clear\n",
    "\n",
    "- Unfortunately there are no out-of-the-box interactions available\n",
    "\n",
    "- Just like for ```altair```, aesthetics are not very intuitive, at least for a beginner\n",
    "    - for instance, there seems to be no easy way to control the color of the circle borders"
   ]
  },
  {
   "cell_type": "markdown",
   "id": "35272923",
   "metadata": {
    "slideshow": {
     "slide_type": "subslide"
    }
   },
   "source": [
    "## ```bokeh```: setting properties"
   ]
  },
  {
   "cell_type": "markdown",
   "id": "ff0a7ded",
   "metadata": {
    "slideshow": {
     "slide_type": "-"
    }
   },
   "source": [
    "Figure and object properties can be very easily customised:"
   ]
  },
  {
   "cell_type": "code",
   "execution_count": null,
   "id": "5fe9b396",
   "metadata": {
    "slideshow": {
     "slide_type": "slide"
    }
   },
   "outputs": [],
   "source": [
    "#set figure properties\n",
    "pline.title = 'Line Plot'\n",
    "pline.xgrid.grid_line_color = 'red'\n",
    "pline.yaxis.axis_label = 'Y Axis'\n",
    "pline.outline_line_width = 2\n",
    "\n",
    "#set glyph properties\n",
    "#recall: circ = p_line.circle(data.x, data.y, **marker_options)\n",
    "circ.glyph.line_color = \"indigo\"\n",
    "circ.glyph.line_dash = [3,1]\n",
    "circ.glyph.line_width = 4\n",
    "\n",
    "show(pline)"
   ]
  },
  {
   "cell_type": "markdown",
   "id": "95b43242",
   "metadata": {
    "slideshow": {
     "slide_type": "subslide"
    }
   },
   "source": [
    "One can search for specific properties in the documentation or else do:"
   ]
  },
  {
   "cell_type": "code",
   "execution_count": null,
   "id": "89ccb53e",
   "metadata": {
    "slideshow": {
     "slide_type": "-"
    }
   },
   "outputs": [],
   "source": [
    "from bokeh.models import Axis\n",
    "print([x for x in vars(Axis) if x[:1] != \"_\"])"
   ]
  },
  {
   "cell_type": "markdown",
   "id": "d9ced292",
   "metadata": {
    "slideshow": {
     "slide_type": "-"
    }
   },
   "source": [
    "The same idea can be applied to ```Title```, ```Legend```, ```Toolbar```, ... [[more about models](https://docs.bokeh.org/en/latest/docs/reference/models.html)]"
   ]
  },
  {
   "cell_type": "markdown",
   "id": "6430ae98",
   "metadata": {
    "slideshow": {
     "slide_type": "subslide"
    }
   },
   "source": [
    "### Conclusions\n",
    "\n",
    "#### Pros"
   ]
  },
  {
   "cell_type": "markdown",
   "id": "4741c1be",
   "metadata": {
    "slideshow": {
     "slide_type": "fragment"
    }
   },
   "source": [
    "- Intuitive syntax"
   ]
  },
  {
   "cell_type": "markdown",
   "id": "d4ef1474",
   "metadata": {
    "slideshow": {
     "slide_type": "fragment"
    }
   },
   "source": [
    "- Very flexible"
   ]
  },
  {
   "cell_type": "markdown",
   "id": "90110c90",
   "metadata": {
    "slideshow": {
     "slide_type": "fragment"
    }
   },
   "source": [
    "- Good [documentation](https://docs.bokeh.org/en/latest/docs/reference.html), many [examples](https://docs.bokeh.org/en/latest/docs/gallery.html#gallery) and [great tutorial](https://hub.gke2.mybinder.org/user/bokeh-bokeh-notebooks-asqwhfmf/notebooks/tutorial/00%20-%20Introduction%20and%20Setup.ipynb)"
   ]
  },
  {
   "cell_type": "markdown",
   "id": "be2d2e52",
   "metadata": {
    "slideshow": {
     "slide_type": "fragment"
    }
   },
   "source": [
    "- Works well with jupyter notebooks"
   ]
  },
  {
   "cell_type": "markdown",
   "id": "a03facc6",
   "metadata": {
    "slideshow": {
     "slide_type": "fragment"
    }
   },
   "source": [
    "  - Active [community](https://discourse.bokeh.org/)"
   ]
  },
  {
   "cell_type": "markdown",
   "id": "827bda86",
   "metadata": {
    "slideshow": {
     "slide_type": "fragment"
    }
   },
   "source": [
    "and, most importantly, provides interactivity:"
   ]
  },
  {
   "cell_type": "markdown",
   "id": "8bf55013",
   "metadata": {
    "slideshow": {
     "slide_type": "fragment"
    }
   },
   "source": [
    "- Easy to deploy and share high-quality (interactive) visualizations"
   ]
  },
  {
   "cell_type": "markdown",
   "id": "8581018b",
   "metadata": {
    "slideshow": {
     "slide_type": "fragment"
    }
   },
   "source": [
    "- Simpler interactions come for free"
   ]
  },
  {
   "cell_type": "markdown",
   "id": "7c1cf10b",
   "metadata": {
    "slideshow": {
     "slide_type": "fragment"
    }
   },
   "source": [
    "- Lots of flexibility thanks to (optional) JavaScript callbacks"
   ]
  },
  {
   "cell_type": "markdown",
   "id": "e698d817",
   "metadata": {
    "slideshow": {
     "slide_type": "subslide"
    }
   },
   "source": [
    "#### Cons"
   ]
  },
  {
   "cell_type": "markdown",
   "id": "4a1514c8",
   "metadata": {
    "slideshow": {
     "slide_type": "fragment"
    }
   },
   "source": [
    "- High-level charts were deprecated: building a tad more complex visualization can become time consuming the first time you do it. Possible solutions:\n",
    "    - [HoloViews](https://holoviews.org/index.html)\n",
    "    - [Chartify](https://github.com/spotify/chartify) (virtually no documentation, one [tutorial](https://github.com/spotify/chartify/blob/master/examples/Chartify%20Tutorial.ipynb))"
   ]
  },
  {
   "cell_type": "markdown",
   "id": "9688ddc1",
   "metadata": {
    "slideshow": {
     "slide_type": "fragment"
    }
   },
   "source": [
    "- Less customisation than ```matplotlib```, although the difference is not noticeable for most use cases"
   ]
  },
  {
   "cell_type": "markdown",
   "id": "34a616b9",
   "metadata": {
    "slideshow": {
     "slide_type": "fragment"
    }
   },
   "source": [
    "- Javascript required for most interactive visualizations (very basic level)\n",
    "    - If most of your ```bokeh``` code is in JavaScript you should consider other solutions ([D3](https://d3js.org/), for instance)\n",
    "    - Hard to debug (please let me know if you are aware of a good solution!)"
   ]
  },
  {
   "cell_type": "markdown",
   "id": "531c2564",
   "metadata": {
    "slideshow": {
     "slide_type": "fragment"
    }
   },
   "source": [
    "\n",
    "- The flexibility/time tradeoff might not be optimal in some scenarios (*e.g.* quick interactive plotting)"
   ]
  },
  {
   "cell_type": "markdown",
   "id": "8e4d8d2b",
   "metadata": {
    "slideshow": {
     "slide_type": "fragment"
    }
   },
   "source": [
    "- No native 3D plots available (which are instead present in ```plotly``` and ```holoviews```)\n",
    "    - it [can be done](https://docs.bokeh.org/en/latest/docs/user_guide/extensions_gallery/wrapping.html#userguide-extensions-examples-wrapping), but it is way too cumbersome"
   ]
  },
  {
   "cell_type": "markdown",
   "id": "a3931ad3",
   "metadata": {
    "slideshow": {
     "slide_type": "fragment"
    }
   },
   "source": [
    "- No support for inset plots (which ```matplotlib``` [supports](https://matplotlib.org/1.3.1/mpl_toolkits/axes_grid/users/overview.html#insetlocator) ): current [feature request](https://github.com/bokeh/bokeh/issues/3821)"
   ]
  },
  {
   "cell_type": "markdown",
   "id": "3ff94ae5",
   "metadata": {
    "slideshow": {
     "slide_type": "slide"
    }
   },
   "source": [
    "#### Verdict"
   ]
  },
  {
   "cell_type": "markdown",
   "id": "6045759c",
   "metadata": {
    "slideshow": {
     "slide_type": "fragment"
    }
   },
   "source": [
    "- Not everything is perfect, but if you must learn one visualization library only, ```bokeh``` should provide the best experience"
   ]
  },
  {
   "cell_type": "markdown",
   "id": "35e289e5",
   "metadata": {
    "slideshow": {
     "slide_type": "fragment"
    }
   },
   "source": [
    "- ```matplotlib``` will be still required in edge cases (but this never happened to me, and will become rarer and rarer as new ```bokeh``` [versions](https://docs.bokeh.org/en/latest/docs/releases.html) are released)"
   ]
  },
  {
   "cell_type": "markdown",
   "id": "924087e3",
   "metadata": {
    "slideshow": {
     "slide_type": "fragment"
    }
   },
   "source": [
    "----------\n",
    "\n",
    "- I have not mentioned ```plotly```, which shares the same cons as ```matplotlib```, and seems less flexible. It is however a very capable library in its own right."
   ]
  },
  {
   "cell_type": "markdown",
   "id": "c44bb230",
   "metadata": {
    "slideshow": {
     "slide_type": "subslide"
    }
   },
   "source": [
    "Other ```bokeh``` features not explored in this talk:\n",
    "\n",
    "- [data streaming](https://docs.bokeh.org/en/latest/docs/user_guide/data.html#appending-data-to-a-columndatasource)\n",
    "- [mapping geo data](https://docs.bokeh.org/en/latest/docs/user_guide/geo.html)\n",
    "- [embed plots in websites](https://docs.bokeh.org/en/latest/docs/user_guide/embed.html)\n",
    "- [network graph visualization](https://docs.bokeh.org/en/latest/docs/user_guide/graph.html#userguide-graph)"
   ]
  },
  {
   "cell_type": "code",
   "execution_count": null,
   "id": "d71c778d",
   "metadata": {},
   "outputs": [],
   "source": []
  }
 ],
 "metadata": {
  "celltoolbar": "Slideshow",
  "kernelspec": {
   "display_name": "PyHEP21",
   "language": "python",
   "name": "pyhep21"
  },
  "language_info": {
   "codemirror_mode": {
    "name": "ipython",
    "version": 3
   },
   "file_extension": ".py",
   "mimetype": "text/x-python",
   "name": "python",
   "nbconvert_exporter": "python",
   "pygments_lexer": "ipython3",
   "version": "3.9.5"
  }
 },
 "nbformat": 4,
 "nbformat_minor": 5
}
