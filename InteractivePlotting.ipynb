{
 "cells": [
  {
   "cell_type": "markdown",
   "id": "b9186963",
   "metadata": {
    "slideshow": {
     "slide_type": "slide"
    }
   },
   "source": [
    "# Interactive plotting with Bokeh\n",
    "\n",
    "[reference](https://docs.bokeh.org/en/latest/docs/user_guide/interaction.html)"
   ]
  },
  {
   "cell_type": "code",
   "execution_count": 1,
   "id": "ff29ee73",
   "metadata": {
    "slideshow": {
     "slide_type": "slide"
    }
   },
   "outputs": [
    {
     "data": {
      "text/html": [
       "\n",
       "    <div class=\"bk-root\">\n",
       "        <a href=\"https://bokeh.org\" target=\"_blank\" class=\"bk-logo bk-logo-small bk-logo-notebook\"></a>\n",
       "        <span id=\"1002\">Loading BokehJS ...</span>\n",
       "    </div>"
      ]
     },
     "metadata": {},
     "output_type": "display_data"
    },
    {
     "data": {
      "application/javascript": [
       "\n",
       "(function(root) {\n",
       "  function now() {\n",
       "    return new Date();\n",
       "  }\n",
       "\n",
       "  var force = true;\n",
       "\n",
       "  if (typeof root._bokeh_onload_callbacks === \"undefined\" || force === true) {\n",
       "    root._bokeh_onload_callbacks = [];\n",
       "    root._bokeh_is_loading = undefined;\n",
       "  }\n",
       "\n",
       "  var JS_MIME_TYPE = 'application/javascript';\n",
       "  var HTML_MIME_TYPE = 'text/html';\n",
       "  var EXEC_MIME_TYPE = 'application/vnd.bokehjs_exec.v0+json';\n",
       "  var CLASS_NAME = 'output_bokeh rendered_html';\n",
       "\n",
       "  /**\n",
       "   * Render data to the DOM node\n",
       "   */\n",
       "  function render(props, node) {\n",
       "    var script = document.createElement(\"script\");\n",
       "    node.appendChild(script);\n",
       "  }\n",
       "\n",
       "  /**\n",
       "   * Handle when an output is cleared or removed\n",
       "   */\n",
       "  function handleClearOutput(event, handle) {\n",
       "    var cell = handle.cell;\n",
       "\n",
       "    var id = cell.output_area._bokeh_element_id;\n",
       "    var server_id = cell.output_area._bokeh_server_id;\n",
       "    // Clean up Bokeh references\n",
       "    if (id != null && id in Bokeh.index) {\n",
       "      Bokeh.index[id].model.document.clear();\n",
       "      delete Bokeh.index[id];\n",
       "    }\n",
       "\n",
       "    if (server_id !== undefined) {\n",
       "      // Clean up Bokeh references\n",
       "      var cmd = \"from bokeh.io.state import curstate; print(curstate().uuid_to_server['\" + server_id + \"'].get_sessions()[0].document.roots[0]._id)\";\n",
       "      cell.notebook.kernel.execute(cmd, {\n",
       "        iopub: {\n",
       "          output: function(msg) {\n",
       "            var id = msg.content.text.trim();\n",
       "            if (id in Bokeh.index) {\n",
       "              Bokeh.index[id].model.document.clear();\n",
       "              delete Bokeh.index[id];\n",
       "            }\n",
       "          }\n",
       "        }\n",
       "      });\n",
       "      // Destroy server and session\n",
       "      var cmd = \"import bokeh.io.notebook as ion; ion.destroy_server('\" + server_id + \"')\";\n",
       "      cell.notebook.kernel.execute(cmd);\n",
       "    }\n",
       "  }\n",
       "\n",
       "  /**\n",
       "   * Handle when a new output is added\n",
       "   */\n",
       "  function handleAddOutput(event, handle) {\n",
       "    var output_area = handle.output_area;\n",
       "    var output = handle.output;\n",
       "\n",
       "    // limit handleAddOutput to display_data with EXEC_MIME_TYPE content only\n",
       "    if ((output.output_type != \"display_data\") || (!Object.prototype.hasOwnProperty.call(output.data, EXEC_MIME_TYPE))) {\n",
       "      return\n",
       "    }\n",
       "\n",
       "    var toinsert = output_area.element.find(\".\" + CLASS_NAME.split(' ')[0]);\n",
       "\n",
       "    if (output.metadata[EXEC_MIME_TYPE][\"id\"] !== undefined) {\n",
       "      toinsert[toinsert.length - 1].firstChild.textContent = output.data[JS_MIME_TYPE];\n",
       "      // store reference to embed id on output_area\n",
       "      output_area._bokeh_element_id = output.metadata[EXEC_MIME_TYPE][\"id\"];\n",
       "    }\n",
       "    if (output.metadata[EXEC_MIME_TYPE][\"server_id\"] !== undefined) {\n",
       "      var bk_div = document.createElement(\"div\");\n",
       "      bk_div.innerHTML = output.data[HTML_MIME_TYPE];\n",
       "      var script_attrs = bk_div.children[0].attributes;\n",
       "      for (var i = 0; i < script_attrs.length; i++) {\n",
       "        toinsert[toinsert.length - 1].firstChild.setAttribute(script_attrs[i].name, script_attrs[i].value);\n",
       "        toinsert[toinsert.length - 1].firstChild.textContent = bk_div.children[0].textContent\n",
       "      }\n",
       "      // store reference to server id on output_area\n",
       "      output_area._bokeh_server_id = output.metadata[EXEC_MIME_TYPE][\"server_id\"];\n",
       "    }\n",
       "  }\n",
       "\n",
       "  function register_renderer(events, OutputArea) {\n",
       "\n",
       "    function append_mime(data, metadata, element) {\n",
       "      // create a DOM node to render to\n",
       "      var toinsert = this.create_output_subarea(\n",
       "        metadata,\n",
       "        CLASS_NAME,\n",
       "        EXEC_MIME_TYPE\n",
       "      );\n",
       "      this.keyboard_manager.register_events(toinsert);\n",
       "      // Render to node\n",
       "      var props = {data: data, metadata: metadata[EXEC_MIME_TYPE]};\n",
       "      render(props, toinsert[toinsert.length - 1]);\n",
       "      element.append(toinsert);\n",
       "      return toinsert\n",
       "    }\n",
       "\n",
       "    /* Handle when an output is cleared or removed */\n",
       "    events.on('clear_output.CodeCell', handleClearOutput);\n",
       "    events.on('delete.Cell', handleClearOutput);\n",
       "\n",
       "    /* Handle when a new output is added */\n",
       "    events.on('output_added.OutputArea', handleAddOutput);\n",
       "\n",
       "    /**\n",
       "     * Register the mime type and append_mime function with output_area\n",
       "     */\n",
       "    OutputArea.prototype.register_mime_type(EXEC_MIME_TYPE, append_mime, {\n",
       "      /* Is output safe? */\n",
       "      safe: true,\n",
       "      /* Index of renderer in `output_area.display_order` */\n",
       "      index: 0\n",
       "    });\n",
       "  }\n",
       "\n",
       "  // register the mime type if in Jupyter Notebook environment and previously unregistered\n",
       "  if (root.Jupyter !== undefined) {\n",
       "    var events = require('base/js/events');\n",
       "    var OutputArea = require('notebook/js/outputarea').OutputArea;\n",
       "\n",
       "    if (OutputArea.prototype.mime_types().indexOf(EXEC_MIME_TYPE) == -1) {\n",
       "      register_renderer(events, OutputArea);\n",
       "    }\n",
       "  }\n",
       "\n",
       "  \n",
       "  if (typeof (root._bokeh_timeout) === \"undefined\" || force === true) {\n",
       "    root._bokeh_timeout = Date.now() + 5000;\n",
       "    root._bokeh_failed_load = false;\n",
       "  }\n",
       "\n",
       "  var NB_LOAD_WARNING = {'data': {'text/html':\n",
       "     \"<div style='background-color: #fdd'>\\n\"+\n",
       "     \"<p>\\n\"+\n",
       "     \"BokehJS does not appear to have successfully loaded. If loading BokehJS from CDN, this \\n\"+\n",
       "     \"may be due to a slow or bad network connection. Possible fixes:\\n\"+\n",
       "     \"</p>\\n\"+\n",
       "     \"<ul>\\n\"+\n",
       "     \"<li>re-rerun `output_notebook()` to attempt to load from CDN again, or</li>\\n\"+\n",
       "     \"<li>use INLINE resources instead, as so:</li>\\n\"+\n",
       "     \"</ul>\\n\"+\n",
       "     \"<code>\\n\"+\n",
       "     \"from bokeh.resources import INLINE\\n\"+\n",
       "     \"output_notebook(resources=INLINE)\\n\"+\n",
       "     \"</code>\\n\"+\n",
       "     \"</div>\"}};\n",
       "\n",
       "  function display_loaded() {\n",
       "    var el = document.getElementById(\"1002\");\n",
       "    if (el != null) {\n",
       "      el.textContent = \"BokehJS is loading...\";\n",
       "    }\n",
       "    if (root.Bokeh !== undefined) {\n",
       "      if (el != null) {\n",
       "        el.textContent = \"BokehJS \" + root.Bokeh.version + \" successfully loaded.\";\n",
       "      }\n",
       "    } else if (Date.now() < root._bokeh_timeout) {\n",
       "      setTimeout(display_loaded, 100)\n",
       "    }\n",
       "  }\n",
       "\n",
       "\n",
       "  function run_callbacks() {\n",
       "    try {\n",
       "      root._bokeh_onload_callbacks.forEach(function(callback) {\n",
       "        if (callback != null)\n",
       "          callback();\n",
       "      });\n",
       "    } finally {\n",
       "      delete root._bokeh_onload_callbacks\n",
       "    }\n",
       "    console.debug(\"Bokeh: all callbacks have finished\");\n",
       "  }\n",
       "\n",
       "  function load_libs(css_urls, js_urls, callback) {\n",
       "    if (css_urls == null) css_urls = [];\n",
       "    if (js_urls == null) js_urls = [];\n",
       "\n",
       "    root._bokeh_onload_callbacks.push(callback);\n",
       "    if (root._bokeh_is_loading > 0) {\n",
       "      console.debug(\"Bokeh: BokehJS is being loaded, scheduling callback at\", now());\n",
       "      return null;\n",
       "    }\n",
       "    if (js_urls == null || js_urls.length === 0) {\n",
       "      run_callbacks();\n",
       "      return null;\n",
       "    }\n",
       "    console.debug(\"Bokeh: BokehJS not loaded, scheduling load and callback at\", now());\n",
       "    root._bokeh_is_loading = css_urls.length + js_urls.length;\n",
       "\n",
       "    function on_load() {\n",
       "      root._bokeh_is_loading--;\n",
       "      if (root._bokeh_is_loading === 0) {\n",
       "        console.debug(\"Bokeh: all BokehJS libraries/stylesheets loaded\");\n",
       "        run_callbacks()\n",
       "      }\n",
       "    }\n",
       "\n",
       "    function on_error(url) {\n",
       "      console.error(\"failed to load \" + url);\n",
       "    }\n",
       "\n",
       "    for (let i = 0; i < css_urls.length; i++) {\n",
       "      const url = css_urls[i];\n",
       "      const element = document.createElement(\"link\");\n",
       "      element.onload = on_load;\n",
       "      element.onerror = on_error.bind(null, url);\n",
       "      element.rel = \"stylesheet\";\n",
       "      element.type = \"text/css\";\n",
       "      element.href = url;\n",
       "      console.debug(\"Bokeh: injecting link tag for BokehJS stylesheet: \", url);\n",
       "      document.body.appendChild(element);\n",
       "    }\n",
       "\n",
       "    const hashes = {\"https://cdn.bokeh.org/bokeh/release/bokeh-2.3.2.min.js\": \"XypntL49z55iwGVUW4qsEu83zKL3XEcz0MjuGOQ9SlaaQ68X/g+k1FcioZi7oQAc\", \"https://cdn.bokeh.org/bokeh/release/bokeh-tables-2.3.2.min.js\": \"bEsM86IHGDTLCS0Zod8a8WM6Y4+lafAL/eSiyQcuPzinmWNgNO2/olUF0Z2Dkn5i\", \"https://cdn.bokeh.org/bokeh/release/bokeh-widgets-2.3.2.min.js\": \"TX0gSQTdXTTeScqxj6PVQxTiRW8DOoGVwinyi1D3kxv7wuxQ02XkOxv0xwiypcAH\"};\n",
       "\n",
       "    for (let i = 0; i < js_urls.length; i++) {\n",
       "      const url = js_urls[i];\n",
       "      const element = document.createElement('script');\n",
       "      element.onload = on_load;\n",
       "      element.onerror = on_error.bind(null, url);\n",
       "      element.async = false;\n",
       "      element.src = url;\n",
       "      if (url in hashes) {\n",
       "        element.crossOrigin = \"anonymous\";\n",
       "        element.integrity = \"sha384-\" + hashes[url];\n",
       "      }\n",
       "      console.debug(\"Bokeh: injecting script tag for BokehJS library: \", url);\n",
       "      document.head.appendChild(element);\n",
       "    }\n",
       "  };\n",
       "\n",
       "  function inject_raw_css(css) {\n",
       "    const element = document.createElement(\"style\");\n",
       "    element.appendChild(document.createTextNode(css));\n",
       "    document.body.appendChild(element);\n",
       "  }\n",
       "\n",
       "  \n",
       "  var js_urls = [\"https://cdn.bokeh.org/bokeh/release/bokeh-2.3.2.min.js\", \"https://cdn.bokeh.org/bokeh/release/bokeh-widgets-2.3.2.min.js\", \"https://cdn.bokeh.org/bokeh/release/bokeh-tables-2.3.2.min.js\"];\n",
       "  var css_urls = [];\n",
       "  \n",
       "\n",
       "  var inline_js = [\n",
       "    function(Bokeh) {\n",
       "      Bokeh.set_log_level(\"info\");\n",
       "    },\n",
       "    function(Bokeh) {\n",
       "    \n",
       "    \n",
       "    }\n",
       "  ];\n",
       "\n",
       "  function run_inline_js() {\n",
       "    \n",
       "    if (root.Bokeh !== undefined || force === true) {\n",
       "      \n",
       "    for (var i = 0; i < inline_js.length; i++) {\n",
       "      inline_js[i].call(root, root.Bokeh);\n",
       "    }\n",
       "    if (force === true) {\n",
       "        display_loaded();\n",
       "      }} else if (Date.now() < root._bokeh_timeout) {\n",
       "      setTimeout(run_inline_js, 100);\n",
       "    } else if (!root._bokeh_failed_load) {\n",
       "      console.log(\"Bokeh: BokehJS failed to load within specified timeout.\");\n",
       "      root._bokeh_failed_load = true;\n",
       "    } else if (force !== true) {\n",
       "      var cell = $(document.getElementById(\"1002\")).parents('.cell').data().cell;\n",
       "      cell.output_area.append_execute_result(NB_LOAD_WARNING)\n",
       "    }\n",
       "\n",
       "  }\n",
       "\n",
       "  if (root._bokeh_is_loading === 0) {\n",
       "    console.debug(\"Bokeh: BokehJS loaded, going straight to plotting\");\n",
       "    run_inline_js();\n",
       "  } else {\n",
       "    load_libs(css_urls, js_urls, function() {\n",
       "      console.debug(\"Bokeh: BokehJS plotting callback run at\", now());\n",
       "      run_inline_js();\n",
       "    });\n",
       "  }\n",
       "}(window));"
      ],
      "application/vnd.bokehjs_load.v0+json": "\n(function(root) {\n  function now() {\n    return new Date();\n  }\n\n  var force = true;\n\n  if (typeof root._bokeh_onload_callbacks === \"undefined\" || force === true) {\n    root._bokeh_onload_callbacks = [];\n    root._bokeh_is_loading = undefined;\n  }\n\n  \n\n  \n  if (typeof (root._bokeh_timeout) === \"undefined\" || force === true) {\n    root._bokeh_timeout = Date.now() + 5000;\n    root._bokeh_failed_load = false;\n  }\n\n  var NB_LOAD_WARNING = {'data': {'text/html':\n     \"<div style='background-color: #fdd'>\\n\"+\n     \"<p>\\n\"+\n     \"BokehJS does not appear to have successfully loaded. If loading BokehJS from CDN, this \\n\"+\n     \"may be due to a slow or bad network connection. Possible fixes:\\n\"+\n     \"</p>\\n\"+\n     \"<ul>\\n\"+\n     \"<li>re-rerun `output_notebook()` to attempt to load from CDN again, or</li>\\n\"+\n     \"<li>use INLINE resources instead, as so:</li>\\n\"+\n     \"</ul>\\n\"+\n     \"<code>\\n\"+\n     \"from bokeh.resources import INLINE\\n\"+\n     \"output_notebook(resources=INLINE)\\n\"+\n     \"</code>\\n\"+\n     \"</div>\"}};\n\n  function display_loaded() {\n    var el = document.getElementById(\"1002\");\n    if (el != null) {\n      el.textContent = \"BokehJS is loading...\";\n    }\n    if (root.Bokeh !== undefined) {\n      if (el != null) {\n        el.textContent = \"BokehJS \" + root.Bokeh.version + \" successfully loaded.\";\n      }\n    } else if (Date.now() < root._bokeh_timeout) {\n      setTimeout(display_loaded, 100)\n    }\n  }\n\n\n  function run_callbacks() {\n    try {\n      root._bokeh_onload_callbacks.forEach(function(callback) {\n        if (callback != null)\n          callback();\n      });\n    } finally {\n      delete root._bokeh_onload_callbacks\n    }\n    console.debug(\"Bokeh: all callbacks have finished\");\n  }\n\n  function load_libs(css_urls, js_urls, callback) {\n    if (css_urls == null) css_urls = [];\n    if (js_urls == null) js_urls = [];\n\n    root._bokeh_onload_callbacks.push(callback);\n    if (root._bokeh_is_loading > 0) {\n      console.debug(\"Bokeh: BokehJS is being loaded, scheduling callback at\", now());\n      return null;\n    }\n    if (js_urls == null || js_urls.length === 0) {\n      run_callbacks();\n      return null;\n    }\n    console.debug(\"Bokeh: BokehJS not loaded, scheduling load and callback at\", now());\n    root._bokeh_is_loading = css_urls.length + js_urls.length;\n\n    function on_load() {\n      root._bokeh_is_loading--;\n      if (root._bokeh_is_loading === 0) {\n        console.debug(\"Bokeh: all BokehJS libraries/stylesheets loaded\");\n        run_callbacks()\n      }\n    }\n\n    function on_error(url) {\n      console.error(\"failed to load \" + url);\n    }\n\n    for (let i = 0; i < css_urls.length; i++) {\n      const url = css_urls[i];\n      const element = document.createElement(\"link\");\n      element.onload = on_load;\n      element.onerror = on_error.bind(null, url);\n      element.rel = \"stylesheet\";\n      element.type = \"text/css\";\n      element.href = url;\n      console.debug(\"Bokeh: injecting link tag for BokehJS stylesheet: \", url);\n      document.body.appendChild(element);\n    }\n\n    const hashes = {\"https://cdn.bokeh.org/bokeh/release/bokeh-2.3.2.min.js\": \"XypntL49z55iwGVUW4qsEu83zKL3XEcz0MjuGOQ9SlaaQ68X/g+k1FcioZi7oQAc\", \"https://cdn.bokeh.org/bokeh/release/bokeh-tables-2.3.2.min.js\": \"bEsM86IHGDTLCS0Zod8a8WM6Y4+lafAL/eSiyQcuPzinmWNgNO2/olUF0Z2Dkn5i\", \"https://cdn.bokeh.org/bokeh/release/bokeh-widgets-2.3.2.min.js\": \"TX0gSQTdXTTeScqxj6PVQxTiRW8DOoGVwinyi1D3kxv7wuxQ02XkOxv0xwiypcAH\"};\n\n    for (let i = 0; i < js_urls.length; i++) {\n      const url = js_urls[i];\n      const element = document.createElement('script');\n      element.onload = on_load;\n      element.onerror = on_error.bind(null, url);\n      element.async = false;\n      element.src = url;\n      if (url in hashes) {\n        element.crossOrigin = \"anonymous\";\n        element.integrity = \"sha384-\" + hashes[url];\n      }\n      console.debug(\"Bokeh: injecting script tag for BokehJS library: \", url);\n      document.head.appendChild(element);\n    }\n  };\n\n  function inject_raw_css(css) {\n    const element = document.createElement(\"style\");\n    element.appendChild(document.createTextNode(css));\n    document.body.appendChild(element);\n  }\n\n  \n  var js_urls = [\"https://cdn.bokeh.org/bokeh/release/bokeh-2.3.2.min.js\", \"https://cdn.bokeh.org/bokeh/release/bokeh-widgets-2.3.2.min.js\", \"https://cdn.bokeh.org/bokeh/release/bokeh-tables-2.3.2.min.js\"];\n  var css_urls = [];\n  \n\n  var inline_js = [\n    function(Bokeh) {\n      Bokeh.set_log_level(\"info\");\n    },\n    function(Bokeh) {\n    \n    \n    }\n  ];\n\n  function run_inline_js() {\n    \n    if (root.Bokeh !== undefined || force === true) {\n      \n    for (var i = 0; i < inline_js.length; i++) {\n      inline_js[i].call(root, root.Bokeh);\n    }\n    if (force === true) {\n        display_loaded();\n      }} else if (Date.now() < root._bokeh_timeout) {\n      setTimeout(run_inline_js, 100);\n    } else if (!root._bokeh_failed_load) {\n      console.log(\"Bokeh: BokehJS failed to load within specified timeout.\");\n      root._bokeh_failed_load = true;\n    } else if (force !== true) {\n      var cell = $(document.getElementById(\"1002\")).parents('.cell').data().cell;\n      cell.output_area.append_execute_result(NB_LOAD_WARNING)\n    }\n\n  }\n\n  if (root._bokeh_is_loading === 0) {\n    console.debug(\"Bokeh: BokehJS loaded, going straight to plotting\");\n    run_inline_js();\n  } else {\n    load_libs(css_urls, js_urls, function() {\n      console.debug(\"Bokeh: BokehJS plotting callback run at\", now());\n      run_inline_js();\n    });\n  }\n}(window));"
     },
     "metadata": {},
     "output_type": "display_data"
    }
   ],
   "source": [
    "from bokeh.io import output_notebook, show\n",
    "from bokeh.plotting import figure\n",
    "output_notebook() # alternatively one could use output_file()"
   ]
  },
  {
   "cell_type": "markdown",
   "id": "6aa9142e",
   "metadata": {
    "cell_style": "split",
    "slideshow": {
     "slide_type": "subslide"
    }
   },
   "source": [
    "## ColumnDataSource (CDS)\n",
    "([reference](https://docs.bokeh.org/en/latest/docs/user_guide/data.html))\n",
    "\n",
    "- Useful for most interactive plotting\n",
    "- Can also take ```pandas``` ```DataFrame```s (not compulsory)\n",
    "- Required for [data streaming](https://docs.bokeh.org/en/latest/docs/user_guide/data.html#ajaxdatasource) (not covered in this talk)"
   ]
  },
  {
   "cell_type": "markdown",
   "id": "739b6170",
   "metadata": {
    "cell_style": "split",
    "slideshow": {
     "slide_type": "fragment"
    }
   },
   "source": [
    "## Layouts\n",
    "([reference](hhttps://docs.bokeh.org/en/latest/docs/user_guide/layout.html))\n",
    "\n",
    "- Describe how the plots are displayed\n",
    "- Following possibilities:\n",
    "    - [column](https://docs.bokeh.org/en/latest/docs/user_guide/layout.html#column-layout)\n",
    "    - [row](https://docs.bokeh.org/en/latest/docs/user_guide/layout.html#row-layout)\n",
    "    - [grid](https://docs.bokeh.org/en/latest/docs/user_guide/layout.html#grid-layout-for-plots)\n",
    "    - [general](https://docs.bokeh.org/en/latest/docs/user_guide/layout.html#general-grid-layout)"
   ]
  },
  {
   "cell_type": "markdown",
   "id": "393a3cdf",
   "metadata": {
    "slideshow": {
     "slide_type": "subslide"
    }
   },
   "source": [
    "#### Line plot with a CDS"
   ]
  },
  {
   "cell_type": "code",
   "execution_count": 2,
   "id": "d3cdec65",
   "metadata": {
    "slideshow": {
     "slide_type": "-"
    }
   },
   "outputs": [
    {
     "data": {
      "text/html": [
       "<div style=\"display: table;\"><div style=\"display: table-row;\"><div style=\"display: table-cell;\"><b title=\"bokeh.models.renderers.GlyphRenderer\">GlyphRenderer</b>(</div><div style=\"display: table-cell;\">id&nbsp;=&nbsp;'1073', <span id=\"1075\" style=\"cursor: pointer;\">&hellip;)</span></div></div><div class=\"1074\" style=\"display: none;\"><div style=\"display: table-cell;\"></div><div style=\"display: table-cell;\">data_source&nbsp;=&nbsp;ColumnDataSource(id='1003', ...),</div></div><div class=\"1074\" style=\"display: none;\"><div style=\"display: table-cell;\"></div><div style=\"display: table-cell;\">glyph&nbsp;=&nbsp;Circle(id='1071', ...),</div></div><div class=\"1074\" style=\"display: none;\"><div style=\"display: table-cell;\"></div><div style=\"display: table-cell;\">hover_glyph&nbsp;=&nbsp;None,</div></div><div class=\"1074\" style=\"display: none;\"><div style=\"display: table-cell;\"></div><div style=\"display: table-cell;\">js_event_callbacks&nbsp;=&nbsp;{},</div></div><div class=\"1074\" style=\"display: none;\"><div style=\"display: table-cell;\"></div><div style=\"display: table-cell;\">js_property_callbacks&nbsp;=&nbsp;{},</div></div><div class=\"1074\" style=\"display: none;\"><div style=\"display: table-cell;\"></div><div style=\"display: table-cell;\">level&nbsp;=&nbsp;'glyph',</div></div><div class=\"1074\" style=\"display: none;\"><div style=\"display: table-cell;\"></div><div style=\"display: table-cell;\">muted&nbsp;=&nbsp;False,</div></div><div class=\"1074\" style=\"display: none;\"><div style=\"display: table-cell;\"></div><div style=\"display: table-cell;\">muted_glyph&nbsp;=&nbsp;None,</div></div><div class=\"1074\" style=\"display: none;\"><div style=\"display: table-cell;\"></div><div style=\"display: table-cell;\">name&nbsp;=&nbsp;None,</div></div><div class=\"1074\" style=\"display: none;\"><div style=\"display: table-cell;\"></div><div style=\"display: table-cell;\">nonselection_glyph&nbsp;=&nbsp;Circle(id='1072', ...),</div></div><div class=\"1074\" style=\"display: none;\"><div style=\"display: table-cell;\"></div><div style=\"display: table-cell;\">selection_glyph&nbsp;=&nbsp;'auto',</div></div><div class=\"1074\" style=\"display: none;\"><div style=\"display: table-cell;\"></div><div style=\"display: table-cell;\">subscribed_events&nbsp;=&nbsp;[],</div></div><div class=\"1074\" style=\"display: none;\"><div style=\"display: table-cell;\"></div><div style=\"display: table-cell;\">syncable&nbsp;=&nbsp;True,</div></div><div class=\"1074\" style=\"display: none;\"><div style=\"display: table-cell;\"></div><div style=\"display: table-cell;\">tags&nbsp;=&nbsp;[],</div></div><div class=\"1074\" style=\"display: none;\"><div style=\"display: table-cell;\"></div><div style=\"display: table-cell;\">view&nbsp;=&nbsp;CDSView(id='1005', ...),</div></div><div class=\"1074\" style=\"display: none;\"><div style=\"display: table-cell;\"></div><div style=\"display: table-cell;\">visible&nbsp;=&nbsp;True,</div></div><div class=\"1074\" style=\"display: none;\"><div style=\"display: table-cell;\"></div><div style=\"display: table-cell;\">x_range_name&nbsp;=&nbsp;'default',</div></div><div class=\"1074\" style=\"display: none;\"><div style=\"display: table-cell;\"></div><div style=\"display: table-cell;\">y_range_name&nbsp;=&nbsp;'default')</div></div></div>\n",
       "<script>\n",
       "(function() {\n",
       "  var expanded = false;\n",
       "  var ellipsis = document.getElementById(\"1075\");\n",
       "  ellipsis.addEventListener(\"click\", function() {\n",
       "    var rows = document.getElementsByClassName(\"1074\");\n",
       "    for (var i = 0; i < rows.length; i++) {\n",
       "      var el = rows[i];\n",
       "      el.style.display = expanded ? \"none\" : \"table-row\";\n",
       "    }\n",
       "    ellipsis.innerHTML = expanded ? \"&hellip;)\" : \"&lsaquo;&lsaquo;&lsaquo;\";\n",
       "    expanded = !expanded;\n",
       "  });\n",
       "})();\n",
       "</script>\n"
      ],
      "text/plain": [
       "GlyphRenderer(id='1073', ...)"
      ]
     },
     "execution_count": 2,
     "metadata": {},
     "output_type": "execute_result"
    }
   ],
   "source": [
    "import numpy as np\n",
    "from bokeh.models import BooleanFilter, CDSView, ColumnDataSource as CDS\n",
    "\n",
    "#create CDS\n",
    "npoints = 100\n",
    "dline = dict(x=np.arange(npoints), \n",
    "             y=np.random.normal(0, 0.5, size=npoints),\n",
    "            )\n",
    "source = CDS(data=dline)\n",
    "\n",
    "#create CDS view (filtered CDS)\n",
    "positives = [True if k>0 else False for k in source.data['y']]\n",
    "view = CDSView(source=source, filters=[BooleanFilter(positives)])\n",
    "\n",
    "#figure options\n",
    "TOOLS = \"pan,hover,box_select,lasso_select,help\"\n",
    "fig_options = dict(plot_width=400, plot_height=400, tools=TOOLS)\n",
    "marker_options = dict(color='red', \n",
    "                      fill_color='orange', fill_alpha=0.8)\n",
    "\n",
    "#create figure with specifically chosen tools\n",
    "pleft = figure(**fig_options)\n",
    "pleft.scatter('x', 'y', source=source, **marker_options)\n",
    "\n",
    "#create another figure using the view\n",
    "pright = figure(y_range=pleft.y_range, **fig_options)\n",
    "pright.circle('x', 'y', source=source, view=view, **marker_options)"
   ]
  },
  {
   "cell_type": "code",
   "execution_count": 3,
   "id": "deab5bc2",
   "metadata": {
    "slideshow": {
     "slide_type": "subslide"
    }
   },
   "outputs": [
    {
     "data": {
      "text/html": [
       "\n",
       "\n",
       "\n",
       "\n",
       "\n",
       "\n",
       "  <div class=\"bk-root\" id=\"6d85f4c7-d2ca-4d04-bc60-ee4f3e3fc1ff\" data-root-id=\"1076\"></div>\n"
      ]
     },
     "metadata": {},
     "output_type": "display_data"
    },
    {
     "data": {
      "application/javascript": [
       "(function(root) {\n",
       "  function embed_document(root) {\n",
       "    \n",
       "  var docs_json = {\"8a26b323-8933-4750-95df-6cd452d7d310\":{\"defs\":[],\"roots\":{\"references\":[{\"attributes\":{\"children\":[{\"id\":\"1006\"},{\"id\":\"1041\"}]},\"id\":\"1076\",\"type\":\"Row\"},{\"attributes\":{},\"id\":\"1095\",\"type\":\"UnionRenderers\"},{\"attributes\":{},\"id\":\"1089\",\"type\":\"AllLabels\"},{\"attributes\":{\"overlay\":{\"id\":\"1029\"}},\"id\":\"1026\",\"type\":\"LassoSelectTool\"},{\"attributes\":{\"overlay\":{\"id\":\"1028\"}},\"id\":\"1025\",\"type\":\"BoxSelectTool\"},{\"attributes\":{\"fill_alpha\":0.5,\"fill_color\":\"lightgrey\",\"level\":\"overlay\",\"line_alpha\":1.0,\"line_color\":\"black\",\"line_dash\":[4,4],\"line_width\":2,\"syncable\":false,\"xs_units\":\"screen\",\"ys_units\":\"screen\"},\"id\":\"1029\",\"type\":\"PolyAnnotation\"},{\"attributes\":{\"active_multi\":null,\"tools\":[{\"id\":\"1023\"},{\"id\":\"1024\"},{\"id\":\"1025\"},{\"id\":\"1026\"},{\"id\":\"1027\"}]},\"id\":\"1030\",\"type\":\"Toolbar\"},{\"attributes\":{},\"id\":\"1023\",\"type\":\"PanTool\"},{\"attributes\":{\"callback\":null},\"id\":\"1024\",\"type\":\"HoverTool\"},{\"attributes\":{},\"id\":\"1027\",\"type\":\"HelpTool\"},{\"attributes\":{},\"id\":\"1080\",\"type\":\"Title\"},{\"attributes\":{},\"id\":\"1020\",\"type\":\"BasicTicker\"},{\"attributes\":{\"axis\":{\"id\":\"1019\"},\"dimension\":1,\"ticker\":null},\"id\":\"1022\",\"type\":\"Grid\"},{\"attributes\":{},\"id\":\"1042\",\"type\":\"DataRange1d\"},{\"attributes\":{},\"id\":\"1096\",\"type\":\"Selection\"},{\"attributes\":{\"fill_alpha\":{\"value\":0.1},\"fill_color\":{\"value\":\"orange\"},\"line_alpha\":{\"value\":0.1},\"line_color\":{\"value\":\"red\"},\"x\":{\"field\":\"x\"},\"y\":{\"field\":\"y\"}},\"id\":\"1072\",\"type\":\"Circle\"},{\"attributes\":{\"fill_alpha\":{\"value\":0.8},\"fill_color\":{\"value\":\"orange\"},\"line_color\":{\"value\":\"red\"},\"x\":{\"field\":\"x\"},\"y\":{\"field\":\"y\"}},\"id\":\"1071\",\"type\":\"Circle\"},{\"attributes\":{\"below\":[{\"id\":\"1049\"}],\"center\":[{\"id\":\"1052\"},{\"id\":\"1056\"}],\"height\":400,\"left\":[{\"id\":\"1053\"}],\"renderers\":[{\"id\":\"1073\"}],\"title\":{\"id\":\"1080\"},\"toolbar\":{\"id\":\"1064\"},\"width\":400,\"x_range\":{\"id\":\"1042\"},\"x_scale\":{\"id\":\"1045\"},\"y_range\":{\"id\":\"1009\"},\"y_scale\":{\"id\":\"1047\"}},\"id\":\"1041\",\"subtype\":\"Figure\",\"type\":\"Plot\"},{\"attributes\":{\"axis\":{\"id\":\"1015\"},\"ticker\":null},\"id\":\"1018\",\"type\":\"Grid\"},{\"attributes\":{},\"id\":\"1087\",\"type\":\"BasicTickFormatter\"},{\"attributes\":{},\"id\":\"1016\",\"type\":\"BasicTicker\"},{\"attributes\":{\"data_source\":{\"id\":\"1003\"},\"glyph\":{\"id\":\"1071\"},\"hover_glyph\":null,\"muted_glyph\":null,\"nonselection_glyph\":{\"id\":\"1072\"},\"view\":{\"id\":\"1005\"}},\"id\":\"1073\",\"type\":\"GlyphRenderer\"},{\"attributes\":{},\"id\":\"1045\",\"type\":\"LinearScale\"},{\"attributes\":{\"fill_alpha\":0.5,\"fill_color\":\"lightgrey\",\"level\":\"overlay\",\"line_alpha\":1.0,\"line_color\":\"black\",\"line_dash\":[4,4],\"line_width\":2,\"syncable\":false,\"xs_units\":\"screen\",\"ys_units\":\"screen\"},\"id\":\"1063\",\"type\":\"PolyAnnotation\"},{\"attributes\":{\"formatter\":{\"id\":\"1084\"},\"major_label_policy\":{\"id\":\"1086\"},\"ticker\":{\"id\":\"1020\"}},\"id\":\"1019\",\"type\":\"LinearAxis\"},{\"attributes\":{\"axis\":{\"id\":\"1049\"},\"ticker\":null},\"id\":\"1052\",\"type\":\"Grid\"},{\"attributes\":{\"formatter\":{\"id\":\"1081\"},\"major_label_policy\":{\"id\":\"1083\"},\"ticker\":{\"id\":\"1016\"}},\"id\":\"1015\",\"type\":\"LinearAxis\"},{\"attributes\":{\"formatter\":{\"id\":\"1090\"},\"major_label_policy\":{\"id\":\"1092\"},\"ticker\":{\"id\":\"1054\"}},\"id\":\"1053\",\"type\":\"LinearAxis\"},{\"attributes\":{},\"id\":\"1084\",\"type\":\"BasicTickFormatter\"},{\"attributes\":{},\"id\":\"1050\",\"type\":\"BasicTicker\"},{\"attributes\":{},\"id\":\"1047\",\"type\":\"LinearScale\"},{\"attributes\":{\"formatter\":{\"id\":\"1087\"},\"major_label_policy\":{\"id\":\"1089\"},\"ticker\":{\"id\":\"1050\"}},\"id\":\"1049\",\"type\":\"LinearAxis\"},{\"attributes\":{\"source\":{\"id\":\"1003\"}},\"id\":\"1040\",\"type\":\"CDSView\"},{\"attributes\":{\"active_multi\":null,\"tools\":[{\"id\":\"1057\"},{\"id\":\"1058\"},{\"id\":\"1059\"},{\"id\":\"1060\"},{\"id\":\"1061\"}]},\"id\":\"1064\",\"type\":\"Toolbar\"},{\"attributes\":{\"bottom_units\":\"screen\",\"fill_alpha\":0.5,\"fill_color\":\"lightgrey\",\"left_units\":\"screen\",\"level\":\"overlay\",\"line_alpha\":1.0,\"line_color\":\"black\",\"line_dash\":[4,4],\"line_width\":2,\"right_units\":\"screen\",\"syncable\":false,\"top_units\":\"screen\"},\"id\":\"1028\",\"type\":\"BoxAnnotation\"},{\"attributes\":{\"axis\":{\"id\":\"1053\"},\"dimension\":1,\"ticker\":null},\"id\":\"1056\",\"type\":\"Grid\"},{\"attributes\":{\"fill_alpha\":{\"value\":0.8},\"fill_color\":{\"value\":\"orange\"},\"line_color\":{\"value\":\"red\"},\"x\":{\"field\":\"x\"},\"y\":{\"field\":\"y\"}},\"id\":\"1037\",\"type\":\"Scatter\"},{\"attributes\":{},\"id\":\"1086\",\"type\":\"AllLabels\"},{\"attributes\":{},\"id\":\"1054\",\"type\":\"BasicTicker\"},{\"attributes\":{},\"id\":\"1013\",\"type\":\"LinearScale\"},{\"attributes\":{\"filters\":[{\"id\":\"1004\"}],\"source\":{\"id\":\"1003\"}},\"id\":\"1005\",\"type\":\"CDSView\"},{\"attributes\":{},\"id\":\"1061\",\"type\":\"HelpTool\"},{\"attributes\":{},\"id\":\"1092\",\"type\":\"AllLabels\"},{\"attributes\":{\"callback\":null},\"id\":\"1058\",\"type\":\"HoverTool\"},{\"attributes\":{},\"id\":\"1009\",\"type\":\"DataRange1d\"},{\"attributes\":{},\"id\":\"1057\",\"type\":\"PanTool\"},{\"attributes\":{\"data_source\":{\"id\":\"1003\"},\"glyph\":{\"id\":\"1037\"},\"hover_glyph\":null,\"muted_glyph\":null,\"nonselection_glyph\":{\"id\":\"1038\"},\"view\":{\"id\":\"1040\"}},\"id\":\"1039\",\"type\":\"GlyphRenderer\"},{\"attributes\":{\"fill_alpha\":{\"value\":0.1},\"fill_color\":{\"value\":\"orange\"},\"line_alpha\":{\"value\":0.1},\"line_color\":{\"value\":\"red\"},\"x\":{\"field\":\"x\"},\"y\":{\"field\":\"y\"}},\"id\":\"1038\",\"type\":\"Scatter\"},{\"attributes\":{},\"id\":\"1078\",\"type\":\"Title\"},{\"attributes\":{\"below\":[{\"id\":\"1015\"}],\"center\":[{\"id\":\"1018\"},{\"id\":\"1022\"}],\"height\":400,\"left\":[{\"id\":\"1019\"}],\"renderers\":[{\"id\":\"1039\"}],\"title\":{\"id\":\"1078\"},\"toolbar\":{\"id\":\"1030\"},\"width\":400,\"x_range\":{\"id\":\"1007\"},\"x_scale\":{\"id\":\"1011\"},\"y_range\":{\"id\":\"1009\"},\"y_scale\":{\"id\":\"1013\"}},\"id\":\"1006\",\"subtype\":\"Figure\",\"type\":\"Plot\"},{\"attributes\":{\"overlay\":{\"id\":\"1062\"}},\"id\":\"1059\",\"type\":\"BoxSelectTool\"},{\"attributes\":{\"overlay\":{\"id\":\"1063\"}},\"id\":\"1060\",\"type\":\"LassoSelectTool\"},{\"attributes\":{\"booleans\":[true,false,false,false,false,false,false,true,false,false,false,false,true,false,true,true,false,true,true,true,false,true,true,true,true,true,true,false,true,true,false,false,true,true,true,true,false,true,false,true,false,true,false,false,false,false,true,false,false,true,true,true,true,true,true,true,false,true,false,true,false,true,false,false,true,true,false,true,true,true,false,false,true,true,false,true,false,false,true,true,true,true,false,true,true,true,false,false,true,true,false,false,false,false,true,false,false,false,false,true]},\"id\":\"1004\",\"type\":\"BooleanFilter\"},{\"attributes\":{},\"id\":\"1090\",\"type\":\"BasicTickFormatter\"},{\"attributes\":{\"data\":{\"x\":[0,1,2,3,4,5,6,7,8,9,10,11,12,13,14,15,16,17,18,19,20,21,22,23,24,25,26,27,28,29,30,31,32,33,34,35,36,37,38,39,40,41,42,43,44,45,46,47,48,49,50,51,52,53,54,55,56,57,58,59,60,61,62,63,64,65,66,67,68,69,70,71,72,73,74,75,76,77,78,79,80,81,82,83,84,85,86,87,88,89,90,91,92,93,94,95,96,97,98,99],\"y\":{\"__ndarray__\":\"PdWgZyEC3j+zZ/x1WI/av1C90wG0We+/RmqtIg38wr9YOmX155bUvxyuwwitsKK/IsdUOpEm5L862p2ayQe+P5jhFGVFWtW/irDcKYewpb9M3QpiAuSxv3CvqzS3quG/HteggYE6yz8LsluEMabSv/vwkdfP/+A/762Jh4lw1T8CEIM1F2HSv2Xy/WtleNc/4MCkwkXN8D+3pWQWktLGP18dSh2J/NW/+LnU4D3o3z+P7Qs+8WLhP2i25SNWmeg/M2WbkzPU6j+YkVhUBxTXP8DDnhtecLA/6OAjNCTw6r95nDx8/q7BP1TQj0gDp+o/nEnwZpClv7+xPqPBACjgv3/081hdOt0/enx6WGoD4T9r5CEsYXXaP8hluFuEP/E/lM7/DI2c1b+7X0j595b4P77WlHOEP9u/+EhI/L3R6T876C1GMbXav0pUJtsE7+M/az9E4qPS1b8qos1qulDiv2VCLBT7Z6u/m1XNnKAF5L/JFUmcIpuoP5nHuYytmPO/Virt7tmr27+m7ekrwRfgP/2sCMn2seQ/2twqwo5d1D+qt0oZfLPTP5cSu7GSO+E/ORT6TvaGxT8GgrDTpiPMP9cnTG5VIvW/Q1K8L7artT9kLqkWMhjVv8bjAy0zYc4/rgfiN7D02L8S3BaDKcveP1+rHriTpOS/Vj6GdCfXlb8Q8DoaVMGuP6hc+TTW+dw/lztmlEx8078cidxUCczoP0mTaGP9Zd4/Qvgfw2zy2D9ZgV5GU1XRv67K3T5Paem/w6TZAmoh3D8/xs5k+lLjP98B6BLcN9S//LZG1rxv8D9lukzUXVTav9PZAqYd2Yq/uYIXYCaC5D9UvzI00U/LP6q2fwrA7Ns/IrEgczep6T+MkYJJtvrQv4KC/iy+9+M/h4cxYlKn1z+IhgaP2xfGPxumIOuxe++//laPK24ng7+4xOeZYxfWP9/8Rs/hWtg/ukcOd3Bwzb/mrKsi0f2vv99qS9KEn+C/174f2Jhmt79NKTqiYF3qP1hrSTqeaLO/DJv5R4wK37/BQkIECHvYv2n5GqDQ6tm/e/Ns5TNV3z8=\",\"dtype\":\"float64\",\"order\":\"little\",\"shape\":[100]}},\"selected\":{\"id\":\"1096\"},\"selection_policy\":{\"id\":\"1095\"}},\"id\":\"1003\",\"type\":\"ColumnDataSource\"},{\"attributes\":{},\"id\":\"1007\",\"type\":\"DataRange1d\"},{\"attributes\":{\"bottom_units\":\"screen\",\"fill_alpha\":0.5,\"fill_color\":\"lightgrey\",\"left_units\":\"screen\",\"level\":\"overlay\",\"line_alpha\":1.0,\"line_color\":\"black\",\"line_dash\":[4,4],\"line_width\":2,\"right_units\":\"screen\",\"syncable\":false,\"top_units\":\"screen\"},\"id\":\"1062\",\"type\":\"BoxAnnotation\"},{\"attributes\":{},\"id\":\"1011\",\"type\":\"LinearScale\"},{\"attributes\":{},\"id\":\"1081\",\"type\":\"BasicTickFormatter\"},{\"attributes\":{},\"id\":\"1083\",\"type\":\"AllLabels\"}],\"root_ids\":[\"1076\"]},\"title\":\"Bokeh Application\",\"version\":\"2.3.2\"}};\n",
       "  var render_items = [{\"docid\":\"8a26b323-8933-4750-95df-6cd452d7d310\",\"root_ids\":[\"1076\"],\"roots\":{\"1076\":\"6d85f4c7-d2ca-4d04-bc60-ee4f3e3fc1ff\"}}];\n",
       "  root.Bokeh.embed.embed_items_notebook(docs_json, render_items);\n",
       "\n",
       "  }\n",
       "  if (root.Bokeh !== undefined) {\n",
       "    embed_document(root);\n",
       "  } else {\n",
       "    var attempts = 0;\n",
       "    var timer = setInterval(function(root) {\n",
       "      if (root.Bokeh !== undefined) {\n",
       "        clearInterval(timer);\n",
       "        embed_document(root);\n",
       "      } else {\n",
       "        attempts++;\n",
       "        if (attempts > 100) {\n",
       "          clearInterval(timer);\n",
       "          console.log(\"Bokeh: ERROR: Unable to run BokehJS code because BokehJS library is missing\");\n",
       "        }\n",
       "      }\n",
       "    }, 10, root)\n",
       "  }\n",
       "})(window);"
      ],
      "application/vnd.bokehjs_exec.v0+json": ""
     },
     "metadata": {
      "application/vnd.bokehjs_exec.v0+json": {
       "id": "1076"
      }
     },
     "output_type": "display_data"
    }
   ],
   "source": [
    "#introducing layouts\n",
    "from bokeh.layouts import row\n",
    "lay = row(pleft, pright)\n",
    "show(lay)"
   ]
  },
  {
   "cell_type": "markdown",
   "id": "2277b8df",
   "metadata": {
    "slideshow": {
     "slide_type": "subslide"
    }
   },
   "source": [
    "There are three ways to build interactive plots with ```bokeh```:\n",
    "- the one you just saw\n",
    "    - <span style=\"color:green\">very straightforward</span> / <span style=\"color:red\">very limited</span>\n",
    "- use widgets together with the ```bokeh``` server\n",
    "    - <span style=\"color:green\">much more flexible, Python only</span> / <span style=\"color:red\">requires a running server, some limitations</span>\n",
    "- use widgets together with Javascript callbacks\n",
    "    - <span style=\"color:green\">\"infinitely\" flexible</span> / <span style=\"color:red\">requires some Javascript</span> (in general only a bit)"
   ]
  },
  {
   "cell_type": "markdown",
   "id": "838c894a",
   "metadata": {},
   "source": [
    "I personally feel the last one to be the best for almost all scenarios:\n",
    "- I could easily grasp the required Javscript although I did not know the language\n",
    "- You can do virtually anything with it"
   ]
  },
  {
   "cell_type": "markdown",
   "id": "b80ea603",
   "metadata": {
    "slideshow": {
     "slide_type": "slide"
    }
   },
   "source": [
    "## Using ```CustomJS``` callbacks\n",
    "\n",
    "[reference](https://docs.bokeh.org/en/latest/docs/user_guide/interaction/callbacks.html)"
   ]
  },
  {
   "cell_type": "code",
   "execution_count": 4,
   "id": "9efe6a56",
   "metadata": {
    "slideshow": {
     "slide_type": "-"
    }
   },
   "outputs": [],
   "source": [
    "#many widgets available: https://docs.bokeh.org/en/latest/docs/user_guide/interaction/widgets.html\n",
    "from bokeh.models import CustomJS, Slider\n"
   ]
  },
  {
   "cell_type": "code",
   "execution_count": 5,
   "id": "6d81e956",
   "metadata": {},
   "outputs": [
    {
     "data": {
      "text/html": [
       "\n",
       "\n",
       "\n",
       "\n",
       "\n",
       "\n",
       "  <div class=\"bk-root\" id=\"e5e1adba-93fd-4b8f-aead-1fea968ac5a9\" data-root-id=\"1209\"></div>\n"
      ]
     },
     "metadata": {},
     "output_type": "display_data"
    },
    {
     "data": {
      "application/javascript": [
       "(function(root) {\n",
       "  function embed_document(root) {\n",
       "    \n",
       "  var docs_json = {\"889d6c9e-8baa-4e5d-b575-deda34423890\":{\"defs\":[],\"roots\":{\"references\":[{\"attributes\":{\"end\":40,\"start\":1,\"value\":5},\"id\":\"1209\",\"type\":\"Slider\"}],\"root_ids\":[\"1209\"]},\"title\":\"Bokeh Application\",\"version\":\"2.3.2\"}};\n",
       "  var render_items = [{\"docid\":\"889d6c9e-8baa-4e5d-b575-deda34423890\",\"root_ids\":[\"1209\"],\"roots\":{\"1209\":\"e5e1adba-93fd-4b8f-aead-1fea968ac5a9\"}}];\n",
       "  root.Bokeh.embed.embed_items_notebook(docs_json, render_items);\n",
       "\n",
       "  }\n",
       "  if (root.Bokeh !== undefined) {\n",
       "    embed_document(root);\n",
       "  } else {\n",
       "    var attempts = 0;\n",
       "    var timer = setInterval(function(root) {\n",
       "      if (root.Bokeh !== undefined) {\n",
       "        clearInterval(timer);\n",
       "        embed_document(root);\n",
       "      } else {\n",
       "        attempts++;\n",
       "        if (attempts > 100) {\n",
       "          clearInterval(timer);\n",
       "          console.log(\"Bokeh: ERROR: Unable to run BokehJS code because BokehJS library is missing\");\n",
       "        }\n",
       "      }\n",
       "    }, 10, root)\n",
       "  }\n",
       "})(window);"
      ],
      "application/vnd.bokehjs_exec.v0+json": ""
     },
     "metadata": {
      "application/vnd.bokehjs_exec.v0+json": {
       "id": "1209"
      }
     },
     "output_type": "display_data"
    }
   ],
   "source": [
    "slider = Slider(start=1, end=40, value=5, step=1)\n",
    "show(slider)"
   ]
  },
  {
   "cell_type": "markdown",
   "id": "cce387c4",
   "metadata": {},
   "source": [
    "Let us add some data to the CDS:"
   ]
  },
  {
   "cell_type": "code",
   "execution_count": 6,
   "id": "0d997d25",
   "metadata": {},
   "outputs": [
    {
     "name": "stdout",
     "output_type": "stream",
     "text": [
      "CDS column #0: x\n",
      "CDS column #1: y\n",
      "CDS column #2: size\n"
     ]
    }
   ],
   "source": [
    "def print_cds_columns(s):\n",
    "    for i,col in enumerate(s.data):\n",
    "        print('CDS column #{}: {}'.format(i,col))\n",
    "\n",
    "source.data['size'] = np.ones(npoints)*10\n",
    "print_cds_columns(source)"
   ]
  },
  {
   "cell_type": "code",
   "execution_count": 7,
   "id": "51b940b4",
   "metadata": {},
   "outputs": [
    {
     "data": {
      "text/html": [
       "<div style=\"display: table;\"><div style=\"display: table-row;\"><div style=\"display: table-cell;\"><b title=\"bokeh.models.renderers.GlyphRenderer\">GlyphRenderer</b>(</div><div style=\"display: table-cell;\">id&nbsp;=&nbsp;'1265', <span id=\"1268\" style=\"cursor: pointer;\">&hellip;)</span></div></div><div class=\"1267\" style=\"display: none;\"><div style=\"display: table-cell;\"></div><div style=\"display: table-cell;\">data_source&nbsp;=&nbsp;ColumnDataSource(id='1003', ...),</div></div><div class=\"1267\" style=\"display: none;\"><div style=\"display: table-cell;\"></div><div style=\"display: table-cell;\">glyph&nbsp;=&nbsp;Circle(id='1263', ...),</div></div><div class=\"1267\" style=\"display: none;\"><div style=\"display: table-cell;\"></div><div style=\"display: table-cell;\">hover_glyph&nbsp;=&nbsp;None,</div></div><div class=\"1267\" style=\"display: none;\"><div style=\"display: table-cell;\"></div><div style=\"display: table-cell;\">js_event_callbacks&nbsp;=&nbsp;{},</div></div><div class=\"1267\" style=\"display: none;\"><div style=\"display: table-cell;\"></div><div style=\"display: table-cell;\">js_property_callbacks&nbsp;=&nbsp;{},</div></div><div class=\"1267\" style=\"display: none;\"><div style=\"display: table-cell;\"></div><div style=\"display: table-cell;\">level&nbsp;=&nbsp;'glyph',</div></div><div class=\"1267\" style=\"display: none;\"><div style=\"display: table-cell;\"></div><div style=\"display: table-cell;\">muted&nbsp;=&nbsp;False,</div></div><div class=\"1267\" style=\"display: none;\"><div style=\"display: table-cell;\"></div><div style=\"display: table-cell;\">muted_glyph&nbsp;=&nbsp;None,</div></div><div class=\"1267\" style=\"display: none;\"><div style=\"display: table-cell;\"></div><div style=\"display: table-cell;\">name&nbsp;=&nbsp;None,</div></div><div class=\"1267\" style=\"display: none;\"><div style=\"display: table-cell;\"></div><div style=\"display: table-cell;\">nonselection_glyph&nbsp;=&nbsp;Circle(id='1264', ...),</div></div><div class=\"1267\" style=\"display: none;\"><div style=\"display: table-cell;\"></div><div style=\"display: table-cell;\">selection_glyph&nbsp;=&nbsp;'auto',</div></div><div class=\"1267\" style=\"display: none;\"><div style=\"display: table-cell;\"></div><div style=\"display: table-cell;\">subscribed_events&nbsp;=&nbsp;[],</div></div><div class=\"1267\" style=\"display: none;\"><div style=\"display: table-cell;\"></div><div style=\"display: table-cell;\">syncable&nbsp;=&nbsp;True,</div></div><div class=\"1267\" style=\"display: none;\"><div style=\"display: table-cell;\"></div><div style=\"display: table-cell;\">tags&nbsp;=&nbsp;[],</div></div><div class=\"1267\" style=\"display: none;\"><div style=\"display: table-cell;\"></div><div style=\"display: table-cell;\">view&nbsp;=&nbsp;CDSView(id='1266', ...),</div></div><div class=\"1267\" style=\"display: none;\"><div style=\"display: table-cell;\"></div><div style=\"display: table-cell;\">visible&nbsp;=&nbsp;True,</div></div><div class=\"1267\" style=\"display: none;\"><div style=\"display: table-cell;\"></div><div style=\"display: table-cell;\">x_range_name&nbsp;=&nbsp;'default',</div></div><div class=\"1267\" style=\"display: none;\"><div style=\"display: table-cell;\"></div><div style=\"display: table-cell;\">y_range_name&nbsp;=&nbsp;'default')</div></div></div>\n",
       "<script>\n",
       "(function() {\n",
       "  var expanded = false;\n",
       "  var ellipsis = document.getElementById(\"1268\");\n",
       "  ellipsis.addEventListener(\"click\", function() {\n",
       "    var rows = document.getElementsByClassName(\"1267\");\n",
       "    for (var i = 0; i < rows.length; i++) {\n",
       "      var el = rows[i];\n",
       "      el.style.display = expanded ? \"none\" : \"table-row\";\n",
       "    }\n",
       "    ellipsis.innerHTML = expanded ? \"&hellip;)\" : \"&lsaquo;&lsaquo;&lsaquo;\";\n",
       "    expanded = !expanded;\n",
       "  });\n",
       "})();\n",
       "</script>\n"
      ],
      "text/plain": [
       "GlyphRenderer(id='1265', ...)"
      ]
     },
     "execution_count": 7,
     "metadata": {},
     "output_type": "execute_result"
    }
   ],
   "source": [
    "pint = figure(**fig_options)\n",
    "pint.circle('x', 'y', size='size', source=source, **marker_options)"
   ]
  },
  {
   "cell_type": "code",
   "execution_count": 8,
   "id": "25e7a8e7",
   "metadata": {},
   "outputs": [],
   "source": [
    "code = \"\"\"\n",
    "    var val = slider.value;\n",
    "    var data = s.data;\n",
    "    for (var i = 0; i<data['size'].length; i++) {{\n",
    "        data['size'][i] = val;\n",
    "    }}\n",
    "    s.change.emit();\n",
    "\"\"\"\n",
    "\n",
    "callback = CustomJS(args=dict(s=source, slider=slider), \n",
    "                    code=code)\n",
    "\n",
    "slider.title = 'Points size'\n",
    "slider.js_on_change('value', callback)"
   ]
  },
  {
   "cell_type": "code",
   "execution_count": 9,
   "id": "e27b933f",
   "metadata": {},
   "outputs": [
    {
     "data": {
      "text/html": [
       "\n",
       "\n",
       "\n",
       "\n",
       "\n",
       "\n",
       "  <div class=\"bk-root\" id=\"962dbe91-2ecd-4b46-a98a-da9220e0fdc5\" data-root-id=\"1296\"></div>\n"
      ]
     },
     "metadata": {},
     "output_type": "display_data"
    },
    {
     "data": {
      "application/javascript": [
       "(function(root) {\n",
       "  function embed_document(root) {\n",
       "    \n",
       "  var docs_json = {\"1c5fb7b6-3928-4311-ac0a-94b47a7f4e5e\":{\"defs\":[],\"roots\":{\"references\":[{\"attributes\":{\"children\":[{\"id\":\"1294\"},{\"id\":\"1295\"}]},\"id\":\"1296\",\"type\":\"Column\"},{\"attributes\":{},\"id\":\"1095\",\"type\":\"UnionRenderers\"},{\"attributes\":{\"bottom_units\":\"screen\",\"fill_alpha\":0.5,\"fill_color\":\"lightgrey\",\"left_units\":\"screen\",\"level\":\"overlay\",\"line_alpha\":1.0,\"line_color\":\"black\",\"line_dash\":[4,4],\"line_width\":2,\"right_units\":\"screen\",\"syncable\":false,\"top_units\":\"screen\"},\"id\":\"1254\",\"type\":\"BoxAnnotation\"},{\"attributes\":{},\"id\":\"1242\",\"type\":\"BasicTicker\"},{\"attributes\":{\"overlay\":{\"id\":\"1254\"}},\"id\":\"1251\",\"type\":\"BoxSelectTool\"},{\"attributes\":{\"fill_alpha\":{\"value\":0.1},\"fill_color\":{\"value\":\"orange\"},\"line_alpha\":{\"value\":0.1},\"line_color\":{\"value\":\"red\"},\"size\":{\"field\":\"size\"},\"x\":{\"field\":\"x\"},\"y\":{\"field\":\"y\"}},\"id\":\"1264\",\"type\":\"Circle\"},{\"attributes\":{\"fill_alpha\":0.5,\"fill_color\":\"lightgrey\",\"level\":\"overlay\",\"line_alpha\":1.0,\"line_color\":\"black\",\"line_dash\":[4,4],\"line_width\":2,\"syncable\":false,\"xs_units\":\"screen\",\"ys_units\":\"screen\"},\"id\":\"1255\",\"type\":\"PolyAnnotation\"},{\"attributes\":{},\"id\":\"1237\",\"type\":\"LinearScale\"},{\"attributes\":{},\"id\":\"1096\",\"type\":\"Selection\"},{\"attributes\":{},\"id\":\"1325\",\"type\":\"AllLabels\"},{\"attributes\":{},\"id\":\"1246\",\"type\":\"BasicTicker\"},{\"attributes\":{\"axis\":{\"id\":\"1241\"},\"ticker\":null},\"id\":\"1244\",\"type\":\"Grid\"},{\"attributes\":{},\"id\":\"1249\",\"type\":\"PanTool\"},{\"attributes\":{},\"id\":\"1326\",\"type\":\"BasicTickFormatter\"},{\"attributes\":{\"formatter\":{\"id\":\"1323\"},\"major_label_policy\":{\"id\":\"1325\"},\"ticker\":{\"id\":\"1242\"}},\"id\":\"1241\",\"type\":\"LinearAxis\"},{\"attributes\":{},\"id\":\"1328\",\"type\":\"AllLabels\"},{\"attributes\":{},\"id\":\"1322\",\"type\":\"Title\"},{\"attributes\":{\"fill_alpha\":{\"value\":0.8},\"fill_color\":{\"value\":\"orange\"},\"line_color\":{\"value\":\"red\"},\"size\":{\"field\":\"size\"},\"x\":{\"field\":\"x\"},\"y\":{\"field\":\"y\"}},\"id\":\"1263\",\"type\":\"Circle\"},{\"attributes\":{\"callback\":null},\"id\":\"1250\",\"type\":\"HoverTool\"},{\"attributes\":{\"source\":{\"id\":\"1003\"}},\"id\":\"1266\",\"type\":\"CDSView\"},{\"attributes\":{},\"id\":\"1233\",\"type\":\"DataRange1d\"},{\"attributes\":{},\"id\":\"1253\",\"type\":\"HelpTool\"},{\"attributes\":{\"children\":[{\"id\":\"1209\"}]},\"id\":\"1294\",\"type\":\"Row\"},{\"attributes\":{\"active_multi\":null,\"tools\":[{\"id\":\"1249\"},{\"id\":\"1250\"},{\"id\":\"1251\"},{\"id\":\"1252\"},{\"id\":\"1253\"}]},\"id\":\"1256\",\"type\":\"Toolbar\"},{\"attributes\":{\"overlay\":{\"id\":\"1255\"}},\"id\":\"1252\",\"type\":\"LassoSelectTool\"},{\"attributes\":{\"below\":[{\"id\":\"1241\"}],\"center\":[{\"id\":\"1244\"},{\"id\":\"1248\"}],\"height\":400,\"left\":[{\"id\":\"1245\"}],\"renderers\":[{\"id\":\"1265\"}],\"title\":{\"id\":\"1322\"},\"toolbar\":{\"id\":\"1256\"},\"width\":400,\"x_range\":{\"id\":\"1233\"},\"x_scale\":{\"id\":\"1237\"},\"y_range\":{\"id\":\"1235\"},\"y_scale\":{\"id\":\"1239\"}},\"id\":\"1232\",\"subtype\":\"Figure\",\"type\":\"Plot\"},{\"attributes\":{\"children\":[{\"id\":\"1232\"}]},\"id\":\"1295\",\"type\":\"Row\"},{\"attributes\":{},\"id\":\"1235\",\"type\":\"DataRange1d\"},{\"attributes\":{\"data\":{\"size\":{\"__ndarray__\":\"AAAAAAAAJEAAAAAAAAAkQAAAAAAAACRAAAAAAAAAJEAAAAAAAAAkQAAAAAAAACRAAAAAAAAAJEAAAAAAAAAkQAAAAAAAACRAAAAAAAAAJEAAAAAAAAAkQAAAAAAAACRAAAAAAAAAJEAAAAAAAAAkQAAAAAAAACRAAAAAAAAAJEAAAAAAAAAkQAAAAAAAACRAAAAAAAAAJEAAAAAAAAAkQAAAAAAAACRAAAAAAAAAJEAAAAAAAAAkQAAAAAAAACRAAAAAAAAAJEAAAAAAAAAkQAAAAAAAACRAAAAAAAAAJEAAAAAAAAAkQAAAAAAAACRAAAAAAAAAJEAAAAAAAAAkQAAAAAAAACRAAAAAAAAAJEAAAAAAAAAkQAAAAAAAACRAAAAAAAAAJEAAAAAAAAAkQAAAAAAAACRAAAAAAAAAJEAAAAAAAAAkQAAAAAAAACRAAAAAAAAAJEAAAAAAAAAkQAAAAAAAACRAAAAAAAAAJEAAAAAAAAAkQAAAAAAAACRAAAAAAAAAJEAAAAAAAAAkQAAAAAAAACRAAAAAAAAAJEAAAAAAAAAkQAAAAAAAACRAAAAAAAAAJEAAAAAAAAAkQAAAAAAAACRAAAAAAAAAJEAAAAAAAAAkQAAAAAAAACRAAAAAAAAAJEAAAAAAAAAkQAAAAAAAACRAAAAAAAAAJEAAAAAAAAAkQAAAAAAAACRAAAAAAAAAJEAAAAAAAAAkQAAAAAAAACRAAAAAAAAAJEAAAAAAAAAkQAAAAAAAACRAAAAAAAAAJEAAAAAAAAAkQAAAAAAAACRAAAAAAAAAJEAAAAAAAAAkQAAAAAAAACRAAAAAAAAAJEAAAAAAAAAkQAAAAAAAACRAAAAAAAAAJEAAAAAAAAAkQAAAAAAAACRAAAAAAAAAJEAAAAAAAAAkQAAAAAAAACRAAAAAAAAAJEAAAAAAAAAkQAAAAAAAACRAAAAAAAAAJEAAAAAAAAAkQAAAAAAAACRAAAAAAAAAJEAAAAAAAAAkQAAAAAAAACRAAAAAAAAAJEAAAAAAAAAkQAAAAAAAACRAAAAAAAAAJEA=\",\"dtype\":\"float64\",\"order\":\"little\",\"shape\":[100]},\"x\":[0,1,2,3,4,5,6,7,8,9,10,11,12,13,14,15,16,17,18,19,20,21,22,23,24,25,26,27,28,29,30,31,32,33,34,35,36,37,38,39,40,41,42,43,44,45,46,47,48,49,50,51,52,53,54,55,56,57,58,59,60,61,62,63,64,65,66,67,68,69,70,71,72,73,74,75,76,77,78,79,80,81,82,83,84,85,86,87,88,89,90,91,92,93,94,95,96,97,98,99],\"y\":{\"__ndarray__\":\"PdWgZyEC3j+zZ/x1WI/av1C90wG0We+/RmqtIg38wr9YOmX155bUvxyuwwitsKK/IsdUOpEm5L862p2ayQe+P5jhFGVFWtW/irDcKYewpb9M3QpiAuSxv3CvqzS3quG/HteggYE6yz8LsluEMabSv/vwkdfP/+A/762Jh4lw1T8CEIM1F2HSv2Xy/WtleNc/4MCkwkXN8D+3pWQWktLGP18dSh2J/NW/+LnU4D3o3z+P7Qs+8WLhP2i25SNWmeg/M2WbkzPU6j+YkVhUBxTXP8DDnhtecLA/6OAjNCTw6r95nDx8/q7BP1TQj0gDp+o/nEnwZpClv7+xPqPBACjgv3/081hdOt0/enx6WGoD4T9r5CEsYXXaP8hluFuEP/E/lM7/DI2c1b+7X0j595b4P77WlHOEP9u/+EhI/L3R6T876C1GMbXav0pUJtsE7+M/az9E4qPS1b8qos1qulDiv2VCLBT7Z6u/m1XNnKAF5L/JFUmcIpuoP5nHuYytmPO/Virt7tmr27+m7ekrwRfgP/2sCMn2seQ/2twqwo5d1D+qt0oZfLPTP5cSu7GSO+E/ORT6TvaGxT8GgrDTpiPMP9cnTG5VIvW/Q1K8L7artT9kLqkWMhjVv8bjAy0zYc4/rgfiN7D02L8S3BaDKcveP1+rHriTpOS/Vj6GdCfXlb8Q8DoaVMGuP6hc+TTW+dw/lztmlEx8078cidxUCczoP0mTaGP9Zd4/Qvgfw2zy2D9ZgV5GU1XRv67K3T5Paem/w6TZAmoh3D8/xs5k+lLjP98B6BLcN9S//LZG1rxv8D9lukzUXVTav9PZAqYd2Yq/uYIXYCaC5D9UvzI00U/LP6q2fwrA7Ns/IrEgczep6T+MkYJJtvrQv4KC/iy+9+M/h4cxYlKn1z+IhgaP2xfGPxumIOuxe++//laPK24ng7+4xOeZYxfWP9/8Rs/hWtg/ukcOd3Bwzb/mrKsi0f2vv99qS9KEn+C/174f2Jhmt79NKTqiYF3qP1hrSTqeaLO/DJv5R4wK37/BQkIECHvYv2n5GqDQ6tm/e/Ns5TNV3z8=\",\"dtype\":\"float64\",\"order\":\"little\",\"shape\":[100]}},\"selected\":{\"id\":\"1096\"},\"selection_policy\":{\"id\":\"1095\"}},\"id\":\"1003\",\"type\":\"ColumnDataSource\"},{\"attributes\":{},\"id\":\"1239\",\"type\":\"LinearScale\"},{\"attributes\":{\"data_source\":{\"id\":\"1003\"},\"glyph\":{\"id\":\"1263\"},\"hover_glyph\":null,\"muted_glyph\":null,\"nonselection_glyph\":{\"id\":\"1264\"},\"view\":{\"id\":\"1266\"}},\"id\":\"1265\",\"type\":\"GlyphRenderer\"},{\"attributes\":{\"args\":{\"s\":{\"id\":\"1003\"},\"slider\":{\"id\":\"1209\"}},\"code\":\"\\n    var val = slider.value;\\n    var data = s.data;\\n    for (var i = 0; i<data['size'].length; i++) {{\\n        data['size'][i] = val;\\n    }}\\n    s.change.emit();\\n\"},\"id\":\"1269\",\"type\":\"CustomJS\"},{\"attributes\":{},\"id\":\"1323\",\"type\":\"BasicTickFormatter\"},{\"attributes\":{\"axis\":{\"id\":\"1245\"},\"dimension\":1,\"ticker\":null},\"id\":\"1248\",\"type\":\"Grid\"},{\"attributes\":{\"end\":40,\"js_property_callbacks\":{\"change:value\":[{\"id\":\"1269\"}]},\"start\":1,\"title\":\"Points size\",\"value\":5},\"id\":\"1209\",\"type\":\"Slider\"},{\"attributes\":{\"formatter\":{\"id\":\"1326\"},\"major_label_policy\":{\"id\":\"1328\"},\"ticker\":{\"id\":\"1246\"}},\"id\":\"1245\",\"type\":\"LinearAxis\"}],\"root_ids\":[\"1296\"]},\"title\":\"Bokeh Application\",\"version\":\"2.3.2\"}};\n",
       "  var render_items = [{\"docid\":\"1c5fb7b6-3928-4311-ac0a-94b47a7f4e5e\",\"root_ids\":[\"1296\"],\"roots\":{\"1296\":\"962dbe91-2ecd-4b46-a98a-da9220e0fdc5\"}}];\n",
       "  root.Bokeh.embed.embed_items_notebook(docs_json, render_items);\n",
       "\n",
       "  }\n",
       "  if (root.Bokeh !== undefined) {\n",
       "    embed_document(root);\n",
       "  } else {\n",
       "    var attempts = 0;\n",
       "    var timer = setInterval(function(root) {\n",
       "      if (root.Bokeh !== undefined) {\n",
       "        clearInterval(timer);\n",
       "        embed_document(root);\n",
       "      } else {\n",
       "        attempts++;\n",
       "        if (attempts > 100) {\n",
       "          clearInterval(timer);\n",
       "          console.log(\"Bokeh: ERROR: Unable to run BokehJS code because BokehJS library is missing\");\n",
       "        }\n",
       "      }\n",
       "    }, 10, root)\n",
       "  }\n",
       "})(window);"
      ],
      "application/vnd.bokehjs_exec.v0+json": ""
     },
     "metadata": {
      "application/vnd.bokehjs_exec.v0+json": {
       "id": "1296"
      }
     },
     "output_type": "display_data"
    }
   ],
   "source": [
    "from bokeh.layouts import layout\n",
    "lay = layout([[slider],[pint]])\n",
    "show(lay)"
   ]
  },
  {
   "cell_type": "code",
   "execution_count": null,
   "id": "fdd6fc6b",
   "metadata": {},
   "outputs": [],
   "source": [
    "code = \"\"\"\n",
    "    var from_exp = rs_exp.value[0];\n",
    "    var from_gau = rs_gau.value[0];\n",
    "    var from_exp2 = rs_exp2.value[0];\n",
    "    var from_gau2 = rs_gau2.value[0];\n",
    "    \n",
    "    var to_exp = rs_exp.value[1];\n",
    "    var to_gau = rs_gau.value[1];\n",
    "    var to_exp2 = rs_exp2.value[1];\n",
    "    var to_gau2 = rs_gau2.value[1];\n",
    "    \n",
    "    var d_exp  = s.data['exp'];\n",
    "    var d_gau  = s.data['gau'];\n",
    "    var d_exp2 = s.data['exp2'];\n",
    "    var d_gau2 = s.data['gau2'];\n",
    "    \n",
    "    var dup_exp  = sup.data['exp'];\n",
    "    var dup_gau  = sup.data['gau'];\n",
    "    var dup_exp2 = sup.data['exp2'];\n",
    "    var dup_gau2 = sup.data['gau2'];\n",
    "    dup_exp  = [];\n",
    "    dup_gau  = [];\n",
    "    dup_exp2 = [];\n",
    "    dup_gau2 = [];\n",
    "    \n",
    "    for (var i=0; i<d_exp.length; i++) {\n",
    "        if (d_exp[i] > from_exp && d_exp[i] < to_exp) {\n",
    "            dup_exp.push(d_exp[i])\n",
    "        }\n",
    "        if (d_gau[i] > from_gau && d_gau[i] < to_gau) {\n",
    "            dup_gau.push(d_gau[i])\n",
    "        }\n",
    "        if (d_exp2[i] > from_exp2 && d_exp2[i] < to_exp2) {\n",
    "            dup_exp2.push(d_exp2[i])\n",
    "        }\n",
    "        if (d_gau2[i] > from_gau2 && d_gau2[i] < to_gau2) {\n",
    "            d_gau2.push(d_gau2[i])\n",
    "        }        \n",
    "    }   \n",
    "        \n",
    "    sup.change.emit();\n",
    "    s.change.emit();\n",
    "\"\"\"\n",
    "\n",
    "callback = CustomJS(args=dict(s=source, sup=source_update,\n",
    "                              rs_exp=rs_exp, rs_gau=rs_gau,\n",
    "                              rs_exp2=rs_exp2, rs_gau2=rs_gau2), \n",
    "                    code=code)\n",
    "\n",
    "rs_exp.js_on_change('value', callback)\n",
    "rs_gau.js_on_change('value', callback)\n",
    "rs_exp2.js_on_change('value', callback)\n",
    "rs_gau2.js_on_change('value', callback)"
   ]
  },
  {
   "cell_type": "markdown",
   "id": "2e802327",
   "metadata": {},
   "source": [
    "### Examples by the community:\n",
    "\n",
    "- [Bioinformatics](https://pirovc.github.io/grimer-reports/others/placenta_wgs.html)\n",
    "- [COVID interactive paper](https://jacob-barhak.github.io/COVID19_Ensemble_2021.html)\n",
    "- [Fitness](https://hnagib.com/)\n",
    "- [Mortality rates](https://cjdixon.s3-ap-southeast-2.amazonaws.com/bokeh/mortality_rates.html)\n",
    "- [Simple simulation](https://polyas-urn.herokuapp.com/app)\n",
    " "
   ]
  }
 ],
 "metadata": {
  "celltoolbar": "Slideshow",
  "kernelspec": {
   "display_name": "PyHEP21",
   "language": "python",
   "name": "pyhep21"
  },
  "language_info": {
   "codemirror_mode": {
    "name": "ipython",
    "version": 3
   },
   "file_extension": ".py",
   "mimetype": "text/x-python",
   "name": "python",
   "nbconvert_exporter": "python",
   "pygments_lexer": "ipython3",
   "version": "3.9.5"
  }
 },
 "nbformat": 4,
 "nbformat_minor": 5
}
