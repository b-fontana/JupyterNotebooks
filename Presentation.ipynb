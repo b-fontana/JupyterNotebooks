{
 "cells": [
  {
   "cell_type": "markdown",
   "id": "6e7b032f",
   "metadata": {
    "cell_style": "center",
    "slideshow": {
     "slide_type": "slide"
    }
   },
   "source": [
    "# Motivation\n"
   ]
  },
  {
   "cell_type": "markdown",
   "id": "d9c34fb8",
   "metadata": {
    "cell_style": "center",
    "slideshow": {
     "slide_type": "subslide"
    }
   },
   "source": [
    " 1. Get people to know, enjoy and use ```bokeh```"
   ]
  },
  {
   "cell_type": "markdown",
   "id": "0edbbaae",
   "metadata": {
    "slideshow": {
     "slide_type": "fragment"
    }
   },
   "source": [
    "  - Does not seem to be popular in HEP. However:\n",
    "      - LHCb uses it for [data quality monitoring](https://cds.cern.ch/record/2298467)\n",
    "      - It was [mentioned](https://arxiv.org/abs/1811.10309) by the [HEP Software Foundation](https://hepsoftwarefoundation.org/) (but dismissed)"
   ]
  },
  {
   "cell_type": "markdown",
   "id": "a9f08fc9",
   "metadata": {
    "slideshow": {
     "slide_type": "fragment"
    }
   },
   "source": [
    "  - It is popular and known in other areas, Astrophysics being an example"
   ]
  },
  {
   "cell_type": "markdown",
   "id": "8473cfe0",
   "metadata": {
    "slideshow": {
     "slide_type": "fragment"
    }
   },
   "source": [
    " - As other plotting alternatives, it is shadowed by the ubiquitousness of ```matplotlib``` "
   ]
  },
  {
   "cell_type": "markdown",
   "id": "6334f167",
   "metadata": {
    "slideshow": {
     "slide_type": "subslide"
    }
   },
   "source": [
    " 2. I personally think ```bokeh``` works better than ```matplotlib``` for the vast majority of interactive and non-interactive plots imaginable. "
   ]
  },
  {
   "cell_type": "markdown",
   "id": "98f262bf",
   "metadata": {
    "slideshow": {
     "slide_type": "fragment"
    }
   },
   "source": [
    "```matplotlib``` is still more popular because:\n",
    " - it is much older and mature (started in 2003)"
   ]
  },
  {
   "cell_type": "markdown",
   "id": "30bf518c",
   "metadata": {
    "slideshow": {
     "slide_type": "fragment"
    }
   },
   "source": [
    "   - all default examples on StackOverflow use ```matplotlib```"
   ]
  },
  {
   "cell_type": "markdown",
   "id": "68791412",
   "metadata": {
    "slideshow": {
     "slide_type": "fragment"
    }
   },
   "source": [
    "   - people have the tendency to resist change"
   ]
  },
  {
   "cell_type": "markdown",
   "id": "2755ee16",
   "metadata": {
    "slideshow": {
     "slide_type": "subslide"
    }
   },
   "source": [
    "## Disclaimers\n",
    "\n",
    "- This tutorial is heavily opinionated: the \"best\" plotting library can be different for different people (but ```bokeh``` is the best for me, and I will try to justify it)\n",
    "- I am not an expert on any of the libraries I am going to mention: fell free to correct me if it is needed"
   ]
  },
  {
   "cell_type": "markdown",
   "id": "519ecfd9",
   "metadata": {
    "slideshow": {
     "slide_type": "slide"
    }
   },
   "source": [
    "# Why even thinking about data visualization?"
   ]
  },
  {
   "cell_type": "markdown",
   "id": "3eeb561b",
   "metadata": {
    "slideshow": {
     "slide_type": "subslide"
    }
   },
   "source": [
    "# Common issues\n",
    "\n",
    "### Matplotlib unfriendliness\n",
    "\n",
    "- multiple APIs for the same things\n",
    "- unreliable documentation\n",
    "- ```kwargs```\n",
    "\n",
    "###"
   ]
  },
  {
   "cell_type": "markdown",
   "id": "b7f69430",
   "metadata": {
    "slideshow": {
     "slide_type": "slide"
    }
   },
   "source": [
    "# Basic plotting"
   ]
  },
  {
   "cell_type": "markdown",
   "id": "1a0f93e5",
   "metadata": {
    "slideshow": {
     "slide_type": "subslide"
    }
   },
   "source": [
    "### We will be comparing:\n",
    "\n",
    "- [matplotlib](https://matplotlib.org/stable/index.html)\n",
    "- [plotnine](https://plotnine.readthedocs.io/en/stable/index.html)\n",
    "- [altair](https://altair-viz.github.io/)\n",
    "- [bokeh](https://bokeh.org/)\n",
    "\n",
    "#### when performing arguably two of the most common plots:\n",
    "\n",
    "- line plot\n",
    "- histogram"
   ]
  },
  {
   "cell_type": "markdown",
   "id": "09a47996",
   "metadata": {
    "slideshow": {
     "slide_type": "subslide"
    }
   },
   "source": [
    "We start by defining everything that will be common to all libraries:"
   ]
  },
  {
   "cell_type": "code",
   "execution_count": 1,
   "id": "09c167ed",
   "metadata": {
    "slideshow": {
     "slide_type": "-"
    }
   },
   "outputs": [],
   "source": [
    "import numpy as np\n",
    "from types import SimpleNamespace\n",
    "\n",
    "#data for line plots\n",
    "dline = SimpleNamespace( x=[1,2,3,4,5,6,7,8,9], \n",
    "                         y=[6,7,2,8,9,3,4,5,1],\n",
    "                         size=15,\n",
    "                         line_color='blue',\n",
    "                         out_color='red', \n",
    "                         fill_color='orange',\n",
    "                         fill_alpha=1 )\n",
    "\n",
    "#data for histograms\n",
    "mu, sigma, npoints = 0, 0.5, 1000\n",
    "nbins = 35\n",
    "dhist = np.random.normal(mu, sigma, npoints)\n",
    "hist_, edges_ = np.histogram(dhist, density=False, bins=nbins)\n",
    "dhist = SimpleNamespace( data=dhist, hist=hist_, edges=edges_, nbins=nbins)"
   ]
  },
  {
   "cell_type": "markdown",
   "id": "7a05af47",
   "metadata": {
    "slideshow": {
     "slide_type": "subslide"
    }
   },
   "source": [
    "## ```matplotlib```\n",
    "\n",
    "- popular\n",
    "- mature (started in 2003)\n",
    "- provides a MATLAB-like interface (which can be quite unpythonic)"
   ]
  },
  {
   "cell_type": "code",
   "execution_count": 2,
   "id": "f85a8f9b",
   "metadata": {
    "slideshow": {
     "slide_type": "-"
    }
   },
   "outputs": [],
   "source": [
    "import matplotlib.pyplot as plt"
   ]
  },
  {
   "cell_type": "markdown",
   "id": "12676e38",
   "metadata": {
    "slideshow": {
     "slide_type": "subslide"
    }
   },
   "source": [
    "#### Line plot:"
   ]
  },
  {
   "cell_type": "code",
   "execution_count": 3,
   "id": "fa32df3a",
   "metadata": {
    "slideshow": {
     "slide_type": "-"
    }
   },
   "outputs": [
    {
     "data": {
      "image/png": "[encoded data removed]",
      "text/plain": [
       "<Figure size 432x288 with 1 Axes>"
      ]
     },
     "metadata": {
      "needs_background": "light"
     },
     "output_type": "display_data"
    }
   ],
   "source": [
    "plt.plot(dline.x, dline.y, color=dline.line_color)\n",
    "\n",
    "plt_marker_options = dict(s=10*dline.size, color=dline.fill_color, marker='o',\n",
    "                          edgecolor=dline.out_color,\n",
    "                          alpha=dline.fill_alpha)\n",
    "plt.scatter(dline.x, dline.y, **plt_marker_options)\n",
    "plt.show()"
   ]
  },
  {
   "cell_type": "markdown",
   "id": "1f5e8a81",
   "metadata": {
    "slideshow": {
     "slide_type": "subslide"
    }
   },
   "source": [
    "#### Histogram ([multiple APIs](https://matplotlib.org/stable/api/index.html)):"
   ]
  },
  {
   "cell_type": "code",
   "execution_count": 4,
   "id": "d071bd0c",
   "metadata": {
    "cell_style": "split"
   },
   "outputs": [
    {
     "data": {
      "image/png": "[encoded data removed]",
      "text/plain": [
       "<Figure size 432x288 with 1 Axes>"
      ]
     },
     "metadata": {
      "needs_background": "light"
     },
     "output_type": "display_data"
    }
   ],
   "source": [
    "plt.hist(dhist.data, bins=dhist.nbins)\n",
    "plt.show()"
   ]
  },
  {
   "cell_type": "code",
   "execution_count": 5,
   "id": "ffb8b4ca",
   "metadata": {
    "cell_style": "split"
   },
   "outputs": [
    {
     "data": {
      "image/png": "[encoded data removed]",
      "text/plain": [
       "<Figure size 432x288 with 1 Axes>"
      ]
     },
     "metadata": {
      "needs_background": "light"
     },
     "output_type": "display_data"
    }
   ],
   "source": [
    "fig = plt.figure()\n",
    "ax = fig.add_subplot(111)\n",
    "ax.hist(dhist.data, bins=dhist.nbins)\n",
    "plt.show()\n",
    "#we can create Figure and Axes instances explicitly"
   ]
  },
  {
   "cell_type": "markdown",
   "id": "13ff5c75",
   "metadata": {
    "slideshow": {
     "slide_type": "subslide"
    }
   },
   "source": [
    "## Remarks\n",
    "\n",
    "- ```fig``` vs ```ax``` is a constant source of confusion\n",
    "\n",
    "- ```set_*``` methods are everywhere, where Python's ```property``` could be used instead\n",
    "\n",
    "- It becomes quite complex to build a reasonably flexible subplotting interface (this is very easy with ```bokeh```, we will get there)\n",
    "\n",
    "- Note that the functions we are calling are not based on what we are plotting, but instead on the actions we are performing (```plot``` and ```scatter``` instead of ```line``` and ```circles```):\n",
    "   - less flexible/modular in the long-run\n",
    "   - more complex to control and understand individual properties\n",
    "\n",
    "- According to the [official documentation](https://matplotlib.org/stable/gallery/subplots_axes_and_figures/subplots_demo.html), the preferred way to create a single figure is to call ```subplots()```!"
   ]
  },
  {
   "cell_type": "markdown",
   "id": "7bd7fc11",
   "metadata": {
    "slideshow": {
     "slide_type": "subslide"
    }
   },
   "source": [
    "## Conclusions\n",
    "\n",
    "- I find ```mtplotlib``` very hard to use without constantly going back to the documentation, even for simple tasks.\n",
    "- I know many Python enthusiasts share this opinion.\n",
    "- However, ```matplotlib``` is likely the library with more versatility, being the oldest. In addition, some wrappers on top of it provide additional functionalities, such as ```mplhep```."
   ]
  },
  {
   "cell_type": "markdown",
   "id": "bfbc6886",
   "metadata": {
    "slideshow": {
     "slide_type": "subslide"
    }
   },
   "source": [
    "## ```bokeh```"
   ]
  },
  {
   "cell_type": "code",
   "execution_count": 6,
   "id": "73157af7",
   "metadata": {
    "slideshow": {
     "slide_type": "-"
    }
   },
   "outputs": [
    {
     "data": {
      "text/html": [
       "\n",
       "    <div class=\"bk-root\">\n",
       "        <a href=\"https://bokeh.org\" target=\"_blank\" class=\"bk-logo bk-logo-small bk-logo-notebook\"></a>\n",
       "        <span id=\"1002\">Loading BokehJS ...</span>\n",
       "    </div>"
      ]
     },
     "metadata": {},
     "output_type": "display_data"
    },
    {
     "data": {
      "application/javascript": [
       "\n",
       "(function(root) {\n",
       "  function now() {\n",
       "    return new Date();\n",
       "  }\n",
       "\n",
       "  var force = true;\n",
       "\n",
       "  if (typeof root._bokeh_onload_callbacks === \"undefined\" || force === true) {\n",
       "    root._bokeh_onload_callbacks = [];\n",
       "    root._bokeh_is_loading = undefined;\n",
       "  }\n",
       "\n",
       "  var JS_MIME_TYPE = 'application/javascript';\n",
       "  var HTML_MIME_TYPE = 'text/html';\n",
       "  var EXEC_MIME_TYPE = 'application/vnd.bokehjs_exec.v0+json';\n",
       "  var CLASS_NAME = 'output_bokeh rendered_html';\n",
       "\n",
       "  /**\n",
       "   * Render data to the DOM node\n",
       "   */\n",
       "  function render(props, node) {\n",
       "    var script = document.createElement(\"script\");\n",
       "    node.appendChild(script);\n",
       "  }\n",
       "\n",
       "  /**\n",
       "   * Handle when an output is cleared or removed\n",
       "   */\n",
       "  function handleClearOutput(event, handle) {\n",
       "    var cell = handle.cell;\n",
       "\n",
       "    var id = cell.output_area._bokeh_element_id;\n",
       "    var server_id = cell.output_area._bokeh_server_id;\n",
       "    // Clean up Bokeh references\n",
       "    if (id != null && id in Bokeh.index) {\n",
       "      Bokeh.index[id].model.document.clear();\n",
       "      delete Bokeh.index[id];\n",
       "    }\n",
       "\n",
       "    if (server_id !== undefined) {\n",
       "      // Clean up Bokeh references\n",
       "      var cmd = \"from bokeh.io.state import curstate; print(curstate().uuid_to_server['\" + server_id + \"'].get_sessions()[0].document.roots[0]._id)\";\n",
       "      cell.notebook.kernel.execute(cmd, {\n",
       "        iopub: {\n",
       "          output: function(msg) {\n",
       "            var id = msg.content.text.trim();\n",
       "            if (id in Bokeh.index) {\n",
       "              Bokeh.index[id].model.document.clear();\n",
       "              delete Bokeh.index[id];\n",
       "            }\n",
       "          }\n",
       "        }\n",
       "      });\n",
       "      // Destroy server and session\n",
       "      var cmd = \"import bokeh.io.notebook as ion; ion.destroy_server('\" + server_id + \"')\";\n",
       "      cell.notebook.kernel.execute(cmd);\n",
       "    }\n",
       "  }\n",
       "\n",
       "  /**\n",
       "   * Handle when a new output is added\n",
       "   */\n",
       "  function handleAddOutput(event, handle) {\n",
       "    var output_area = handle.output_area;\n",
       "    var output = handle.output;\n",
       "\n",
       "    // limit handleAddOutput to display_data with EXEC_MIME_TYPE content only\n",
       "    if ((output.output_type != \"display_data\") || (!Object.prototype.hasOwnProperty.call(output.data, EXEC_MIME_TYPE))) {\n",
       "      return\n",
       "    }\n",
       "\n",
       "    var toinsert = output_area.element.find(\".\" + CLASS_NAME.split(' ')[0]);\n",
       "\n",
       "    if (output.metadata[EXEC_MIME_TYPE][\"id\"] !== undefined) {\n",
       "      toinsert[toinsert.length - 1].firstChild.textContent = output.data[JS_MIME_TYPE];\n",
       "      // store reference to embed id on output_area\n",
       "      output_area._bokeh_element_id = output.metadata[EXEC_MIME_TYPE][\"id\"];\n",
       "    }\n",
       "    if (output.metadata[EXEC_MIME_TYPE][\"server_id\"] !== undefined) {\n",
       "      var bk_div = document.createElement(\"div\");\n",
       "      bk_div.innerHTML = output.data[HTML_MIME_TYPE];\n",
       "      var script_attrs = bk_div.children[0].attributes;\n",
       "      for (var i = 0; i < script_attrs.length; i++) {\n",
       "        toinsert[toinsert.length - 1].firstChild.setAttribute(script_attrs[i].name, script_attrs[i].value);\n",
       "        toinsert[toinsert.length - 1].firstChild.textContent = bk_div.children[0].textContent\n",
       "      }\n",
       "      // store reference to server id on output_area\n",
       "      output_area._bokeh_server_id = output.metadata[EXEC_MIME_TYPE][\"server_id\"];\n",
       "    }\n",
       "  }\n",
       "\n",
       "  function register_renderer(events, OutputArea) {\n",
       "\n",
       "    function append_mime(data, metadata, element) {\n",
       "      // create a DOM node to render to\n",
       "      var toinsert = this.create_output_subarea(\n",
       "        metadata,\n",
       "        CLASS_NAME,\n",
       "        EXEC_MIME_TYPE\n",
       "      );\n",
       "      this.keyboard_manager.register_events(toinsert);\n",
       "      // Render to node\n",
       "      var props = {data: data, metadata: metadata[EXEC_MIME_TYPE]};\n",
       "      render(props, toinsert[toinsert.length - 1]);\n",
       "      element.append(toinsert);\n",
       "      return toinsert\n",
       "    }\n",
       "\n",
       "    /* Handle when an output is cleared or removed */\n",
       "    events.on('clear_output.CodeCell', handleClearOutput);\n",
       "    events.on('delete.Cell', handleClearOutput);\n",
       "\n",
       "    /* Handle when a new output is added */\n",
       "    events.on('output_added.OutputArea', handleAddOutput);\n",
       "\n",
       "    /**\n",
       "     * Register the mime type and append_mime function with output_area\n",
       "     */\n",
       "    OutputArea.prototype.register_mime_type(EXEC_MIME_TYPE, append_mime, {\n",
       "      /* Is output safe? */\n",
       "      safe: true,\n",
       "      /* Index of renderer in `output_area.display_order` */\n",
       "      index: 0\n",
       "    });\n",
       "  }\n",
       "\n",
       "  // register the mime type if in Jupyter Notebook environment and previously unregistered\n",
       "  if (root.Jupyter !== undefined) {\n",
       "    var events = require('base/js/events');\n",
       "    var OutputArea = require('notebook/js/outputarea').OutputArea;\n",
       "\n",
       "    if (OutputArea.prototype.mime_types().indexOf(EXEC_MIME_TYPE) == -1) {\n",
       "      register_renderer(events, OutputArea);\n",
       "    }\n",
       "  }\n",
       "\n",
       "  \n",
       "  if (typeof (root._bokeh_timeout) === \"undefined\" || force === true) {\n",
       "    root._bokeh_timeout = Date.now() + 5000;\n",
       "    root._bokeh_failed_load = false;\n",
       "  }\n",
       "\n",
       "  var NB_LOAD_WARNING = {'data': {'text/html':\n",
       "     \"<div style='background-color: #fdd'>\\n\"+\n",
       "     \"<p>\\n\"+\n",
       "     \"BokehJS does not appear to have successfully loaded. If loading BokehJS from CDN, this \\n\"+\n",
       "     \"may be due to a slow or bad network connection. Possible fixes:\\n\"+\n",
       "     \"</p>\\n\"+\n",
       "     \"<ul>\\n\"+\n",
       "     \"<li>re-rerun `output_notebook()` to attempt to load from CDN again, or</li>\\n\"+\n",
       "     \"<li>use INLINE resources instead, as so:</li>\\n\"+\n",
       "     \"</ul>\\n\"+\n",
       "     \"<code>\\n\"+\n",
       "     \"from bokeh.resources import INLINE\\n\"+\n",
       "     \"output_notebook(resources=INLINE)\\n\"+\n",
       "     \"</code>\\n\"+\n",
       "     \"</div>\"}};\n",
       "\n",
       "  function display_loaded() {\n",
       "    var el = document.getElementById(\"1002\");\n",
       "    if (el != null) {\n",
       "      el.textContent = \"BokehJS is loading...\";\n",
       "    }\n",
       "    if (root.Bokeh !== undefined) {\n",
       "      if (el != null) {\n",
       "        el.textContent = \"BokehJS \" + root.Bokeh.version + \" successfully loaded.\";\n",
       "      }\n",
       "    } else if (Date.now() < root._bokeh_timeout) {\n",
       "      setTimeout(display_loaded, 100)\n",
       "    }\n",
       "  }\n",
       "\n",
       "\n",
       "  function run_callbacks() {\n",
       "    try {\n",
       "      root._bokeh_onload_callbacks.forEach(function(callback) {\n",
       "        if (callback != null)\n",
       "          callback();\n",
       "      });\n",
       "    } finally {\n",
       "      delete root._bokeh_onload_callbacks\n",
       "    }\n",
       "    console.debug(\"Bokeh: all callbacks have finished\");\n",
       "  }\n",
       "\n",
       "  function load_libs(css_urls, js_urls, callback) {\n",
       "    if (css_urls == null) css_urls = [];\n",
       "    if (js_urls == null) js_urls = [];\n",
       "\n",
       "    root._bokeh_onload_callbacks.push(callback);\n",
       "    if (root._bokeh_is_loading > 0) {\n",
       "      console.debug(\"Bokeh: BokehJS is being loaded, scheduling callback at\", now());\n",
       "      return null;\n",
       "    }\n",
       "    if (js_urls == null || js_urls.length === 0) {\n",
       "      run_callbacks();\n",
       "      return null;\n",
       "    }\n",
       "    console.debug(\"Bokeh: BokehJS not loaded, scheduling load and callback at\", now());\n",
       "    root._bokeh_is_loading = css_urls.length + js_urls.length;\n",
       "\n",
       "    function on_load() {\n",
       "      root._bokeh_is_loading--;\n",
       "      if (root._bokeh_is_loading === 0) {\n",
       "        console.debug(\"Bokeh: all BokehJS libraries/stylesheets loaded\");\n",
       "        run_callbacks()\n",
       "      }\n",
       "    }\n",
       "\n",
       "    function on_error(url) {\n",
       "      console.error(\"failed to load \" + url);\n",
       "    }\n",
       "\n",
       "    for (let i = 0; i < css_urls.length; i++) {\n",
       "      const url = css_urls[i];\n",
       "      const element = document.createElement(\"link\");\n",
       "      element.onload = on_load;\n",
       "      element.onerror = on_error.bind(null, url);\n",
       "      element.rel = \"stylesheet\";\n",
       "      element.type = \"text/css\";\n",
       "      element.href = url;\n",
       "      console.debug(\"Bokeh: injecting link tag for BokehJS stylesheet: \", url);\n",
       "      document.body.appendChild(element);\n",
       "    }\n",
       "\n",
       "    const hashes = {\"https://cdn.bokeh.org/bokeh/release/bokeh-2.3.2.min.js\": \"XypntL49z55iwGVUW4qsEu83zKL3XEcz0MjuGOQ9SlaaQ68X/g+k1FcioZi7oQAc\", \"https://cdn.bokeh.org/bokeh/release/bokeh-tables-2.3.2.min.js\": \"bEsM86IHGDTLCS0Zod8a8WM6Y4+lafAL/eSiyQcuPzinmWNgNO2/olUF0Z2Dkn5i\", \"https://cdn.bokeh.org/bokeh/release/bokeh-widgets-2.3.2.min.js\": \"TX0gSQTdXTTeScqxj6PVQxTiRW8DOoGVwinyi1D3kxv7wuxQ02XkOxv0xwiypcAH\"};\n",
       "\n",
       "    for (let i = 0; i < js_urls.length; i++) {\n",
       "      const url = js_urls[i];\n",
       "      const element = document.createElement('script');\n",
       "      element.onload = on_load;\n",
       "      element.onerror = on_error.bind(null, url);\n",
       "      element.async = false;\n",
       "      element.src = url;\n",
       "      if (url in hashes) {\n",
       "        element.crossOrigin = \"anonymous\";\n",
       "        element.integrity = \"sha384-\" + hashes[url];\n",
       "      }\n",
       "      console.debug(\"Bokeh: injecting script tag for BokehJS library: \", url);\n",
       "      document.head.appendChild(element);\n",
       "    }\n",
       "  };\n",
       "\n",
       "  function inject_raw_css(css) {\n",
       "    const element = document.createElement(\"style\");\n",
       "    element.appendChild(document.createTextNode(css));\n",
       "    document.body.appendChild(element);\n",
       "  }\n",
       "\n",
       "  \n",
       "  var js_urls = [\"https://cdn.bokeh.org/bokeh/release/bokeh-2.3.2.min.js\", \"https://cdn.bokeh.org/bokeh/release/bokeh-widgets-2.3.2.min.js\", \"https://cdn.bokeh.org/bokeh/release/bokeh-tables-2.3.2.min.js\"];\n",
       "  var css_urls = [];\n",
       "  \n",
       "\n",
       "  var inline_js = [\n",
       "    function(Bokeh) {\n",
       "      Bokeh.set_log_level(\"info\");\n",
       "    },\n",
       "    function(Bokeh) {\n",
       "    \n",
       "    \n",
       "    }\n",
       "  ];\n",
       "\n",
       "  function run_inline_js() {\n",
       "    \n",
       "    if (root.Bokeh !== undefined || force === true) {\n",
       "      \n",
       "    for (var i = 0; i < inline_js.length; i++) {\n",
       "      inline_js[i].call(root, root.Bokeh);\n",
       "    }\n",
       "    if (force === true) {\n",
       "        display_loaded();\n",
       "      }} else if (Date.now() < root._bokeh_timeout) {\n",
       "      setTimeout(run_inline_js, 100);\n",
       "    } else if (!root._bokeh_failed_load) {\n",
       "      console.log(\"Bokeh: BokehJS failed to load within specified timeout.\");\n",
       "      root._bokeh_failed_load = true;\n",
       "    } else if (force !== true) {\n",
       "      var cell = $(document.getElementById(\"1002\")).parents('.cell').data().cell;\n",
       "      cell.output_area.append_execute_result(NB_LOAD_WARNING)\n",
       "    }\n",
       "\n",
       "  }\n",
       "\n",
       "  if (root._bokeh_is_loading === 0) {\n",
       "    console.debug(\"Bokeh: BokehJS loaded, going straight to plotting\");\n",
       "    run_inline_js();\n",
       "  } else {\n",
       "    load_libs(css_urls, js_urls, function() {\n",
       "      console.debug(\"Bokeh: BokehJS plotting callback run at\", now());\n",
       "      run_inline_js();\n",
       "    });\n",
       "  }\n",
       "}(window));"
      ],
      "application/vnd.bokehjs_load.v0+json": "\n(function(root) {\n  function now() {\n    return new Date();\n  }\n\n  var force = true;\n\n  if (typeof root._bokeh_onload_callbacks === \"undefined\" || force === true) {\n    root._bokeh_onload_callbacks = [];\n    root._bokeh_is_loading = undefined;\n  }\n\n  \n\n  \n  if (typeof (root._bokeh_timeout) === \"undefined\" || force === true) {\n    root._bokeh_timeout = Date.now() + 5000;\n    root._bokeh_failed_load = false;\n  }\n\n  var NB_LOAD_WARNING = {'data': {'text/html':\n     \"<div style='background-color: #fdd'>\\n\"+\n     \"<p>\\n\"+\n     \"BokehJS does not appear to have successfully loaded. If loading BokehJS from CDN, this \\n\"+\n     \"may be due to a slow or bad network connection. Possible fixes:\\n\"+\n     \"</p>\\n\"+\n     \"<ul>\\n\"+\n     \"<li>re-rerun `output_notebook()` to attempt to load from CDN again, or</li>\\n\"+\n     \"<li>use INLINE resources instead, as so:</li>\\n\"+\n     \"</ul>\\n\"+\n     \"<code>\\n\"+\n     \"from bokeh.resources import INLINE\\n\"+\n     \"output_notebook(resources=INLINE)\\n\"+\n     \"</code>\\n\"+\n     \"</div>\"}};\n\n  function display_loaded() {\n    var el = document.getElementById(\"1002\");\n    if (el != null) {\n      el.textContent = \"BokehJS is loading...\";\n    }\n    if (root.Bokeh !== undefined) {\n      if (el != null) {\n        el.textContent = \"BokehJS \" + root.Bokeh.version + \" successfully loaded.\";\n      }\n    } else if (Date.now() < root._bokeh_timeout) {\n      setTimeout(display_loaded, 100)\n    }\n  }\n\n\n  function run_callbacks() {\n    try {\n      root._bokeh_onload_callbacks.forEach(function(callback) {\n        if (callback != null)\n          callback();\n      });\n    } finally {\n      delete root._bokeh_onload_callbacks\n    }\n    console.debug(\"Bokeh: all callbacks have finished\");\n  }\n\n  function load_libs(css_urls, js_urls, callback) {\n    if (css_urls == null) css_urls = [];\n    if (js_urls == null) js_urls = [];\n\n    root._bokeh_onload_callbacks.push(callback);\n    if (root._bokeh_is_loading > 0) {\n      console.debug(\"Bokeh: BokehJS is being loaded, scheduling callback at\", now());\n      return null;\n    }\n    if (js_urls == null || js_urls.length === 0) {\n      run_callbacks();\n      return null;\n    }\n    console.debug(\"Bokeh: BokehJS not loaded, scheduling load and callback at\", now());\n    root._bokeh_is_loading = css_urls.length + js_urls.length;\n\n    function on_load() {\n      root._bokeh_is_loading--;\n      if (root._bokeh_is_loading === 0) {\n        console.debug(\"Bokeh: all BokehJS libraries/stylesheets loaded\");\n        run_callbacks()\n      }\n    }\n\n    function on_error(url) {\n      console.error(\"failed to load \" + url);\n    }\n\n    for (let i = 0; i < css_urls.length; i++) {\n      const url = css_urls[i];\n      const element = document.createElement(\"link\");\n      element.onload = on_load;\n      element.onerror = on_error.bind(null, url);\n      element.rel = \"stylesheet\";\n      element.type = \"text/css\";\n      element.href = url;\n      console.debug(\"Bokeh: injecting link tag for BokehJS stylesheet: \", url);\n      document.body.appendChild(element);\n    }\n\n    const hashes = {\"https://cdn.bokeh.org/bokeh/release/bokeh-2.3.2.min.js\": \"XypntL49z55iwGVUW4qsEu83zKL3XEcz0MjuGOQ9SlaaQ68X/g+k1FcioZi7oQAc\", \"https://cdn.bokeh.org/bokeh/release/bokeh-tables-2.3.2.min.js\": \"bEsM86IHGDTLCS0Zod8a8WM6Y4+lafAL/eSiyQcuPzinmWNgNO2/olUF0Z2Dkn5i\", \"https://cdn.bokeh.org/bokeh/release/bokeh-widgets-2.3.2.min.js\": \"TX0gSQTdXTTeScqxj6PVQxTiRW8DOoGVwinyi1D3kxv7wuxQ02XkOxv0xwiypcAH\"};\n\n    for (let i = 0; i < js_urls.length; i++) {\n      const url = js_urls[i];\n      const element = document.createElement('script');\n      element.onload = on_load;\n      element.onerror = on_error.bind(null, url);\n      element.async = false;\n      element.src = url;\n      if (url in hashes) {\n        element.crossOrigin = \"anonymous\";\n        element.integrity = \"sha384-\" + hashes[url];\n      }\n      console.debug(\"Bokeh: injecting script tag for BokehJS library: \", url);\n      document.head.appendChild(element);\n    }\n  };\n\n  function inject_raw_css(css) {\n    const element = document.createElement(\"style\");\n    element.appendChild(document.createTextNode(css));\n    document.body.appendChild(element);\n  }\n\n  \n  var js_urls = [\"https://cdn.bokeh.org/bokeh/release/bokeh-2.3.2.min.js\", \"https://cdn.bokeh.org/bokeh/release/bokeh-widgets-2.3.2.min.js\", \"https://cdn.bokeh.org/bokeh/release/bokeh-tables-2.3.2.min.js\"];\n  var css_urls = [];\n  \n\n  var inline_js = [\n    function(Bokeh) {\n      Bokeh.set_log_level(\"info\");\n    },\n    function(Bokeh) {\n    \n    \n    }\n  ];\n\n  function run_inline_js() {\n    \n    if (root.Bokeh !== undefined || force === true) {\n      \n    for (var i = 0; i < inline_js.length; i++) {\n      inline_js[i].call(root, root.Bokeh);\n    }\n    if (force === true) {\n        display_loaded();\n      }} else if (Date.now() < root._bokeh_timeout) {\n      setTimeout(run_inline_js, 100);\n    } else if (!root._bokeh_failed_load) {\n      console.log(\"Bokeh: BokehJS failed to load within specified timeout.\");\n      root._bokeh_failed_load = true;\n    } else if (force !== true) {\n      var cell = $(document.getElementById(\"1002\")).parents('.cell').data().cell;\n      cell.output_area.append_execute_result(NB_LOAD_WARNING)\n    }\n\n  }\n\n  if (root._bokeh_is_loading === 0) {\n    console.debug(\"Bokeh: BokehJS loaded, going straight to plotting\");\n    run_inline_js();\n  } else {\n    load_libs(css_urls, js_urls, function() {\n      console.debug(\"Bokeh: BokehJS plotting callback run at\", now());\n      run_inline_js();\n    });\n  }\n}(window));"
     },
     "metadata": {},
     "output_type": "display_data"
    }
   ],
   "source": [
    "from bokeh.io import output_notebook, show\n",
    "from bokeh.plotting import figure\n",
    "output_notebook() # alternatively one could use output_file()"
   ]
  },
  {
   "cell_type": "markdown",
   "id": "2de202c3",
   "metadata": {
    "slideshow": {
     "slide_type": "subslide"
    }
   },
   "source": [
    "#### Line plot:"
   ]
  },
  {
   "cell_type": "code",
   "execution_count": 7,
   "id": "9ca80c6f",
   "metadata": {
    "slideshow": {
     "slide_type": "-"
    }
   },
   "outputs": [
    {
     "data": {
      "text/html": [
       "\n",
       "\n",
       "\n",
       "\n",
       "\n",
       "\n",
       "  <div class=\"bk-root\" id=\"226e9a31-3e25-4727-9bd0-45064b230b9f\" data-root-id=\"1003\"></div>\n"
      ]
     },
     "metadata": {},
     "output_type": "display_data"
    },
    {
     "data": {
      "application/javascript": [
       "(function(root) {\n",
       "  function embed_document(root) {\n",
       "    \n",
       "  var docs_json = {\"457113af-19e6-4a1e-83f5-46ae88ca4786\":{\"defs\":[],\"roots\":{\"references\":[{\"attributes\":{\"below\":[{\"id\":\"1012\"}],\"center\":[{\"id\":\"1015\"},{\"id\":\"1019\"}],\"height\":400,\"left\":[{\"id\":\"1016\"}],\"renderers\":[{\"id\":\"1037\"},{\"id\":\"1042\"}],\"title\":{\"id\":\"1044\"},\"toolbar\":{\"id\":\"1027\"},\"width\":400,\"x_range\":{\"id\":\"1004\"},\"x_scale\":{\"id\":\"1008\"},\"y_range\":{\"id\":\"1006\"},\"y_scale\":{\"id\":\"1010\"}},\"id\":\"1003\",\"subtype\":\"Figure\",\"type\":\"Plot\"},{\"attributes\":{},\"id\":\"1025\",\"type\":\"HelpTool\"},{\"attributes\":{},\"id\":\"1021\",\"type\":\"WheelZoomTool\"},{\"attributes\":{\"source\":{\"id\":\"1034\"}},\"id\":\"1038\",\"type\":\"CDSView\"},{\"attributes\":{},\"id\":\"1024\",\"type\":\"ResetTool\"},{\"attributes\":{},\"id\":\"1023\",\"type\":\"SaveTool\"},{\"attributes\":{\"overlay\":{\"id\":\"1026\"}},\"id\":\"1022\",\"type\":\"BoxZoomTool\"},{\"attributes\":{\"fill_color\":{\"value\":\"orange\"},\"line_color\":{\"value\":\"red\"},\"size\":{\"value\":15},\"x\":{\"field\":\"x\"},\"y\":{\"field\":\"y\"}},\"id\":\"1035\",\"type\":\"Circle\"},{\"attributes\":{\"data\":{\"x\":[1,2,3,4,5,6,7,8,9],\"y\":[6,7,2,8,9,3,4,5,1]},\"selected\":{\"id\":\"1054\"},\"selection_policy\":{\"id\":\"1055\"}},\"id\":\"1039\",\"type\":\"ColumnDataSource\"},{\"attributes\":{},\"id\":\"1006\",\"type\":\"DataRange1d\"},{\"attributes\":{},\"id\":\"1004\",\"type\":\"DataRange1d\"},{\"attributes\":{\"data\":{\"x\":[1,2,3,4,5,6,7,8,9],\"y\":[6,7,2,8,9,3,4,5,1]},\"selected\":{\"id\":\"1052\"},\"selection_policy\":{\"id\":\"1053\"}},\"id\":\"1034\",\"type\":\"ColumnDataSource\"},{\"attributes\":{\"data_source\":{\"id\":\"1034\"},\"glyph\":{\"id\":\"1035\"},\"hover_glyph\":null,\"muted_glyph\":null,\"nonselection_glyph\":{\"id\":\"1036\"},\"view\":{\"id\":\"1038\"}},\"id\":\"1037\",\"type\":\"GlyphRenderer\"},{\"attributes\":{\"formatter\":{\"id\":\"1050\"},\"major_label_policy\":{\"id\":\"1051\"},\"ticker\":{\"id\":\"1017\"}},\"id\":\"1016\",\"type\":\"LinearAxis\"},{\"attributes\":{},\"id\":\"1047\",\"type\":\"BasicTickFormatter\"},{\"attributes\":{\"formatter\":{\"id\":\"1047\"},\"major_label_policy\":{\"id\":\"1048\"},\"ticker\":{\"id\":\"1013\"}},\"id\":\"1012\",\"type\":\"LinearAxis\"},{\"attributes\":{},\"id\":\"1052\",\"type\":\"Selection\"},{\"attributes\":{},\"id\":\"1010\",\"type\":\"LinearScale\"},{\"attributes\":{},\"id\":\"1054\",\"type\":\"Selection\"},{\"attributes\":{\"line_alpha\":0.1,\"line_color\":\"#1f77b4\",\"line_width\":2,\"x\":{\"field\":\"x\"},\"y\":{\"field\":\"y\"}},\"id\":\"1041\",\"type\":\"Line\"},{\"attributes\":{},\"id\":\"1017\",\"type\":\"BasicTicker\"},{\"attributes\":{\"axis\":{\"id\":\"1016\"},\"dimension\":1,\"ticker\":null},\"id\":\"1019\",\"type\":\"Grid\"},{\"attributes\":{},\"id\":\"1048\",\"type\":\"AllLabels\"},{\"attributes\":{},\"id\":\"1055\",\"type\":\"UnionRenderers\"},{\"attributes\":{\"bottom_units\":\"screen\",\"fill_alpha\":0.5,\"fill_color\":\"lightgrey\",\"left_units\":\"screen\",\"level\":\"overlay\",\"line_alpha\":1.0,\"line_color\":\"black\",\"line_dash\":[4,4],\"line_width\":2,\"right_units\":\"screen\",\"syncable\":false,\"top_units\":\"screen\"},\"id\":\"1026\",\"type\":\"BoxAnnotation\"},{\"attributes\":{\"line_color\":\"#1f77b4\",\"line_width\":2,\"x\":{\"field\":\"x\"},\"y\":{\"field\":\"y\"}},\"id\":\"1040\",\"type\":\"Line\"},{\"attributes\":{\"active_multi\":null,\"tools\":[{\"id\":\"1020\"},{\"id\":\"1021\"},{\"id\":\"1022\"},{\"id\":\"1023\"},{\"id\":\"1024\"},{\"id\":\"1025\"}]},\"id\":\"1027\",\"type\":\"Toolbar\"},{\"attributes\":{},\"id\":\"1050\",\"type\":\"BasicTickFormatter\"},{\"attributes\":{},\"id\":\"1008\",\"type\":\"LinearScale\"},{\"attributes\":{\"fill_alpha\":{\"value\":0.1},\"fill_color\":{\"value\":\"orange\"},\"line_alpha\":{\"value\":0.1},\"line_color\":{\"value\":\"red\"},\"size\":{\"value\":15},\"x\":{\"field\":\"x\"},\"y\":{\"field\":\"y\"}},\"id\":\"1036\",\"type\":\"Circle\"},{\"attributes\":{\"source\":{\"id\":\"1039\"}},\"id\":\"1043\",\"type\":\"CDSView\"},{\"attributes\":{},\"id\":\"1020\",\"type\":\"PanTool\"},{\"attributes\":{},\"id\":\"1044\",\"type\":\"Title\"},{\"attributes\":{},\"id\":\"1013\",\"type\":\"BasicTicker\"},{\"attributes\":{},\"id\":\"1051\",\"type\":\"AllLabels\"},{\"attributes\":{\"axis\":{\"id\":\"1012\"},\"ticker\":null},\"id\":\"1015\",\"type\":\"Grid\"},{\"attributes\":{},\"id\":\"1053\",\"type\":\"UnionRenderers\"},{\"attributes\":{\"data_source\":{\"id\":\"1039\"},\"glyph\":{\"id\":\"1040\"},\"hover_glyph\":null,\"muted_glyph\":null,\"nonselection_glyph\":{\"id\":\"1041\"},\"view\":{\"id\":\"1043\"}},\"id\":\"1042\",\"type\":\"GlyphRenderer\"}],\"root_ids\":[\"1003\"]},\"title\":\"Bokeh Application\",\"version\":\"2.3.2\"}};\n",
       "  var render_items = [{\"docid\":\"457113af-19e6-4a1e-83f5-46ae88ca4786\",\"root_ids\":[\"1003\"],\"roots\":{\"1003\":\"226e9a31-3e25-4727-9bd0-45064b230b9f\"}}];\n",
       "  root.Bokeh.embed.embed_items_notebook(docs_json, render_items);\n",
       "\n",
       "  }\n",
       "  if (root.Bokeh !== undefined) {\n",
       "    embed_document(root);\n",
       "  } else {\n",
       "    var attempts = 0;\n",
       "    var timer = setInterval(function(root) {\n",
       "      if (root.Bokeh !== undefined) {\n",
       "        clearInterval(timer);\n",
       "        embed_document(root);\n",
       "      } else {\n",
       "        attempts++;\n",
       "        if (attempts > 100) {\n",
       "          clearInterval(timer);\n",
       "          console.log(\"Bokeh: ERROR: Unable to run BokehJS code because BokehJS library is missing\");\n",
       "        }\n",
       "      }\n",
       "    }, 10, root)\n",
       "  }\n",
       "})(window);"
      ],
      "application/vnd.bokehjs_exec.v0+json": ""
     },
     "metadata": {
      "application/vnd.bokehjs_exec.v0+json": {
       "id": "1003"
      }
     },
     "output_type": "display_data"
    }
   ],
   "source": [
    "# create a new plot with default tools, using figure\n",
    "pline = figure(plot_width=400, plot_height=400)\n",
    "\n",
    "marker_options = dict(size=dline.size, color=dline.out_color, \n",
    "                      fill_color=dline.fill_color, fill_alpha=dline.fill_alpha)\n",
    "circ = pline.circle(dline.x, dline.y, **marker_options)\n",
    "line_options = dict(line_width=2)\n",
    "pline.line(dline.x, dline.y, **line_options)\n",
    "\n",
    "show(pline)"
   ]
  },
  {
   "cell_type": "markdown",
   "id": "8f0cf23a",
   "metadata": {
    "slideshow": {
     "slide_type": "subslide"
    }
   },
   "source": [
    "#### Histogram:"
   ]
  },
  {
   "cell_type": "code",
   "execution_count": 8,
   "id": "d9b0e09d",
   "metadata": {
    "slideshow": {
     "slide_type": "-"
    }
   },
   "outputs": [
    {
     "data": {
      "text/html": [
       "\n",
       "\n",
       "\n",
       "\n",
       "\n",
       "\n",
       "  <div class=\"bk-root\" id=\"c4621477-c58c-4987-8a53-099c26e33398\" data-root-id=\"1122\"></div>\n"
      ]
     },
     "metadata": {},
     "output_type": "display_data"
    },
    {
     "data": {
      "application/javascript": [
       "(function(root) {\n",
       "  function embed_document(root) {\n",
       "    \n",
       "  var docs_json = {\"e4382974-5e62-4e3b-a90c-b2fe94a9c659\":{\"defs\":[],\"roots\":{\"references\":[{\"attributes\":{\"background_fill_color\":\"#2a4f32\",\"below\":[{\"id\":\"1133\"}],\"center\":[{\"id\":\"1136\"},{\"id\":\"1140\"}],\"height\":400,\"left\":[{\"id\":\"1137\"}],\"renderers\":[{\"id\":\"1158\"}],\"title\":{\"id\":\"1123\"},\"toolbar\":{\"id\":\"1148\"},\"x_range\":{\"id\":\"1125\"},\"x_scale\":{\"id\":\"1129\"},\"y_range\":{\"id\":\"1127\"},\"y_scale\":{\"id\":\"1131\"}},\"id\":\"1122\",\"subtype\":\"Figure\",\"type\":\"Plot\"},{\"attributes\":{\"text\":\"Bokeh Histogram\"},\"id\":\"1123\",\"type\":\"Title\"},{\"attributes\":{\"axis\":{\"id\":\"1133\"},\"ticker\":null},\"id\":\"1136\",\"type\":\"Grid\"},{\"attributes\":{},\"id\":\"1134\",\"type\":\"BasicTicker\"},{\"attributes\":{},\"id\":\"1129\",\"type\":\"LinearScale\"},{\"attributes\":{},\"id\":\"1175\",\"type\":\"BasicTickFormatter\"},{\"attributes\":{},\"id\":\"1127\",\"type\":\"DataRange1d\"},{\"attributes\":{\"axis\":{\"id\":\"1137\"},\"dimension\":1,\"grid_line_color\":null,\"ticker\":null},\"id\":\"1140\",\"type\":\"Grid\"},{\"attributes\":{\"formatter\":{\"id\":\"1178\"},\"major_label_policy\":{\"id\":\"1179\"},\"ticker\":{\"id\":\"1138\"}},\"id\":\"1137\",\"type\":\"LinearAxis\"},{\"attributes\":{},\"id\":\"1138\",\"type\":\"BasicTicker\"},{\"attributes\":{},\"id\":\"1131\",\"type\":\"LinearScale\"},{\"attributes\":{},\"id\":\"1146\",\"type\":\"HelpTool\"},{\"attributes\":{},\"id\":\"1125\",\"type\":\"DataRange1d\"},{\"attributes\":{\"overlay\":{\"id\":\"1147\"}},\"id\":\"1143\",\"type\":\"BoxZoomTool\"},{\"attributes\":{},\"id\":\"1144\",\"type\":\"SaveTool\"},{\"attributes\":{},\"id\":\"1145\",\"type\":\"ResetTool\"},{\"attributes\":{\"formatter\":{\"id\":\"1175\"},\"major_label_policy\":{\"id\":\"1176\"},\"ticker\":{\"id\":\"1134\"}},\"id\":\"1133\",\"type\":\"LinearAxis\"},{\"attributes\":{},\"id\":\"1179\",\"type\":\"AllLabels\"},{\"attributes\":{},\"id\":\"1181\",\"type\":\"UnionRenderers\"},{\"attributes\":{},\"id\":\"1141\",\"type\":\"PanTool\"},{\"attributes\":{},\"id\":\"1180\",\"type\":\"Selection\"},{\"attributes\":{},\"id\":\"1142\",\"type\":\"WheelZoomTool\"},{\"attributes\":{\"active_multi\":null,\"tools\":[{\"id\":\"1141\"},{\"id\":\"1142\"},{\"id\":\"1143\"},{\"id\":\"1144\"},{\"id\":\"1145\"},{\"id\":\"1146\"}]},\"id\":\"1148\",\"type\":\"Toolbar\"},{\"attributes\":{},\"id\":\"1176\",\"type\":\"AllLabels\"},{\"attributes\":{\"source\":{\"id\":\"1155\"}},\"id\":\"1159\",\"type\":\"CDSView\"},{\"attributes\":{\"bottom\":{\"value\":0},\"fill_alpha\":{\"value\":0.1},\"fill_color\":{\"value\":\"yellow\"},\"left\":{\"field\":\"left\"},\"line_alpha\":{\"value\":0.1},\"right\":{\"field\":\"right\"},\"top\":{\"field\":\"top\"}},\"id\":\"1157\",\"type\":\"Quad\"},{\"attributes\":{\"data\":{\"left\":{\"__ndarray__\":\"exuq7B9B/L8ZkH6JX876v7gEUyafW/m/Vnknw97o97/07ftfHnb2v5Ji0PxdA/W/MdekmZ2Q87/PS3k23R3yv27ATdMcq/C/GGpE4Lhw7r9UU+0ZOIvrv5E8llO3pei/ziU/jTbA5b8KD+jGtdriv4zwIQFq6t+/CMNzdGgf2r+AlcXnZlTUv/DPLrbKEs2/6HTSnMd8wb9gZ9gNEpunv+AEmVf6vKY/QJxCr0FFwT9Q957IRNvMPyyp/fCjONQ/tNarfaUD2j88BFoKp87fP+IYhEvUzOI/pi/bEVWy5T9qRjLY1ZfoPypdiZ5Wfes/7nPgZNdi7j9ZxZsVLKTwP7tQx3jsFvI/Hdzy26yJ8z9/Zx4/bfz0Pw==\",\"dtype\":\"float64\",\"order\":\"little\",\"shape\":[35]},\"right\":{\"__ndarray__\":\"GZB+iV/O+r+4BFMmn1v5v1Z5J8Pe6Pe/9O37Xx529r+SYtD8XQP1vzHXpJmdkPO/z0t5Nt0d8r9uwE3THKvwvxhqROC4cO6/VFPtGTiL67+RPJZTt6Xov84lP402wOW/Cg/oxrXa4r+M8CEBaurfvwjDc3RoH9q/gJXF52ZU1L/wzy62yhLNv+h00pzHfMG/YGfYDRKbp7/gBJlX+rymP0CcQq9BRcE/UPeeyETbzD8sqf3wozjUP7TWq32lA9o/PARaCqfO3z/iGIRL1MziP6Yv2xFVsuU/akYy2NWX6D8qXYmeVn3rP+5z4GTXYu4/WcWbFSyk8D+7UMd47BbyPx3c8tusifM/f2ceP2389D/i8kmiLW/2Pw==\",\"dtype\":\"float64\",\"order\":\"little\",\"shape\":[35]},\"top\":[1,0,1,1,2,0,4,5,10,23,26,18,36,41,42,58,67,65,73,90,66,57,58,67,39,30,38,21,24,11,10,5,5,4,2]},\"selected\":{\"id\":\"1180\"},\"selection_policy\":{\"id\":\"1181\"}},\"id\":\"1155\",\"type\":\"ColumnDataSource\"},{\"attributes\":{\"bottom_units\":\"screen\",\"fill_alpha\":0.5,\"fill_color\":\"lightgrey\",\"left_units\":\"screen\",\"level\":\"overlay\",\"line_alpha\":1.0,\"line_color\":\"black\",\"line_dash\":[4,4],\"line_width\":2,\"right_units\":\"screen\",\"syncable\":false,\"top_units\":\"screen\"},\"id\":\"1147\",\"type\":\"BoxAnnotation\"},{\"attributes\":{},\"id\":\"1178\",\"type\":\"BasicTickFormatter\"},{\"attributes\":{\"bottom\":{\"value\":0},\"fill_alpha\":{\"value\":0.8},\"fill_color\":{\"value\":\"yellow\"},\"left\":{\"field\":\"left\"},\"line_alpha\":{\"value\":0.8},\"right\":{\"field\":\"right\"},\"top\":{\"field\":\"top\"}},\"id\":\"1156\",\"type\":\"Quad\"},{\"attributes\":{\"data_source\":{\"id\":\"1155\"},\"glyph\":{\"id\":\"1156\"},\"hover_glyph\":null,\"muted_glyph\":null,\"nonselection_glyph\":{\"id\":\"1157\"},\"view\":{\"id\":\"1159\"}},\"id\":\"1158\",\"type\":\"GlyphRenderer\"}],\"root_ids\":[\"1122\"]},\"title\":\"Bokeh Application\",\"version\":\"2.3.2\"}};\n",
       "  var render_items = [{\"docid\":\"e4382974-5e62-4e3b-a90c-b2fe94a9c659\",\"root_ids\":[\"1122\"],\"roots\":{\"1122\":\"c4621477-c58c-4987-8a53-099c26e33398\"}}];\n",
       "  root.Bokeh.embed.embed_items_notebook(docs_json, render_items);\n",
       "\n",
       "  }\n",
       "  if (root.Bokeh !== undefined) {\n",
       "    embed_document(root);\n",
       "  } else {\n",
       "    var attempts = 0;\n",
       "    var timer = setInterval(function(root) {\n",
       "      if (root.Bokeh !== undefined) {\n",
       "        clearInterval(timer);\n",
       "        embed_document(root);\n",
       "      } else {\n",
       "        attempts++;\n",
       "        if (attempts > 100) {\n",
       "          clearInterval(timer);\n",
       "          console.log(\"Bokeh: ERROR: Unable to run BokehJS code because BokehJS library is missing\");\n",
       "        }\n",
       "      }\n",
       "    }, 10, root)\n",
       "  }\n",
       "})(window);"
      ],
      "application/vnd.bokehjs_exec.v0+json": ""
     },
     "metadata": {
      "application/vnd.bokehjs_exec.v0+json": {
       "id": "1122"
      }
     },
     "output_type": "display_data"
    }
   ],
   "source": [
    "hist_options = dict(fill_color=\"yellow\", line_color=\"black\", alpha=.8)\n",
    "\n",
    "phist = figure(title='Bokeh Histogram', plot_width=600, plot_height=400,\n",
    "                background_fill_color=\"#2a4f32\")\n",
    "phist.quad(top=dhist.hist, bottom=0, left=dhist.edges[:-1], right=dhist.edges[1:], **hist_options)\n",
    "phist.ygrid.grid_line_color = None\n",
    "\n",
    "show(phist)"
   ]
  },
  {
   "cell_type": "markdown",
   "id": "6661213c",
   "metadata": {
    "slideshow": {
     "slide_type": "subslide"
    }
   },
   "source": [
    "## ```altair```\n",
    "\n",
    "- Build on top of [Vega-Lite](https://vega.github.io/vega-lite/) which is based on the \"grammar of graphics\" (used in R's ```ggplot2```):"
   ]
  },
  {
   "cell_type": "markdown",
   "id": "0c877da3",
   "metadata": {
    "cell_style": "split",
    "slideshow": {
     "slide_type": "-"
    }
   },
   "source": [
    "The grammar of graphics creates plots based on the following layers:\n",
    "- Data\n",
    "- Mapping\n",
    "- Statistical transformation\n",
    "- Geometric object (markers)\n",
    "- Position adjustment\n",
    "- Some additional properties"
   ]
  },
  {
   "cell_type": "markdown",
   "id": "1a54222a",
   "metadata": {
    "cell_style": "split",
    "slideshow": {
     "slide_type": "-"
    }
   },
   "source": [
    "```bokeh``` also relies on a different \"layered\" approach:\n",
    "- Mostly ignores data transformations\n",
    "    - lots of excellent libraries can already take care of it\n",
    "    - some exceptions: [transforming](https://docs.bokeh.org/en/latest/docs/user_guide/data.html#transforming-data), [filtering](https://docs.bokeh.org/en/latest/docs/user_guide/data.html#filtering-data)\n",
    "    - as [highlighted](https://arxiv.org/pdf/1811.10309.pdf) (Sec. 2.2.3) by the HEP Soft. Found.: \"**separating data visualization from the data analysis**\" is a big open-issue in HEP\n",
    "- Markers are applied in layers as well\n",
    "- Properties are directly associated to their related objects: figures, grid, axis, markers, ..."
   ]
  },
  {
   "cell_type": "code",
   "execution_count": 9,
   "id": "d4a1ddf6",
   "metadata": {
    "slideshow": {
     "slide_type": "subslide"
    }
   },
   "outputs": [],
   "source": [
    "import altair as alt\n",
    "\n",
    "import pandas as pd #altair data model is build around pandas"
   ]
  },
  {
   "cell_type": "markdown",
   "id": "dd7002d2",
   "metadata": {
    "slideshow": {
     "slide_type": "subslide"
    }
   },
   "source": [
    "#### Line plot:"
   ]
  },
  {
   "cell_type": "code",
   "execution_count": 10,
   "id": "1467a8ad",
   "metadata": {
    "cell_style": "center",
    "slideshow": {
     "slide_type": "-"
    }
   },
   "outputs": [
    {
     "data": {
      "text/html": [
       "\n",
       "<div id=\"altair-viz-3f9e72bb72bd474589df08409a4ef9fe\"></div>\n",
       "<script type=\"text/javascript\">\n",
       "  (function(spec, embedOpt){\n",
       "    let outputDiv = document.currentScript.previousElementSibling;\n",
       "    if (outputDiv.id !== \"altair-viz-3f9e72bb72bd474589df08409a4ef9fe\") {\n",
       "      outputDiv = document.getElementById(\"altair-viz-3f9e72bb72bd474589df08409a4ef9fe\");\n",
       "    }\n",
       "    const paths = {\n",
       "      \"vega\": \"https://cdn.jsdelivr.net/npm//vega@5?noext\",\n",
       "      \"vega-lib\": \"https://cdn.jsdelivr.net/npm//vega-lib?noext\",\n",
       "      \"vega-lite\": \"https://cdn.jsdelivr.net/npm//vega-lite@4.8.1?noext\",\n",
       "      \"vega-embed\": \"https://cdn.jsdelivr.net/npm//vega-embed@6?noext\",\n",
       "    };\n",
       "\n",
       "    function loadScript(lib) {\n",
       "      return new Promise(function(resolve, reject) {\n",
       "        var s = document.createElement('script');\n",
       "        s.src = paths[lib];\n",
       "        s.async = true;\n",
       "        s.onload = () => resolve(paths[lib]);\n",
       "        s.onerror = () => reject(`Error loading script: ${paths[lib]}`);\n",
       "        document.getElementsByTagName(\"head\")[0].appendChild(s);\n",
       "      });\n",
       "    }\n",
       "\n",
       "    function showError(err) {\n",
       "      outputDiv.innerHTML = `<div class=\"error\" style=\"color:red;\">${err}</div>`;\n",
       "      throw err;\n",
       "    }\n",
       "\n",
       "    function displayChart(vegaEmbed) {\n",
       "      vegaEmbed(outputDiv, spec, embedOpt)\n",
       "        .catch(err => showError(`Javascript Error: ${err.message}<br>This usually means there's a typo in your chart specification. See the javascript console for the full traceback.`));\n",
       "    }\n",
       "\n",
       "    if(typeof define === \"function\" && define.amd) {\n",
       "      requirejs.config({paths});\n",
       "      require([\"vega-embed\"], displayChart, err => showError(`Error loading script: ${err.message}`));\n",
       "    } else if (typeof vegaEmbed === \"function\") {\n",
       "      displayChart(vegaEmbed);\n",
       "    } else {\n",
       "      loadScript(\"vega\")\n",
       "        .then(() => loadScript(\"vega-lite\"))\n",
       "        .then(() => loadScript(\"vega-embed\"))\n",
       "        .catch(showError)\n",
       "        .then(() => displayChart(vegaEmbed));\n",
       "    }\n",
       "  })({\"config\": {\"view\": {\"continuousWidth\": 400, \"continuousHeight\": 300}}, \"layer\": [{\"mark\": \"line\", \"encoding\": {\"x\": {\"type\": \"quantitative\", \"field\": \"x\"}, \"y\": {\"type\": \"quantitative\", \"field\": \"y\"}}}, {\"mark\": {\"type\": \"point\", \"color\": \"red\", \"fill\": \"orange\", \"opacity\": 1, \"size\": 150}, \"encoding\": {\"x\": {\"type\": \"quantitative\", \"field\": \"x\"}, \"y\": {\"type\": \"quantitative\", \"field\": \"y\"}}}], \"data\": {\"name\": \"data-8e135bf072ec9ae2522aac24eee8af30\"}, \"$schema\": \"https://vega.github.io/schema/vega-lite/v4.8.1.json\", \"datasets\": {\"data-8e135bf072ec9ae2522aac24eee8af30\": [{\"x\": 1, \"y\": 6}, {\"x\": 2, \"y\": 7}, {\"x\": 3, \"y\": 2}, {\"x\": 4, \"y\": 8}, {\"x\": 5, \"y\": 9}, {\"x\": 6, \"y\": 3}, {\"x\": 7, \"y\": 4}, {\"x\": 8, \"y\": 5}, {\"x\": 9, \"y\": 1}]}}, {\"mode\": \"vega-lite\"});\n",
       "</script>"
      ],
      "text/plain": [
       "alt.LayerChart(...)"
      ]
     },
     "execution_count": 10,
     "metadata": {},
     "output_type": "execute_result"
    }
   ],
   "source": [
    "alt_source_line = pd.DataFrame({'x': dline.x, 'y': dline.y})\n",
    "\n",
    "alt_line = alt.Chart(alt_source_line).mark_line().encode(x='x', y='y')\n",
    "\n",
    "alt_marker_options = dict(color=dline.out_color, size=10*dline.size, fill=dline.fill_color, opacity=dline.fill_alpha)\n",
    "alt_markers = alt.Chart(alt_source_line).mark_point(**alt_marker_options).encode(x='x', y='y')\n",
    "                          \n",
    "alt.layer(alt_line, alt_markers)"
   ]
  },
  {
   "cell_type": "markdown",
   "id": "be5272dc",
   "metadata": {
    "slideshow": {
     "slide_type": "subslide"
    }
   },
   "source": [
    "#### Histogram:"
   ]
  },
  {
   "cell_type": "markdown",
   "id": "63ee5b01",
   "metadata": {
    "cell_style": "split",
    "slideshow": {
     "slide_type": "-"
    }
   },
   "source": [
    "1. Use ```altair``` histogram utilities\n",
    " - the syntax is more complex"
   ]
  },
  {
   "cell_type": "markdown",
   "id": "8e101b14",
   "metadata": {
    "cell_style": "split",
    "slideshow": {
     "slide_type": "-"
    }
   },
   "source": [
    "2. Decouple data transformations from plotting\n",
    " - use data processed by ```numpy```\n",
    " - ```bokeh``` mostly follows this \"decoupling\" approach\n",
    " \n"
   ]
  },
  {
   "cell_type": "code",
   "execution_count": 11,
   "id": "2d604919",
   "metadata": {
    "cell_style": "split",
    "slideshow": {
     "slide_type": "-"
    }
   },
   "outputs": [
    {
     "data": {
      "text/html": [
       "\n",
       "<div id=\"altair-viz-964048f9c58a48b792b3cb731ad9410d\"></div>\n",
       "<script type=\"text/javascript\">\n",
       "  (function(spec, embedOpt){\n",
       "    let outputDiv = document.currentScript.previousElementSibling;\n",
       "    if (outputDiv.id !== \"altair-viz-964048f9c58a48b792b3cb731ad9410d\") {\n",
       "      outputDiv = document.getElementById(\"altair-viz-964048f9c58a48b792b3cb731ad9410d\");\n",
       "    }\n",
       "    const paths = {\n",
       "      \"vega\": \"https://cdn.jsdelivr.net/npm//vega@5?noext\",\n",
       "      \"vega-lib\": \"https://cdn.jsdelivr.net/npm//vega-lib?noext\",\n",
       "      \"vega-lite\": \"https://cdn.jsdelivr.net/npm//vega-lite@4.8.1?noext\",\n",
       "      \"vega-embed\": \"https://cdn.jsdelivr.net/npm//vega-embed@6?noext\",\n",
       "    };\n",
       "\n",
       "    function loadScript(lib) {\n",
       "      return new Promise(function(resolve, reject) {\n",
       "        var s = document.createElement('script');\n",
       "        s.src = paths[lib];\n",
       "        s.async = true;\n",
       "        s.onload = () => resolve(paths[lib]);\n",
       "        s.onerror = () => reject(`Error loading script: ${paths[lib]}`);\n",
       "        document.getElementsByTagName(\"head\")[0].appendChild(s);\n",
       "      });\n",
       "    }\n",
       "\n",
       "    function showError(err) {\n",
       "      outputDiv.innerHTML = `<div class=\"error\" style=\"color:red;\">${err}</div>`;\n",
       "      throw err;\n",
       "    }\n",
       "\n",
       "    function displayChart(vegaEmbed) {\n",
       "      vegaEmbed(outputDiv, spec, embedOpt)\n",
       "        .catch(err => showError(`Javascript Error: ${err.message}<br>This usually means there's a typo in your chart specification. See the javascript console for the full traceback.`));\n",
       "    }\n",
       "\n",
       "    if(typeof define === \"function\" && define.amd) {\n",
       "      requirejs.config({paths});\n",
       "      require([\"vega-embed\"], displayChart, err => showError(`Error loading script: ${err.message}`));\n",
       "    } else if (typeof vegaEmbed === \"function\") {\n",
       "      displayChart(vegaEmbed);\n",
       "    } else {\n",
       "      loadScript(\"vega\")\n",
       "        .then(() => loadScript(\"vega-lite\"))\n",
       "        .then(() => loadScript(\"vega-embed\"))\n",
       "        .catch(showError)\n",
       "        .then(() => displayChart(vegaEmbed));\n",
       "    }\n",
       "  })({\"config\": {\"view\": {\"continuousWidth\": 400, \"continuousHeight\": 300}}, \"data\": {\"name\": \"data-f1826a7782d53cff2e7f200ee1519ae4\"}, \"mark\": \"bar\", \"encoding\": {\"x\": {\"type\": \"quantitative\", \"bin\": {\"extent\": [-2, 2], \"maxbins\": 35}, \"field\": \"data\"}, \"y\": {\"type\": \"quantitative\", \"aggregate\": \"count\"}}, \"$schema\": \"https://vega.github.io/schema/vega-lite/v4.8.1.json\", \"datasets\": {\"data-f1826a7782d53cff2e7f200ee1519ae4\": [{\"data\": -0.2011548883697709}, {\"data\": -0.12894069418724116}, {\"data\": -0.15056254982110626}, {\"data\": -0.2582765380289212}, {\"data\": -0.26327799451146333}, {\"data\": 0.22464401817319105}, {\"data\": -0.8817073314238092}, {\"data\": -0.4797779260764494}, {\"data\": -0.49956797014468013}, {\"data\": 0.09472244011114998}, {\"data\": -0.6127488755797491}, {\"data\": 0.09906487334054188}, {\"data\": 0.6153230705999484}, {\"data\": -0.30001548990461907}, {\"data\": -0.9767469480030517}, {\"data\": -0.060472763131960164}, {\"data\": 0.9556748673090009}, {\"data\": 0.7885062217315503}, {\"data\": -0.6482213100668841}, {\"data\": -0.43894441286511937}, {\"data\": -0.12533557986857025}, {\"data\": -0.41250174580779475}, {\"data\": -0.30127370529245173}, {\"data\": -0.5880130779059181}, {\"data\": 0.22147384114652754}, {\"data\": -0.8326698428706215}, {\"data\": -0.9054033195855447}, {\"data\": -0.7284535244302479}, {\"data\": 0.45058366488837076}, {\"data\": 0.2884403632027404}, {\"data\": 0.17074921640536522}, {\"data\": -0.3645145720125994}, {\"data\": -0.2072525244639692}, {\"data\": 0.19807709722670525}, {\"data\": 0.5953085848590721}, {\"data\": 0.1683438232631014}, {\"data\": -0.1888139274740979}, {\"data\": -0.18860933540422042}, {\"data\": 0.26676938252468346}, {\"data\": 0.6951111266138513}, {\"data\": -0.48024849767340916}, {\"data\": -0.7859258747248865}, {\"data\": -0.45923346934328557}, {\"data\": 0.7838799521739246}, {\"data\": -0.5322170376093635}, {\"data\": 0.11309685019620631}, {\"data\": -0.0431804963703707}, {\"data\": 0.36359485305468164}, {\"data\": -0.9539498895608224}, {\"data\": -0.47428724884386053}, {\"data\": 0.7315575877985738}, {\"data\": 0.3828898113101895}, {\"data\": 0.7280577475596447}, {\"data\": 0.31453999383975034}, {\"data\": 0.00022694582776993424}, {\"data\": 0.38411282418604625}, {\"data\": -0.7668058445832353}, {\"data\": 0.14534351608039703}, {\"data\": -0.3371268695079275}, {\"data\": 0.6448372152791629}, {\"data\": -0.3819094016465748}, {\"data\": 0.5334656399677359}, {\"data\": -0.2847095436905356}, {\"data\": 0.08343113339218938}, {\"data\": 0.4947386943372522}, {\"data\": 0.1319180685942647}, {\"data\": -0.8190744433455903}, {\"data\": -0.0257733001655533}, {\"data\": 0.4442568002060864}, {\"data\": -0.5862711480723055}, {\"data\": 0.6191038326074707}, {\"data\": 0.2764523356013489}, {\"data\": 0.3839174738710282}, {\"data\": -0.4887897815104512}, {\"data\": 0.15694310302054892}, {\"data\": -0.667126574428231}, {\"data\": -0.3530986703201901}, {\"data\": 0.36617027310802314}, {\"data\": -0.8149470770853857}, {\"data\": -0.7895053865706019}, {\"data\": -0.46463816458298407}, {\"data\": 0.20438726176237887}, {\"data\": 0.821098438676819}, {\"data\": -0.03590407027247848}, {\"data\": -0.5349767386996145}, {\"data\": 0.9356755676895078}, {\"data\": 0.004150061614183768}, {\"data\": 0.46700306281474546}, {\"data\": -0.09189587428081916}, {\"data\": -0.40716528050966944}, {\"data\": 0.8155089652272699}, {\"data\": -1.0673709705436925}, {\"data\": 0.1971577029156134}, {\"data\": -0.30950299868734715}, {\"data\": -0.16363345932990392}, {\"data\": 0.39327362174286895}, {\"data\": 0.3715419755978166}, {\"data\": 0.07753450052195782}, {\"data\": 0.3518418806254715}, {\"data\": -0.6278333652497228}, {\"data\": -0.39800847545199103}, {\"data\": 0.2454993657194516}, {\"data\": 0.6542476324780682}, {\"data\": 1.1539410171757551}, {\"data\": 0.12773895001434643}, {\"data\": 0.010810449264959193}, {\"data\": 0.16891838379782176}, {\"data\": -0.5290740409734113}, {\"data\": 1.0066363627633936}, {\"data\": 0.10643087819782325}, {\"data\": -0.7298968632251617}, {\"data\": 0.6374504189221112}, {\"data\": -0.13409035786337922}, {\"data\": 0.3955095407812254}, {\"data\": -0.40618152967229965}, {\"data\": -0.4764729416592826}, {\"data\": -0.17394395032878532}, {\"data\": 0.5104068524247994}, {\"data\": 0.32888418772485534}, {\"data\": -0.4286912144184069}, {\"data\": 0.2506953435432796}, {\"data\": -0.7799768915555081}, {\"data\": -0.3672856349991945}, {\"data\": -0.5011659629102654}, {\"data\": -0.0672878419563847}, {\"data\": 0.2267587513421156}, {\"data\": -0.9169664526056225}, {\"data\": 0.2257602064028587}, {\"data\": -0.01566760274480053}, {\"data\": -0.31249112971736603}, {\"data\": 0.3207756350842616}, {\"data\": -0.3394667839487414}, {\"data\": 0.22581169356951364}, {\"data\": 0.12256192671564987}, {\"data\": 0.8908197880898407}, {\"data\": -0.7396428860445088}, {\"data\": 0.4696390435342787}, {\"data\": -0.10077984790093907}, {\"data\": -0.12859344432099037}, {\"data\": 0.021335036158441498}, {\"data\": -0.48527021833739636}, {\"data\": -0.3878804833585256}, {\"data\": -0.07135249748218735}, {\"data\": -0.20333016757015493}, {\"data\": -0.9134343108913079}, {\"data\": -0.9814646363339}, {\"data\": -0.5302797195840839}, {\"data\": -0.0072786937784610805}, {\"data\": 0.03190600176840537}, {\"data\": 0.04484615044323782}, {\"data\": -0.02021497993813331}, {\"data\": -0.15175362987859436}, {\"data\": -0.8542210787053043}, {\"data\": -0.22684464068086294}, {\"data\": 0.3060418499321138}, {\"data\": -0.010871648586365523}, {\"data\": 0.10257564775191193}, {\"data\": 0.6293368560625459}, {\"data\": 0.35973311069392644}, {\"data\": 0.05272523028438305}, {\"data\": -0.15756641436623112}, {\"data\": -0.08055731965670238}, {\"data\": -0.8098443065441688}, {\"data\": -0.5207656095284152}, {\"data\": -0.8607675687352186}, {\"data\": 0.40769942934620046}, {\"data\": -0.18136619643414814}, {\"data\": -0.9475624282207344}, {\"data\": 0.9872764861254053}, {\"data\": 0.04226188063422456}, {\"data\": -0.7064824984284894}, {\"data\": -0.31372887280489525}, {\"data\": 0.3748053406532842}, {\"data\": 0.17548972121776052}, {\"data\": -0.20513233285059146}, {\"data\": 0.26382240437162335}, {\"data\": 0.3580765681227039}, {\"data\": -0.22127382944366855}, {\"data\": 0.3755864682484498}, {\"data\": -0.19380127872627867}, {\"data\": -0.01163588309509381}, {\"data\": 0.7622315735366032}, {\"data\": -0.4436838759273297}, {\"data\": -0.5445920873158666}, {\"data\": -0.6084695705960715}, {\"data\": -0.6240783653298857}, {\"data\": 0.37595401210829105}, {\"data\": -0.5094271121569282}, {\"data\": 0.4044464796326297}, {\"data\": 0.0919650981588973}, {\"data\": -0.510137775570349}, {\"data\": 0.35813407440940404}, {\"data\": 0.10348779773123938}, {\"data\": -0.8579644505659646}, {\"data\": -0.5451091186266241}, {\"data\": 0.08806417715966859}, {\"data\": 0.6947006362821496}, {\"data\": -2.0202478729728505e-05}, {\"data\": 0.47695191862101854}, {\"data\": 0.4136156652530137}, {\"data\": 0.19284593937104424}, {\"data\": 0.7808872090999492}, {\"data\": -0.2746250243631902}, {\"data\": -0.035923005104878676}, {\"data\": 0.6023300822747981}, {\"data\": 0.3872247053405503}, {\"data\": -0.7184530502121151}, {\"data\": -0.16058377223037887}, {\"data\": -0.051243328277243656}, {\"data\": 0.00862644797194547}, {\"data\": -0.09882978081247423}, {\"data\": 0.3854808482715235}, {\"data\": -0.42538352209958685}, {\"data\": 0.5326822361803436}, {\"data\": 0.10477367351704028}, {\"data\": 0.06808183766338731}, {\"data\": 0.6472923140034769}, {\"data\": 0.398967997898168}, {\"data\": -0.3938454358872678}, {\"data\": 0.6941532985302856}, {\"data\": 0.5994591406347277}, {\"data\": 0.10797430095265972}, {\"data\": -0.2171131326297691}, {\"data\": 0.42846636296450574}, {\"data\": 0.059814863865067285}, {\"data\": -0.5983455729231987}, {\"data\": 0.19003248639513864}, {\"data\": -0.18181613700248195}, {\"data\": 0.1620271851228078}, {\"data\": -0.33491360184116387}, {\"data\": -0.705902107967715}, {\"data\": -0.6233161847306917}, {\"data\": -0.09292214873656929}, {\"data\": 0.7851666795518163}, {\"data\": 0.040200515486641136}, {\"data\": 0.17733215544190417}, {\"data\": 0.0922582359225697}, {\"data\": -0.1836533074036056}, {\"data\": 0.37152641386562985}, {\"data\": 0.08817826437604961}, {\"data\": -0.8751491829045356}, {\"data\": 0.5648304333863668}, {\"data\": 0.0750585052263891}, {\"data\": 0.19243270430627055}, {\"data\": -0.013102283811410141}, {\"data\": 0.7409510627932285}, {\"data\": 0.6656676106248188}, {\"data\": 0.6739727158189054}, {\"data\": -0.7730168689772325}, {\"data\": 0.5986230886410266}, {\"data\": -0.047547145830787695}, {\"data\": -0.08348811989206589}, {\"data\": -0.16264116797563785}, {\"data\": 0.3196505126458512}, {\"data\": -0.21372806415225584}, {\"data\": -0.031283285277179614}, {\"data\": -0.1529147872233092}, {\"data\": 0.17496160314811596}, {\"data\": -0.13636871722798383}, {\"data\": -0.3124531146524962}, {\"data\": 0.14002626076925948}, {\"data\": -0.17283617919318522}, {\"data\": -0.08222705631929449}, {\"data\": -0.1940978012298585}, {\"data\": -0.32356534719973773}, {\"data\": 0.7659720154202163}, {\"data\": -0.10770924259022571}, {\"data\": 0.7304146891468648}, {\"data\": -0.03202143843985423}, {\"data\": 0.7729650497218316}, {\"data\": -0.8314081130257363}, {\"data\": -0.2296293813316046}, {\"data\": 0.1111905145425564}, {\"data\": -0.3704508902977969}, {\"data\": -0.2737109057026764}, {\"data\": 0.4219723425372111}, {\"data\": 1.1456923766826068}, {\"data\": -0.013037936498229891}, {\"data\": 0.15264780205820538}, {\"data\": -0.24228968005709442}, {\"data\": 0.09017665000461046}, {\"data\": 0.652447950418653}, {\"data\": 0.08403796445203227}, {\"data\": -0.28094369243182626}, {\"data\": 0.6558690637616207}, {\"data\": -0.34546743431581656}, {\"data\": -0.04653685130887319}, {\"data\": -0.9537755142080463}, {\"data\": -1.2016605461682999}, {\"data\": 0.21638124546515514}, {\"data\": 0.05389633380814729}, {\"data\": -0.08243003581037801}, {\"data\": -0.07703672118600632}, {\"data\": 1.0841962600418447}, {\"data\": 0.5716459944056774}, {\"data\": -0.09785288331021753}, {\"data\": 0.5597549496730372}, {\"data\": -0.7417994604100508}, {\"data\": 0.12576461685668566}, {\"data\": -0.8712692960740858}, {\"data\": -0.6411207499637354}, {\"data\": -0.3849277191307079}, {\"data\": -0.2833520141088276}, {\"data\": 0.23075406488941197}, {\"data\": -0.26607990177215607}, {\"data\": -0.03026413533293113}, {\"data\": -0.6441940679349206}, {\"data\": 0.4441634583465146}, {\"data\": -0.6509378398876265}, {\"data\": -0.5768588042651392}, {\"data\": 0.013005725828654632}, {\"data\": -0.2244131522514837}, {\"data\": 0.28507684153505447}, {\"data\": -0.4618845643132086}, {\"data\": -0.8161155647453963}, {\"data\": -0.008661257289071725}, {\"data\": -0.4006365048500367}, {\"data\": 0.1967743094943341}, {\"data\": 0.03816181642573277}, {\"data\": -0.07618329485081277}, {\"data\": 0.408561001936045}, {\"data\": -0.1334134419930909}, {\"data\": -0.8394421768558}, {\"data\": -0.09389169512621423}, {\"data\": -0.1668173216911366}, {\"data\": 0.19725931451700926}, {\"data\": 0.05572337432254417}, {\"data\": 0.1855163895090021}, {\"data\": -0.89920897380739}, {\"data\": 0.5929951314841369}, {\"data\": -0.6342024224884648}, {\"data\": -0.6708151949902391}, {\"data\": -0.4715188043273397}, {\"data\": -0.46689270859188187}, {\"data\": -0.5315743494408159}, {\"data\": -0.13287776301890158}, {\"data\": -0.611046459910106}, {\"data\": 1.0490053282111687}, {\"data\": -0.20415728641004616}, {\"data\": -0.5093851282634466}, {\"data\": -0.0032478989989967975}, {\"data\": -0.7980009254190037}, {\"data\": 0.586953792232222}, {\"data\": 1.012953350765621}, {\"data\": -0.23568662413005653}, {\"data\": -0.6023273090578691}, {\"data\": -0.11501201929895605}, {\"data\": -0.0075185469440874385}, {\"data\": -0.37243705899303686}, {\"data\": -0.2638320010167077}, {\"data\": -0.7692314704099354}, {\"data\": -0.2566236114242936}, {\"data\": -0.5586005496374498}, {\"data\": 0.5367337860295285}, {\"data\": -0.20851410458380876}, {\"data\": 0.028916501253496665}, {\"data\": 0.29997311222443046}, {\"data\": -0.27702068466562857}, {\"data\": 0.3370038829767629}, {\"data\": 0.8515754493929547}, {\"data\": 0.37194228256466116}, {\"data\": -0.8382147672553086}, {\"data\": 0.3430557178558885}, {\"data\": -0.057275447323601784}, {\"data\": -0.2894743030097277}, {\"data\": -0.1587370582860184}, {\"data\": 0.3874992297660465}, {\"data\": 0.2381153945736661}, {\"data\": -0.3124129280552435}, {\"data\": 0.5444800358352039}, {\"data\": -0.07002336070562061}, {\"data\": -0.1187710668717537}, {\"data\": -0.011488085238154547}, {\"data\": 0.17676852603137275}, {\"data\": 0.21337538181308277}, {\"data\": 0.6573667060759135}, {\"data\": 0.14228173942104574}, {\"data\": 0.858061549166172}, {\"data\": -0.380425803247772}, {\"data\": 0.3218031509685781}, {\"data\": -0.5641630420894772}, {\"data\": -1.349446280878108}, {\"data\": -0.027520346778580975}, {\"data\": -0.593003109180727}, {\"data\": 0.6602340096573569}, {\"data\": 0.3985970647939192}, {\"data\": 0.381787279552753}, {\"data\": -0.21044410031258878}, {\"data\": 0.6684809491366464}, {\"data\": -0.25359171833374605}, {\"data\": 0.6255061680319096}, {\"data\": -0.4308821886184771}, {\"data\": -0.882585215245185}, {\"data\": 0.12612530011815107}, {\"data\": -0.24031955595756024}, {\"data\": -0.3100295900673859}, {\"data\": -0.566343644429476}, {\"data\": -0.4879631087162047}, {\"data\": -0.22931783556727825}, {\"data\": 0.544117452133327}, {\"data\": 0.6334918477932439}, {\"data\": -0.3974690714112338}, {\"data\": 0.07519058799711716}, {\"data\": 1.2452069688678868}, {\"data\": -0.5951201330667766}, {\"data\": 0.3037971290151836}, {\"data\": -0.19964609373999473}, {\"data\": -0.5417597032306708}, {\"data\": -0.36579007430488664}, {\"data\": 0.8610269333953813}, {\"data\": -0.057937752461062995}, {\"data\": -1.417724466690135}, {\"data\": 0.24553695380271018}, {\"data\": -0.12006884862598396}, {\"data\": -0.8921912289095375}, {\"data\": -0.8136247884707916}, {\"data\": 0.7108859991373245}, {\"data\": 0.11187847148197647}, {\"data\": 0.06541191556893534}, {\"data\": 0.9072456151742658}, {\"data\": -0.4406278097133173}, {\"data\": -0.054881807273874664}, {\"data\": 0.2444820328722987}, {\"data\": -0.008874555523847617}, {\"data\": -0.7245857005619729}, {\"data\": 0.08285138204707375}, {\"data\": -0.23430984222854706}, {\"data\": 0.17187133727366777}, {\"data\": -0.6006650401298107}, {\"data\": 0.1990651701355597}, {\"data\": 0.3188282944611698}, {\"data\": 0.2739332232935317}, {\"data\": -0.280737367187943}, {\"data\": 0.40550592784673306}, {\"data\": 0.7204813632936587}, {\"data\": 0.07426071868410888}, {\"data\": 0.21065063650722277}, {\"data\": -0.11589412874960608}, {\"data\": 0.0019002157791788332}, {\"data\": -0.5715776438964764}, {\"data\": -0.46177126209231684}, {\"data\": -0.028038833775557208}, {\"data\": -0.049188771899147214}, {\"data\": -0.4740887091290697}, {\"data\": -0.22805602247382623}, {\"data\": 0.29021457558350416}, {\"data\": 0.12498777319259398}, {\"data\": 0.2942898144326818}, {\"data\": 0.43513366154418115}, {\"data\": 0.2887037911734206}, {\"data\": 0.021101506630003108}, {\"data\": 0.11598472418340336}, {\"data\": 0.2277999090833908}, {\"data\": -0.2127502893408449}, {\"data\": -1.1934520430582336}, {\"data\": -0.3045485462025558}, {\"data\": 0.13780838615947288}, {\"data\": -0.5442459939534635}, {\"data\": 0.5418297352201488}, {\"data\": -0.7178177410897544}, {\"data\": 0.21157906825519565}, {\"data\": -0.07393770123417705}, {\"data\": -0.9715335840477503}, {\"data\": 1.2312612042979143}, {\"data\": 0.41007201791786974}, {\"data\": 0.9482696440599362}, {\"data\": 0.779849096575272}, {\"data\": 0.3529664324970187}, {\"data\": 0.19664628906611695}, {\"data\": -0.11033313874488393}, {\"data\": 0.8645182796959775}, {\"data\": -0.26124975386546134}, {\"data\": 0.2781162494444576}, {\"data\": 0.5962716315114628}, {\"data\": -0.6089356136169599}, {\"data\": -0.8693915118956861}, {\"data\": -0.6339281196651877}, {\"data\": 0.6113423620355275}, {\"data\": 0.29264617376936597}, {\"data\": 0.3652804099378092}, {\"data\": 0.8347415028205192}, {\"data\": 0.5170071935554126}, {\"data\": -0.2857093379066756}, {\"data\": -0.27094632754881676}, {\"data\": 0.07783493408136054}, {\"data\": -0.24970468470502452}, {\"data\": -0.3500953345757998}, {\"data\": 0.12614907548622864}, {\"data\": -0.24314494738709808}, {\"data\": 0.3602418056664472}, {\"data\": -0.6542298015591274}, {\"data\": -0.25116445098232354}, {\"data\": -0.9430429179684544}, {\"data\": -0.8953729005650557}, {\"data\": -0.3541399787513021}, {\"data\": 0.001204844201045422}, {\"data\": -0.05254786461750947}, {\"data\": 0.006365347144903126}, {\"data\": 0.7442810020871115}, {\"data\": -0.2321167764121631}, {\"data\": 0.4720529753100752}, {\"data\": -0.4877896883989506}, {\"data\": 0.9876196143754036}, {\"data\": 0.006370353619647547}, {\"data\": -0.6931168797576868}, {\"data\": 0.5158013230033232}, {\"data\": 0.3092237682989597}, {\"data\": 0.8051212800186054}, {\"data\": 0.4310008458930973}, {\"data\": -0.10620610149103632}, {\"data\": 0.021440007725257084}, {\"data\": -0.33363688859705365}, {\"data\": 0.036229964691394126}, {\"data\": 0.07239694654257749}, {\"data\": 0.3685761236207586}, {\"data\": 3.476221645523913e-05}, {\"data\": 0.2547159265604443}, {\"data\": -0.3211935174520276}, {\"data\": 0.24825513697330315}, {\"data\": -0.6068137993982335}, {\"data\": -0.4696435549031338}, {\"data\": 0.8496797035819553}, {\"data\": 0.2088683406454472}, {\"data\": -1.0437172970381663}, {\"data\": 0.3968839696419024}, {\"data\": 0.5240070069798801}, {\"data\": -0.016959922037176944}, {\"data\": 0.1247083553495421}, {\"data\": 0.1871835327551118}, {\"data\": -0.286047072483671}, {\"data\": -0.4229691007446882}, {\"data\": 0.48277559603394793}, {\"data\": -0.5749111336492794}, {\"data\": -0.0597971356148539}, {\"data\": 0.2303225409339575}, {\"data\": 0.026068537464885192}, {\"data\": -0.2546923534018815}, {\"data\": 0.2902889127096851}, {\"data\": 0.08586512314631786}, {\"data\": 0.12020666803563165}, {\"data\": 0.16290018761013145}, {\"data\": -1.398122221044766}, {\"data\": -0.017053769300602283}, {\"data\": -0.15910185446428754}, {\"data\": -0.6723937258550424}, {\"data\": -0.5748635761250295}, {\"data\": -0.04524292395109948}, {\"data\": 0.40952654103219904}, {\"data\": -0.23913864688618186}, {\"data\": -0.10722927593430959}, {\"data\": 0.24726231399319548}, {\"data\": 0.4561896597534919}, {\"data\": 0.2626111697024857}, {\"data\": -0.3085968778738969}, {\"data\": -0.0316487454145008}, {\"data\": 0.8065785450041467}, {\"data\": -0.1227267746905642}, {\"data\": -0.19624907925111537}, {\"data\": -0.20753422268600327}, {\"data\": 0.4235260691711452}, {\"data\": 0.7319634509403022}, {\"data\": -0.33287681388914103}, {\"data\": 0.3073831059960882}, {\"data\": 0.3033654254782313}, {\"data\": 1.0672194157486286}, {\"data\": -0.6973508447012381}, {\"data\": -0.11463817053647825}, {\"data\": -0.2923460275046153}, {\"data\": 0.3272209599569785}, {\"data\": 0.03713669741018632}, {\"data\": 0.40404036367603763}, {\"data\": 0.3466872398529104}, {\"data\": -0.24080565471579496}, {\"data\": 0.6790192589461911}, {\"data\": -0.5430098907121416}, {\"data\": -0.34241739481456945}, {\"data\": -0.7758412279767242}, {\"data\": 0.15615549098274814}, {\"data\": 0.6609741014894971}, {\"data\": -0.8995601671895866}, {\"data\": -0.22448545538627968}, {\"data\": 0.41938092525988563}, {\"data\": -1.578063034744581}, {\"data\": -0.8994916123649415}, {\"data\": -0.16010832348111542}, {\"data\": 0.057701226679100215}, {\"data\": -0.5615256134214867}, {\"data\": 0.7215476538722011}, {\"data\": -0.23881886692770982}, {\"data\": 0.5899563373639555}, {\"data\": 0.12110328640306035}, {\"data\": -0.5632335910922139}, {\"data\": 0.08708670517177738}, {\"data\": 0.6117013364213679}, {\"data\": -0.6118004571144176}, {\"data\": -0.013123555959745967}, {\"data\": -0.6030277031396606}, {\"data\": 0.8742812124781729}, {\"data\": -0.7746716877892231}, {\"data\": 0.11926037163351562}, {\"data\": 0.18005555530721287}, {\"data\": -0.8817703594565859}, {\"data\": -0.8857615663249743}, {\"data\": 1.2973013727184477}, {\"data\": -0.32817724888329475}, {\"data\": -0.3788439670416821}, {\"data\": 0.021356175438665533}, {\"data\": -0.5415288105030301}, {\"data\": -0.3139507121841786}, {\"data\": 0.4238198704690523}, {\"data\": 0.6567498533227076}, {\"data\": -0.45823321941366474}, {\"data\": -0.17726486860646956}, {\"data\": 0.7787527715293102}, {\"data\": -0.023173251449372604}, {\"data\": 0.0703183169505835}, {\"data\": 0.09219129193448024}, {\"data\": 0.04016304065948537}, {\"data\": -0.0028252032361775373}, {\"data\": -0.35228527139861643}, {\"data\": -0.5604638176834578}, {\"data\": -0.18589750525245577}, {\"data\": 0.25119088761462427}, {\"data\": -0.6608320237780183}, {\"data\": 0.6255949208791467}, {\"data\": -0.9007395030434113}, {\"data\": -0.13282808935057178}, {\"data\": 0.29509324948485993}, {\"data\": 0.733268250654264}, {\"data\": 0.14094028212809268}, {\"data\": 0.5603753203569802}, {\"data\": -0.9050101593556397}, {\"data\": -0.512241120220097}, {\"data\": 0.9054722350546665}, {\"data\": -0.3583108602924949}, {\"data\": -0.09740748184816476}, {\"data\": 0.12760534519566913}, {\"data\": -0.29107566579559174}, {\"data\": 0.039102376099760396}, {\"data\": 0.8417458465453598}, {\"data\": 0.043602864197566045}, {\"data\": 0.15790186648424348}, {\"data\": -0.017681419206561477}, {\"data\": -0.02900056522694276}, {\"data\": -0.07305713121055847}, {\"data\": -0.08564520344057523}, {\"data\": -0.014409199386833165}, {\"data\": 0.3685598246555223}, {\"data\": -0.3665073192205887}, {\"data\": 0.3013264004680748}, {\"data\": -0.035846923883039304}, {\"data\": -0.48444146934364435}, {\"data\": -0.3879013192134241}, {\"data\": -0.059326329666317464}, {\"data\": 0.3579007957160822}, {\"data\": -0.14968169706583925}, {\"data\": 0.2860521294526425}, {\"data\": 0.336605797137354}, {\"data\": 0.15831492401649527}, {\"data\": -0.6845197368233724}, {\"data\": -0.5307600651998814}, {\"data\": -0.14479319986551706}, {\"data\": -0.23373835820259758}, {\"data\": -0.604784300117526}, {\"data\": 0.23147631747225764}, {\"data\": -1.2011286270499586}, {\"data\": 0.32648624665635506}, {\"data\": 0.1467185008756764}, {\"data\": -1.0480714153206905}, {\"data\": -0.0007386276124875374}, {\"data\": 0.8688657492503307}, {\"data\": -0.025826894586885453}, {\"data\": 1.1592941475112348}, {\"data\": -0.5407258401943561}, {\"data\": -0.5626058963830971}, {\"data\": -0.058173979182900654}, {\"data\": -0.5799244240658931}, {\"data\": 0.9502728962564971}, {\"data\": -0.09553689172802458}, {\"data\": 0.07775603034206746}, {\"data\": -0.28738395648047593}, {\"data\": -1.0916254424158196}, {\"data\": 0.5872193200660183}, {\"data\": 0.12159609818630117}, {\"data\": -0.37552784089308816}, {\"data\": -0.08157839911450182}, {\"data\": 0.9294758240162725}, {\"data\": -0.37826912555746667}, {\"data\": -0.14829471397754174}, {\"data\": 0.4017046691560834}, {\"data\": -0.46589981635255245}, {\"data\": -0.40235765733534345}, {\"data\": -0.03554313737252145}, {\"data\": -0.6597858880636602}, {\"data\": -0.05811998612476655}, {\"data\": 0.37861520062694876}, {\"data\": 0.3953700029442162}, {\"data\": 1.3228399733629639}, {\"data\": -0.6983311115962353}, {\"data\": 0.17593792440480707}, {\"data\": -0.03248676673276561}, {\"data\": 0.48434487872162696}, {\"data\": -0.2177128663317003}, {\"data\": 0.4139833947699811}, {\"data\": -1.02164522512144}, {\"data\": -0.41726103258021846}, {\"data\": -0.8324070866384923}, {\"data\": 0.7550464415497518}, {\"data\": 0.46629765086318287}, {\"data\": -0.38696992687906767}, {\"data\": -0.9639418279318577}, {\"data\": -0.45194365294382016}, {\"data\": 0.35125024228065316}, {\"data\": -0.6773378689789661}, {\"data\": -0.24800787274771177}, {\"data\": -0.4850038218514507}, {\"data\": 0.45529201824366944}, {\"data\": 0.04056771361480569}, {\"data\": 0.5782705650945118}, {\"data\": -0.22842693633524294}, {\"data\": -0.8586562146090346}, {\"data\": -0.15785824833858475}, {\"data\": -0.1257034279664049}, {\"data\": -0.5688333783367191}, {\"data\": 0.20330536307057923}, {\"data\": 0.34442156812792735}, {\"data\": 0.3747352369474522}, {\"data\": 0.16894799870035654}, {\"data\": -0.3597908504029871}, {\"data\": 0.3458495358794642}, {\"data\": -0.26135265010913095}, {\"data\": -0.6777429616231021}, {\"data\": 0.027614593265488478}, {\"data\": 0.605250915596696}, {\"data\": -0.6150439245053777}, {\"data\": -0.054800649919562794}, {\"data\": 0.3435697008390834}, {\"data\": 0.5818157631002397}, {\"data\": -0.3558973650540855}, {\"data\": -1.1310225803597802}, {\"data\": 0.17362451316160477}, {\"data\": 0.5535844156802789}, {\"data\": 0.8097439458516195}, {\"data\": -0.6947704909546006}, {\"data\": 0.7649130044591592}, {\"data\": -0.1445745548178547}, {\"data\": 0.5859547052285805}, {\"data\": -0.10864309855979863}, {\"data\": -0.3391356947893614}, {\"data\": -0.15480344615445518}, {\"data\": 0.6402807680623291}, {\"data\": -0.21535760169664744}, {\"data\": 0.09585092019918806}, {\"data\": -6.223323906686714e-05}, {\"data\": 0.2421652203647839}, {\"data\": -0.4393693945747667}, {\"data\": 0.34334383148103403}, {\"data\": 1.0544562370849488}, {\"data\": 0.6409996756430754}, {\"data\": -0.9696081256418597}, {\"data\": -0.006646838230684313}, {\"data\": 0.4624263621589167}, {\"data\": 0.3232939382985472}, {\"data\": 0.009994527864228605}, {\"data\": -0.12930380140804346}, {\"data\": 0.6172084941359545}, {\"data\": 0.7462257068295175}, {\"data\": -0.0570562621726875}, {\"data\": -1.0012828606962956}, {\"data\": -0.02360104562417307}, {\"data\": 0.43437926540744487}, {\"data\": 0.2556191781828609}, {\"data\": 0.45030070274066863}, {\"data\": -0.7560066731732122}, {\"data\": -0.1424231525036335}, {\"data\": 0.2306252123347743}, {\"data\": 0.5582281857067687}, {\"data\": -0.394545133449415}, {\"data\": 0.3067897968636292}, {\"data\": 0.35081855563341413}, {\"data\": -0.10825618759787399}, {\"data\": -0.10324756917168323}, {\"data\": -0.21002117231884734}, {\"data\": 0.09509648303107325}, {\"data\": -0.0978066571440834}, {\"data\": -0.4274141055798951}, {\"data\": 0.0020738202367280804}, {\"data\": -0.1475973733451587}, {\"data\": -0.467848701856469}, {\"data\": -0.39095237244335335}, {\"data\": -0.06317778738618571}, {\"data\": 0.8203349954054954}, {\"data\": -0.966381552469029}, {\"data\": -0.08462935773079708}, {\"data\": 0.08607436342681427}, {\"data\": -0.2142134385426159}, {\"data\": -0.2549669207320498}, {\"data\": -0.058257702553962114}, {\"data\": -0.23172054576832607}, {\"data\": 0.028275265307336952}, {\"data\": 0.29479907111569503}, {\"data\": -0.17058558499605728}, {\"data\": 0.21409853969293888}, {\"data\": 0.2007014579379553}, {\"data\": 0.6173072197034145}, {\"data\": -0.36682666357139526}, {\"data\": 0.17232466699071566}, {\"data\": -0.7773899705085273}, {\"data\": -0.263593818943795}, {\"data\": 0.1425061720564173}, {\"data\": 0.004431757866587921}, {\"data\": 0.08943193469161256}, {\"data\": -0.8473078753182626}, {\"data\": 0.037101818251383346}, {\"data\": -0.4940436863403568}, {\"data\": 0.21844097618925062}, {\"data\": 0.30708026999507737}, {\"data\": 0.23933705814794334}, {\"data\": 0.4672323646587325}, {\"data\": -0.3048780803061853}, {\"data\": -0.8820098542851571}, {\"data\": 0.5072166942601386}, {\"data\": 0.7868340533836083}, {\"data\": -0.21276345276227457}, {\"data\": 0.4164352965469732}, {\"data\": -0.08621234587633818}, {\"data\": -0.8587058112925743}, {\"data\": 0.989574707876282}, {\"data\": -0.5265393045438422}, {\"data\": 0.30251753838816114}, {\"data\": -0.5419375090429828}, {\"data\": 0.4587226913882548}, {\"data\": -0.29729707270501743}, {\"data\": 0.21252348869781054}, {\"data\": 0.8699005150233006}, {\"data\": -0.29775481611385257}, {\"data\": -0.27983804279315994}, {\"data\": -0.22178608626690433}, {\"data\": 0.4014515685520249}, {\"data\": -0.4390403342209698}, {\"data\": 0.020782184346128926}, {\"data\": 0.9994158224207307}, {\"data\": 0.14892582871445445}, {\"data\": 0.2676112399184852}, {\"data\": -0.4465879331980103}, {\"data\": 0.4180075499861249}, {\"data\": -0.343863613700384}, {\"data\": -0.43389415579780827}, {\"data\": 0.45452695621697037}, {\"data\": 0.19978438450047414}, {\"data\": 1.2328953122315038}, {\"data\": 0.06965130206096792}, {\"data\": 0.7203284484432557}, {\"data\": 1.143013738382743}, {\"data\": -0.1367169531099939}, {\"data\": 0.5374952081520518}, {\"data\": -0.3956257882723689}, {\"data\": 0.49410816792702866}, {\"data\": 0.3645906761887613}, {\"data\": 0.557932520235685}, {\"data\": 0.5921685131398453}, {\"data\": 0.0600216677218384}, {\"data\": 0.02689879842862566}, {\"data\": -0.2117712846601398}, {\"data\": -0.6414475253757446}, {\"data\": 0.5581461395560454}, {\"data\": -0.148434713151147}, {\"data\": -0.5096388788229919}, {\"data\": 0.4855926791765146}, {\"data\": -0.31005185907640914}, {\"data\": 0.16679528827824888}, {\"data\": 0.39774413426890337}, {\"data\": 0.5075987596856163}, {\"data\": -0.8526273178715603}, {\"data\": 0.9737948481631272}, {\"data\": 0.031209512136811404}, {\"data\": -0.3729738496955411}, {\"data\": 0.32105766880080644}, {\"data\": 0.12965229825432417}, {\"data\": -0.1635478744811658}, {\"data\": 0.5519202943706295}, {\"data\": 0.6038474822191501}, {\"data\": -0.3066839557011675}, {\"data\": -0.4039779136979002}, {\"data\": 0.12302623608364421}, {\"data\": -0.10198710219650349}, {\"data\": -0.17419832725597056}, {\"data\": 0.8149365744351924}, {\"data\": 0.3092720439707319}, {\"data\": 0.779471044947316}, {\"data\": 0.40242097547537203}, {\"data\": -0.07528765621838057}, {\"data\": -0.4032836969079643}, {\"data\": 1.4021431292923627}, {\"data\": 0.12281284298521203}, {\"data\": -0.1701377982030978}, {\"data\": -0.3942268393877983}, {\"data\": -0.15596395222923362}, {\"data\": -1.2139077507596157}, {\"data\": 1.0766326403041364}, {\"data\": -0.651783408588801}, {\"data\": -0.05862228525873148}, {\"data\": 0.25653396887275626}, {\"data\": -0.3745824153243981}, {\"data\": 0.5150511368209297}, {\"data\": -0.08598236459439172}, {\"data\": 0.07282607676698023}, {\"data\": -0.03100748229371977}, {\"data\": 0.2507432270998932}, {\"data\": 0.6093983614374104}, {\"data\": 0.7507417394349214}, {\"data\": 0.4859529929241703}, {\"data\": -0.07350643191777632}, {\"data\": -0.2882326138137708}, {\"data\": 0.18688766794080966}, {\"data\": 0.38493922375486694}, {\"data\": -0.6832520140518082}, {\"data\": -1.7658995861727067}, {\"data\": -0.039843352254344565}, {\"data\": 0.04263660948400861}, {\"data\": 0.004249920711317185}, {\"data\": -0.21225828467983615}, {\"data\": -0.006857902203621201}, {\"data\": 0.3806410251322765}, {\"data\": -0.43317553139967935}, {\"data\": -0.5794300113138532}, {\"data\": 0.06339382915301264}, {\"data\": 0.09186500600193397}, {\"data\": 0.003519139483918777}, {\"data\": -0.18758736346258373}, {\"data\": 0.03883758343025095}, {\"data\": 0.49055502878307666}, {\"data\": -0.3628260844484989}, {\"data\": -0.3427383501291414}, {\"data\": -0.22713758763341582}, {\"data\": 0.34068070343321577}, {\"data\": -0.3523257551113145}, {\"data\": 0.0069476316142079}, {\"data\": -0.5790383265172149}, {\"data\": -0.3206127560805915}, {\"data\": -0.4081120676583684}, {\"data\": -0.055555969856757606}, {\"data\": 0.24557492260186983}, {\"data\": 0.030164436952021992}, {\"data\": -0.3054778111173802}, {\"data\": 0.8053634343057675}, {\"data\": 0.2995389855687031}, {\"data\": 0.6130408102440799}, {\"data\": -0.1601588556994653}, {\"data\": 0.26911040204742287}, {\"data\": 0.23353312843147758}, {\"data\": -0.34108001097209917}, {\"data\": 0.3031541459550843}, {\"data\": 0.34150412357589693}, {\"data\": -0.9241101939448827}, {\"data\": -0.5521443967396784}, {\"data\": 0.5191249471711575}, {\"data\": 0.0051926185951741005}, {\"data\": 0.13134661401629757}, {\"data\": 0.5424582561002839}, {\"data\": -0.07199095587211064}, {\"data\": 0.9654566952997929}, {\"data\": -0.3074511238580305}, {\"data\": 0.0882951840813121}, {\"data\": -0.619993857480963}, {\"data\": -0.44215713803471945}, {\"data\": -0.2777653833212468}, {\"data\": -0.01940043755072957}, {\"data\": 0.22488202740575905}, {\"data\": 0.35398828313357555}, {\"data\": -0.3754476313277563}, {\"data\": -0.6296623801581102}, {\"data\": 0.4300584986600788}, {\"data\": -0.5968404459048576}, {\"data\": -0.3091540882834638}, {\"data\": 0.08171816724639687}, {\"data\": 1.1563245904578063}, {\"data\": -0.0467423435196157}, {\"data\": -0.1133244622771679}, {\"data\": -0.2643696550640088}, {\"data\": -0.006172380629411962}, {\"data\": 0.1994751244113176}, {\"data\": 0.022197355230686684}, {\"data\": 0.2863878279725648}, {\"data\": -0.4184853521978711}, {\"data\": -0.7921173663239318}, {\"data\": 0.6293496294156004}, {\"data\": -0.8967571807973539}, {\"data\": -0.35390824324344794}, {\"data\": -0.18271359597319045}, {\"data\": 0.38771129493674444}, {\"data\": 0.7770049983122235}, {\"data\": 0.3036102985734232}, {\"data\": -0.8543527049200036}, {\"data\": -0.043607772501230185}, {\"data\": -0.4119151992667916}, {\"data\": 0.03470004136703455}, {\"data\": 0.8046147333903721}, {\"data\": 0.3317240293285101}, {\"data\": -0.49562222260071787}]}}, {\"mode\": \"vega-lite\"});\n",
       "</script>"
      ],
      "text/plain": [
       "alt.Chart(...)"
      ]
     },
     "execution_count": 11,
     "metadata": {},
     "output_type": "execute_result"
    }
   ],
   "source": [
    "alt_src1 = pd.DataFrame({'data': dhist.data})\n",
    "alt1 = alt.Chart(alt_src1).mark_bar().encode(\n",
    "    alt.X('data:Q', bin=alt.Bin(extent=[-2,2],\n",
    "                                maxbins=dhist.nbins)),\n",
    "    y='count()',\n",
    ")\n",
    "alt1"
   ]
  },
  {
   "cell_type": "code",
   "execution_count": 12,
   "id": "1d6915f9",
   "metadata": {
    "cell_style": "split",
    "slideshow": {
     "slide_type": "-"
    }
   },
   "outputs": [
    {
     "data": {
      "text/html": [
       "\n",
       "<div id=\"altair-viz-cb7a7982ec37460f906059bbaf992c6d\"></div>\n",
       "<script type=\"text/javascript\">\n",
       "  (function(spec, embedOpt){\n",
       "    let outputDiv = document.currentScript.previousElementSibling;\n",
       "    if (outputDiv.id !== \"altair-viz-cb7a7982ec37460f906059bbaf992c6d\") {\n",
       "      outputDiv = document.getElementById(\"altair-viz-cb7a7982ec37460f906059bbaf992c6d\");\n",
       "    }\n",
       "    const paths = {\n",
       "      \"vega\": \"https://cdn.jsdelivr.net/npm//vega@5?noext\",\n",
       "      \"vega-lib\": \"https://cdn.jsdelivr.net/npm//vega-lib?noext\",\n",
       "      \"vega-lite\": \"https://cdn.jsdelivr.net/npm//vega-lite@4.8.1?noext\",\n",
       "      \"vega-embed\": \"https://cdn.jsdelivr.net/npm//vega-embed@6?noext\",\n",
       "    };\n",
       "\n",
       "    function loadScript(lib) {\n",
       "      return new Promise(function(resolve, reject) {\n",
       "        var s = document.createElement('script');\n",
       "        s.src = paths[lib];\n",
       "        s.async = true;\n",
       "        s.onload = () => resolve(paths[lib]);\n",
       "        s.onerror = () => reject(`Error loading script: ${paths[lib]}`);\n",
       "        document.getElementsByTagName(\"head\")[0].appendChild(s);\n",
       "      });\n",
       "    }\n",
       "\n",
       "    function showError(err) {\n",
       "      outputDiv.innerHTML = `<div class=\"error\" style=\"color:red;\">${err}</div>`;\n",
       "      throw err;\n",
       "    }\n",
       "\n",
       "    function displayChart(vegaEmbed) {\n",
       "      vegaEmbed(outputDiv, spec, embedOpt)\n",
       "        .catch(err => showError(`Javascript Error: ${err.message}<br>This usually means there's a typo in your chart specification. See the javascript console for the full traceback.`));\n",
       "    }\n",
       "\n",
       "    if(typeof define === \"function\" && define.amd) {\n",
       "      requirejs.config({paths});\n",
       "      require([\"vega-embed\"], displayChart, err => showError(`Error loading script: ${err.message}`));\n",
       "    } else if (typeof vegaEmbed === \"function\") {\n",
       "      displayChart(vegaEmbed);\n",
       "    } else {\n",
       "      loadScript(\"vega\")\n",
       "        .then(() => loadScript(\"vega-lite\"))\n",
       "        .then(() => loadScript(\"vega-embed\"))\n",
       "        .catch(showError)\n",
       "        .then(() => displayChart(vegaEmbed));\n",
       "    }\n",
       "  })({\"config\": {\"view\": {\"continuousWidth\": 400, \"continuousHeight\": 300}}, \"data\": {\"name\": \"data-7925004187a1353ea543d1a1460a8d3f\"}, \"mark\": \"bar\", \"encoding\": {\"x\": {\"type\": \"quantitative\", \"field\": \"edges\"}, \"y\": {\"type\": \"quantitative\", \"field\": \"hist\"}}, \"$schema\": \"https://vega.github.io/schema/vega-lite/v4.8.1.json\", \"datasets\": {\"data-7925004187a1353ea543d1a1460a8d3f\": [{\"hist\": 1, \"edges\": -1.6753840800165618}, {\"hist\": 0, \"edges\": -1.5848685738604171}, {\"hist\": 1, \"edges\": -1.4943530677042722}, {\"hist\": 1, \"edges\": -1.4038375615481273}, {\"hist\": 2, \"edges\": -1.3133220553919824}, {\"hist\": 0, \"edges\": -1.2228065492358378}, {\"hist\": 4, \"edges\": -1.1322910430796929}, {\"hist\": 5, \"edges\": -1.0417755369235482}, {\"hist\": 10, \"edges\": -0.9512600307674033}, {\"hist\": 23, \"edges\": -0.8607445246112584}, {\"hist\": 26, \"edges\": -0.7702290184551136}, {\"hist\": 18, \"edges\": -0.6797135122989688}, {\"hist\": 36, \"edges\": -0.5891980061428239}, {\"hist\": 41, \"edges\": -0.498682499986679}, {\"hist\": 42, \"edges\": -0.40816699383053434}, {\"hist\": 58, \"edges\": -0.31765148767438944}, {\"hist\": 67, \"edges\": -0.22713598151824455}, {\"hist\": 65, \"edges\": -0.13662047536209987}, {\"hist\": 73, \"edges\": -0.04610496920595497}, {\"hist\": 90, \"edges\": 0.04441053695018993}, {\"hist\": 66, \"edges\": 0.1349260431063346}, {\"hist\": 57, \"edges\": 0.2254415492624795}, {\"hist\": 58, \"edges\": 0.3159570554186242}, {\"hist\": 67, \"edges\": 0.4064725615747691}, {\"hist\": 39, \"edges\": 0.496988067730914}, {\"hist\": 30, \"edges\": 0.5875035738870589}, {\"hist\": 38, \"edges\": 0.6780190800432038}, {\"hist\": 21, \"edges\": 0.7685345861993487}, {\"hist\": 24, \"edges\": 0.8590500923554931}, {\"hist\": 11, \"edges\": 0.949565598511638}, {\"hist\": 10, \"edges\": 1.040081104667783}, {\"hist\": 5, \"edges\": 1.1305966108239278}, {\"hist\": 5, \"edges\": 1.2211121169800727}, {\"hist\": 4, \"edges\": 1.3116276231362176}, {\"hist\": 2, \"edges\": 1.4021431292923627}]}}, {\"mode\": \"vega-lite\"});\n",
       "</script>"
      ],
      "text/plain": [
       "alt.Chart(...)"
      ]
     },
     "execution_count": 12,
     "metadata": {},
     "output_type": "execute_result"
    }
   ],
   "source": [
    "alt_src2= pd.DataFrame({'hist':dhist.hist, \n",
    "                       'edges':dhist.edges[1:]})\n",
    "alt2 = alt.Chart(alt_src2).mark_bar().encode(\n",
    "    y='hist',\n",
    "    x='edges',\n",
    ")\n",
    "alt2"
   ]
  },
  {
   "cell_type": "markdown",
   "id": "92665bf3",
   "metadata": {
    "slideshow": {
     "slide_type": "subslide"
    }
   },
   "source": [
    "Comparison with ```bokeh```:\n",
    " - the syntax is much less readable and intuitive\n",
    " - harder to customise\n",
    " - ```bokeh``` does not require ```pandas```\n",
    " - out-of-the box interaction (not explored in this talk, see [this](https://altair-viz.github.io/altair-tutorial/notebooks/06-Selections.html) for a nice example) is way more succint, at the cost of flexibility\n",
    "- <span style=\"color:brown\">efficiency/flexibility tradeoff</span>, where (in my opinion) ```bokeh``` comes out on top"
   ]
  },
  {
   "cell_type": "markdown",
   "id": "d426ba13",
   "metadata": {
    "slideshow": {
     "slide_type": "-"
    }
   },
   "source": [
    "From the \"Zen of Python\" (```import this```):\n",
    "\n",
    "```\n",
    "Flat is better than nested.\n",
    "Readability counts.\n",
    "Special cases aren't special enough to break the rules.\n",
    "```"
   ]
  },
  {
   "cell_type": "markdown",
   "id": "f945e625",
   "metadata": {
    "slideshow": {
     "slide_type": "subslide"
    }
   },
   "source": [
    "## ```plotnine```\n",
    "\n",
    "- Also follows \"the grammar of graphics\"\n",
    "- Contrary to ```altair```, this is basically a port of ```ggplot2``` to Python"
   ]
  },
  {
   "cell_type": "markdown",
   "id": "2e5728fc",
   "metadata": {
    "slideshow": {
     "slide_type": "subslide"
    }
   },
   "source": [
    "#### Line plot:"
   ]
  },
  {
   "cell_type": "code",
   "execution_count": 13,
   "id": "25e9ab99",
   "metadata": {
    "slideshow": {
     "slide_type": "-"
    }
   },
   "outputs": [],
   "source": [
    "import plotnine as p9"
   ]
  },
  {
   "cell_type": "code",
   "execution_count": 14,
   "id": "09300f48",
   "metadata": {
    "slideshow": {
     "slide_type": "-"
    }
   },
   "outputs": [
    {
     "data": {
      "image/png": "[encoded data removed]",
      "text/plain": [
       "<Figure size 640x480 with 1 Axes>"
      ]
     },
     "metadata": {},
     "output_type": "display_data"
    },
    {
     "data": {
      "text/plain": [
       "<ggplot: (8751129572849)>"
      ]
     },
     "execution_count": 14,
     "metadata": {},
     "output_type": "execute_result"
    }
   ],
   "source": [
    "#pandas is again required\n",
    "p9_source_line = pd.DataFrame({'x': dline.x, 'y': dline.y})\n",
    "\n",
    "(\n",
    "    p9.ggplot(p9_source_line, p9.aes(x='x', y='y'))\n",
    "    + p9.geom_line(color=dline.line_color) # line plot\n",
    "    + p9.geom_point(color=dline.fill_color, size=0.5*dline.size) # markers\n",
    ")"
   ]
  },
  {
   "cell_type": "markdown",
   "id": "b187f5f1",
   "metadata": {
    "slideshow": {
     "slide_type": "-"
    }
   },
   "source": [
    "There seems to be no easy way to control the color of the borders!"
   ]
  },
  {
   "cell_type": "markdown",
   "id": "b9e2037f",
   "metadata": {
    "slideshow": {
     "slide_type": "subslide"
    }
   },
   "source": [
    "#### Histogram:"
   ]
  },
  {
   "cell_type": "code",
   "execution_count": 15,
   "id": "49bddc10",
   "metadata": {
    "slideshow": {
     "slide_type": "-"
    }
   },
   "outputs": [
    {
     "data": {
      "image/png": "[encoded data removed]",
      "text/plain": [
       "<Figure size 640x480 with 1 Axes>"
      ]
     },
     "metadata": {},
     "output_type": "display_data"
    },
    {
     "data": {
      "text/plain": [
       "<ggplot: (8751121042333)>"
      ]
     },
     "execution_count": 15,
     "metadata": {},
     "output_type": "execute_result"
    }
   ],
   "source": [
    "p9_src1 = pd.DataFrame({'data': dhist.data})\n",
    "(\n",
    "    p9.ggplot(p9_src1, p9.aes(x='data'))\n",
    "    + p9.geom_histogram(bins=dhist.nbins, color='yellow')\n",
    ")"
   ]
  },
  {
   "cell_type": "markdown",
   "id": "fef47fee",
   "metadata": {
    "slideshow": {
     "slide_type": "-"
    }
   },
   "source": [
    "Setting the aesthetics seems much harder than it should for a beginner."
   ]
  },
  {
   "cell_type": "markdown",
   "id": "35272923",
   "metadata": {
    "slideshow": {
     "slide_type": "subslide"
    }
   },
   "source": [
    "## ```bokeh```: setting properties"
   ]
  },
  {
   "cell_type": "markdown",
   "id": "ff0a7ded",
   "metadata": {
    "slideshow": {
     "slide_type": "-"
    }
   },
   "source": [
    "Figure and object properties can be very easily customised:"
   ]
  },
  {
   "cell_type": "code",
   "execution_count": 16,
   "id": "5fe9b396",
   "metadata": {
    "slideshow": {
     "slide_type": "slide"
    }
   },
   "outputs": [
    {
     "data": {
      "text/html": [
       "\n",
       "\n",
       "\n",
       "\n",
       "\n",
       "\n",
       "  <div class=\"bk-root\" id=\"d257bb5b-cafc-4eef-8a33-10bb3fa3cb92\" data-root-id=\"1003\"></div>\n"
      ]
     },
     "metadata": {},
     "output_type": "display_data"
    },
    {
     "data": {
      "application/javascript": [
       "(function(root) {\n",
       "  function embed_document(root) {\n",
       "    \n",
       "  var docs_json = {\"f14f6ebc-4034-4bdd-90e9-83dc370465f9\":{\"defs\":[],\"roots\":{\"references\":[{\"attributes\":{\"below\":[{\"id\":\"1012\"}],\"center\":[{\"id\":\"1015\"},{\"id\":\"1019\"}],\"height\":400,\"left\":[{\"id\":\"1016\"}],\"outline_line_width\":2,\"renderers\":[{\"id\":\"1037\"},{\"id\":\"1042\"}],\"title\":\"Line Plot\",\"toolbar\":{\"id\":\"1027\"},\"width\":400,\"x_range\":{\"id\":\"1004\"},\"x_scale\":{\"id\":\"1008\"},\"y_range\":{\"id\":\"1006\"},\"y_scale\":{\"id\":\"1010\"}},\"id\":\"1003\",\"subtype\":\"Figure\",\"type\":\"Plot\"},{\"attributes\":{},\"id\":\"1025\",\"type\":\"HelpTool\"},{\"attributes\":{},\"id\":\"1021\",\"type\":\"WheelZoomTool\"},{\"attributes\":{\"source\":{\"id\":\"1034\"}},\"id\":\"1038\",\"type\":\"CDSView\"},{\"attributes\":{},\"id\":\"1024\",\"type\":\"ResetTool\"},{\"attributes\":{},\"id\":\"1023\",\"type\":\"SaveTool\"},{\"attributes\":{\"overlay\":{\"id\":\"1026\"}},\"id\":\"1022\",\"type\":\"BoxZoomTool\"},{\"attributes\":{\"fill_color\":{\"value\":\"orange\"},\"line_color\":{\"value\":\"indigo\"},\"line_dash\":{\"value\":[3,1]},\"line_width\":{\"value\":4},\"size\":{\"value\":15},\"x\":{\"field\":\"x\"},\"y\":{\"field\":\"y\"}},\"id\":\"1035\",\"type\":\"Circle\"},{\"attributes\":{\"data\":{\"x\":[1,2,3,4,5,6,7,8,9],\"y\":[6,7,2,8,9,3,4,5,1]},\"selected\":{\"id\":\"1054\"},\"selection_policy\":{\"id\":\"1055\"}},\"id\":\"1039\",\"type\":\"ColumnDataSource\"},{\"attributes\":{},\"id\":\"1006\",\"type\":\"DataRange1d\"},{\"attributes\":{},\"id\":\"1004\",\"type\":\"DataRange1d\"},{\"attributes\":{\"data\":{\"x\":[1,2,3,4,5,6,7,8,9],\"y\":[6,7,2,8,9,3,4,5,1]},\"selected\":{\"id\":\"1052\"},\"selection_policy\":{\"id\":\"1053\"}},\"id\":\"1034\",\"type\":\"ColumnDataSource\"},{\"attributes\":{\"data_source\":{\"id\":\"1034\"},\"glyph\":{\"id\":\"1035\"},\"hover_glyph\":null,\"muted_glyph\":null,\"nonselection_glyph\":{\"id\":\"1036\"},\"view\":{\"id\":\"1038\"}},\"id\":\"1037\",\"type\":\"GlyphRenderer\"},{\"attributes\":{\"axis_label\":\"Y Axis\",\"formatter\":{\"id\":\"1050\"},\"major_label_policy\":{\"id\":\"1051\"},\"ticker\":{\"id\":\"1017\"}},\"id\":\"1016\",\"type\":\"LinearAxis\"},{\"attributes\":{},\"id\":\"1047\",\"type\":\"BasicTickFormatter\"},{\"attributes\":{\"formatter\":{\"id\":\"1047\"},\"major_label_policy\":{\"id\":\"1048\"},\"ticker\":{\"id\":\"1013\"}},\"id\":\"1012\",\"type\":\"LinearAxis\"},{\"attributes\":{},\"id\":\"1052\",\"type\":\"Selection\"},{\"attributes\":{},\"id\":\"1010\",\"type\":\"LinearScale\"},{\"attributes\":{},\"id\":\"1054\",\"type\":\"Selection\"},{\"attributes\":{\"line_alpha\":0.1,\"line_color\":\"#1f77b4\",\"line_width\":2,\"x\":{\"field\":\"x\"},\"y\":{\"field\":\"y\"}},\"id\":\"1041\",\"type\":\"Line\"},{\"attributes\":{},\"id\":\"1017\",\"type\":\"BasicTicker\"},{\"attributes\":{\"axis\":{\"id\":\"1016\"},\"dimension\":1,\"ticker\":null},\"id\":\"1019\",\"type\":\"Grid\"},{\"attributes\":{},\"id\":\"1048\",\"type\":\"AllLabels\"},{\"attributes\":{},\"id\":\"1055\",\"type\":\"UnionRenderers\"},{\"attributes\":{\"bottom_units\":\"screen\",\"fill_alpha\":0.5,\"fill_color\":\"lightgrey\",\"left_units\":\"screen\",\"level\":\"overlay\",\"line_alpha\":1.0,\"line_color\":\"black\",\"line_dash\":[4,4],\"line_width\":2,\"right_units\":\"screen\",\"syncable\":false,\"top_units\":\"screen\"},\"id\":\"1026\",\"type\":\"BoxAnnotation\"},{\"attributes\":{\"line_color\":\"#1f77b4\",\"line_width\":2,\"x\":{\"field\":\"x\"},\"y\":{\"field\":\"y\"}},\"id\":\"1040\",\"type\":\"Line\"},{\"attributes\":{\"active_multi\":null,\"tools\":[{\"id\":\"1020\"},{\"id\":\"1021\"},{\"id\":\"1022\"},{\"id\":\"1023\"},{\"id\":\"1024\"},{\"id\":\"1025\"}]},\"id\":\"1027\",\"type\":\"Toolbar\"},{\"attributes\":{},\"id\":\"1050\",\"type\":\"BasicTickFormatter\"},{\"attributes\":{},\"id\":\"1008\",\"type\":\"LinearScale\"},{\"attributes\":{\"fill_alpha\":{\"value\":0.1},\"fill_color\":{\"value\":\"orange\"},\"line_alpha\":{\"value\":0.1},\"line_color\":{\"value\":\"red\"},\"size\":{\"value\":15},\"x\":{\"field\":\"x\"},\"y\":{\"field\":\"y\"}},\"id\":\"1036\",\"type\":\"Circle\"},{\"attributes\":{\"source\":{\"id\":\"1039\"}},\"id\":\"1043\",\"type\":\"CDSView\"},{\"attributes\":{},\"id\":\"1020\",\"type\":\"PanTool\"},{\"attributes\":{},\"id\":\"1013\",\"type\":\"BasicTicker\"},{\"attributes\":{},\"id\":\"1051\",\"type\":\"AllLabels\"},{\"attributes\":{\"axis\":{\"id\":\"1012\"},\"grid_line_color\":\"red\",\"ticker\":null},\"id\":\"1015\",\"type\":\"Grid\"},{\"attributes\":{},\"id\":\"1053\",\"type\":\"UnionRenderers\"},{\"attributes\":{\"data_source\":{\"id\":\"1039\"},\"glyph\":{\"id\":\"1040\"},\"hover_glyph\":null,\"muted_glyph\":null,\"nonselection_glyph\":{\"id\":\"1041\"},\"view\":{\"id\":\"1043\"}},\"id\":\"1042\",\"type\":\"GlyphRenderer\"}],\"root_ids\":[\"1003\"]},\"title\":\"Bokeh Application\",\"version\":\"2.3.2\"}};\n",
       "  var render_items = [{\"docid\":\"f14f6ebc-4034-4bdd-90e9-83dc370465f9\",\"root_ids\":[\"1003\"],\"roots\":{\"1003\":\"d257bb5b-cafc-4eef-8a33-10bb3fa3cb92\"}}];\n",
       "  root.Bokeh.embed.embed_items_notebook(docs_json, render_items);\n",
       "\n",
       "  }\n",
       "  if (root.Bokeh !== undefined) {\n",
       "    embed_document(root);\n",
       "  } else {\n",
       "    var attempts = 0;\n",
       "    var timer = setInterval(function(root) {\n",
       "      if (root.Bokeh !== undefined) {\n",
       "        clearInterval(timer);\n",
       "        embed_document(root);\n",
       "      } else {\n",
       "        attempts++;\n",
       "        if (attempts > 100) {\n",
       "          clearInterval(timer);\n",
       "          console.log(\"Bokeh: ERROR: Unable to run BokehJS code because BokehJS library is missing\");\n",
       "        }\n",
       "      }\n",
       "    }, 10, root)\n",
       "  }\n",
       "})(window);"
      ],
      "application/vnd.bokehjs_exec.v0+json": ""
     },
     "metadata": {
      "application/vnd.bokehjs_exec.v0+json": {
       "id": "1003"
      }
     },
     "output_type": "display_data"
    }
   ],
   "source": [
    "#set figure properties\n",
    "pline.title = 'Line Plot'\n",
    "pline.xgrid.grid_line_color = 'red'\n",
    "pline.yaxis.axis_label = 'Y Axis'\n",
    "pline.outline_line_width = 2\n",
    "\n",
    "#set glyph properties\n",
    "#recall: circ = p_line.circle(data.x, data.y, **marker_options)\n",
    "circ.glyph.line_color = \"indigo\"\n",
    "circ.glyph.line_dash = [3,1]\n",
    "circ.glyph.line_width = 4\n",
    "\n",
    "show(pline)"
   ]
  },
  {
   "cell_type": "markdown",
   "id": "95b43242",
   "metadata": {
    "slideshow": {
     "slide_type": "subslide"
    }
   },
   "source": [
    "One can search for specific properties in the documentation or else do:"
   ]
  },
  {
   "cell_type": "code",
   "execution_count": 17,
   "id": "89ccb53e",
   "metadata": {
    "slideshow": {
     "slide_type": "-"
    }
   },
   "outputs": [
    {
     "name": "stdout",
     "output_type": "stream",
     "text": [
      "['bounds', 'ticker', 'formatter', 'axis_label', 'axis_label_standoff', 'major_label_standoff', 'major_label_orientation', 'major_label_overrides', 'major_label_policy', 'major_tick_in', 'major_tick_out', 'minor_tick_in', 'minor_tick_out', 'fixed_location', 'axis_label_text_baseline', 'axis_label_text_line_height', 'axis_label_text_color', 'axis_label_text_font', 'axis_label_text_alpha', 'axis_label_text_align', 'axis_label_text_font_style', 'axis_label_text_font_size', 'major_label_text_baseline', 'major_label_text_line_height', 'major_label_text_color', 'major_label_text_font', 'major_label_text_alpha', 'major_label_text_align', 'major_label_text_font_style', 'major_label_text_font_size', 'axis_line_color', 'axis_line_width', 'axis_line_cap', 'axis_line_join', 'axis_line_alpha', 'axis_line_dash', 'axis_line_dash_offset', 'major_tick_line_color', 'major_tick_line_width', 'major_tick_line_cap', 'major_tick_line_join', 'major_tick_line_alpha', 'major_tick_line_dash', 'major_tick_line_dash_offset', 'minor_tick_line_color', 'minor_tick_line_width', 'minor_tick_line_cap', 'minor_tick_line_join', 'minor_tick_line_alpha', 'minor_tick_line_dash', 'minor_tick_line_dash_offset']\n"
     ]
    }
   ],
   "source": [
    "from bokeh.models import Axis\n",
    "print([x for x in vars(Axis) if x[:1] != \"_\"])"
   ]
  },
  {
   "cell_type": "markdown",
   "id": "d9ced292",
   "metadata": {
    "slideshow": {
     "slide_type": "-"
    }
   },
   "source": [
    "The same idea can be applied to ```Title```, ```Legend```, ```Toolbar```, ... [[more about models](https://docs.bokeh.org/en/latest/docs/reference/models.html)]"
   ]
  },
  {
   "cell_type": "markdown",
   "id": "baced4b0",
   "metadata": {
    "slideshow": {
     "slide_type": "subslide"
    }
   },
   "source": [
    "Other ```bokeh``` features not explored in this talk:\n",
    "\n",
    "\n",
    "- data streaming\n",
    "- embed plots in websites\n",
    "- [network graph visualization](https://docs.bokeh.org/en/latest/docs/user_guide/graph.html#userguide-graph)"
   ]
  },
  {
   "cell_type": "markdown",
   "id": "6430ae98",
   "metadata": {
    "slideshow": {
     "slide_type": "subslide"
    }
   },
   "source": [
    "### Pros\n",
    "\n",
    "- Intuitive syntax\n",
    "- Very flexible\n",
    "- Reasonable [documentation](https://docs.bokeh.org/en/latest/docs/reference.html), many [examples](https://docs.bokeh.org/en/latest/docs/gallery.html#gallery) and [great tutorial](https://hub.gke2.mybinder.org/user/bokeh-bokeh-notebooks-asqwhfmf/notebooks/tutorial/00%20-%20Introduction%20and%20Setup.ipynb)\n",
    "- Works well with jupyter notebooks\n",
    "\n",
    "and, most importantly, provides interactivity:\n",
    "\n",
    "- Easy to deploy and share high-quality (interactive) visualizations\n",
    "- Allows the creation of interactive dashboards"
   ]
  },
  {
   "cell_type": "raw",
   "id": "94aff817",
   "metadata": {
    "slideshow": {
     "slide_type": "subslide"
    }
   },
   "source": [
    "### Cons\n",
    "\n",
    "- High-level charts were deprecated: building a tad more complex visualization can become time consuming the first time you do it. Possible solutions:\n",
    "    - [HoloViews](https://holoviews.org/index.html)\n",
    "    - [Chartify](https://github.com/spotify/chartify) (virtually no documentation, one [tutorial](https://github.com/spotify/chartify/blob/master/examples/Chartify%20Tutorial.ipynb))\n",
    "- Less customisation than ```matplotlib```, although the difference is not noticeable for most use cases\n",
    "- Javascript required for most interactive visualizations (very basic level)\n",
    "    - If most of your ```bokeh``` code is in JavaScript you should consider other solutions ([D3](https://d3js.org/), for instance)\n",
    "    - Hard to debug (please let me know if you are aware of a good solution!)\n",
    "- The flexibility/time tradeoff might not be optimal in some scenarios (*e.g.* quick interactive plotting)\n",
    "- It reportedly becomes slow when reaching $\\approx$ 1 million data points per HTML page (but the custom example #2 uses almost 6 millions!) \n",
    "- No native 3D plots available (which are instead present in Plotly and HoloViews)"
   ]
  },
  {
   "cell_type": "markdown",
   "id": "da3ac6bb",
   "metadata": {
    "slideshow": {
     "slide_type": "slide"
    }
   },
   "source": [
    "# Interactive plotting with Bokeh"
   ]
  },
  {
   "cell_type": "code",
   "execution_count": null,
   "id": "dfc50f96",
   "metadata": {},
   "outputs": [],
   "source": []
  },
  {
   "cell_type": "code",
   "execution_count": null,
   "id": "18ab628b",
   "metadata": {},
   "outputs": [],
   "source": []
  },
  {
   "cell_type": "markdown",
   "id": "f436bb2f",
   "metadata": {
    "slideshow": {
     "slide_type": "slide"
    }
   },
   "source": [
    "# Custom examples"
   ]
  },
  {
   "cell_type": "markdown",
   "id": "69d60080",
   "metadata": {
    "slideshow": {
     "slide_type": "subslide"
    }
   },
   "source": [
    "$a^2$"
   ]
  },
  {
   "cell_type": "code",
   "execution_count": null,
   "id": "0d0eee66",
   "metadata": {},
   "outputs": [],
   "source": []
  }
 ],
 "metadata": {
  "celltoolbar": "Slideshow",
  "kernelspec": {
   "display_name": "PyHEP21",
   "language": "python",
   "name": "pyhep21"
  },
  "language_info": {
   "codemirror_mode": {
    "name": "ipython",
    "version": 3
   },
   "file_extension": ".py",
   "mimetype": "text/x-python",
   "name": "python",
   "nbconvert_exporter": "python",
   "pygments_lexer": "ipython3",
   "version": "3.9.5"
  }
 },
 "nbformat": 4,
 "nbformat_minor": 5
}
