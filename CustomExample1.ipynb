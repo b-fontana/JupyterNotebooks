{
 "cells": [
  {
   "cell_type": "markdown",
   "id": "0dd760b5",
   "metadata": {},
   "source": [
    "# Custom Example #1\n",
    "\n",
    "## <span style=\"color:purple\">Exploratory data analysis</span>"
   ]
  },
  {
   "cell_type": "code",
   "execution_count": null,
   "id": "4fd83b12",
   "metadata": {},
   "outputs": [],
   "source": [
    "from bokeh.io import output_notebook, show\n",
    "from bokeh.plotting import Figure\n",
    "from bokeh.layouts import layout #general and most flexible bokeh layout\n",
    "output_notebook() # alternatively one could use output_file(file.html)"
   ]
  },
  {
   "cell_type": "code",
   "execution_count": null,
   "id": "196fd81c",
   "metadata": {},
   "outputs": [],
   "source": [
    "import numpy as np\n",
    "from bokeh.models import CDSView, ColumnDataSource as CDS, CustomJSFilter, Range1d\n",
    "\n",
    "#generate the data\n",
    "npoints = 10000\n",
    "data = dict(exp=np.random.exponential(1, size=npoints),\n",
    "            gau=np.random.normal(0, 0.5, size=npoints),\n",
    "            exp2=np.random.exponential(7, size=npoints),\n",
    "            gau2=np.random.normal(1, 2.5, size=npoints),\n",
    "            )\n",
    "\n",
    "source = CDS(data=data)"
   ]
  },
  {
   "cell_type": "code",
   "execution_count": null,
   "id": "477d79d0",
   "metadata": {},
   "outputs": [],
   "source": [
    "from bokeh.models import CustomJS, RangeSlider\n",
    "\n",
    "NAMES = ['exp','gau','exp2','gau2']\n",
    "RANGES_LOW = {NAMES[0]: 0, NAMES[1]: -3.5, NAMES[2]: 0, NAMES[3]: -15}\n",
    "RANGES_HIGH = {NAMES[0]: 10, NAMES[1]: 3.5, NAMES[2]: 70, NAMES[3]: 15}\n",
    "\n",
    "slider_exp  = RangeSlider(start=RANGES_LOW[NAMES[0]], end=RANGES_HIGH[NAMES[0]], \n",
    "                          value=(RANGES_LOW[NAMES[0]],RANGES_HIGH[NAMES[0]]), step=.1, title=\"Exp\")\n",
    "\n",
    "slider_gau  = RangeSlider(start=RANGES_LOW[NAMES[1]], end=RANGES_HIGH[NAMES[1]], \n",
    "                          value=(RANGES_LOW[NAMES[1]],RANGES_HIGH[NAMES[1]]), step=.1, title=\"Gau\")\n",
    "\n",
    "slider_exp2  = RangeSlider(start=RANGES_LOW[NAMES[2]], end=RANGES_HIGH[NAMES[2]], \n",
    "                           value=(RANGES_LOW[NAMES[2]],RANGES_HIGH[NAMES[2]]), step=.1, title=\"Exp2\")\n",
    "\n",
    "slider_gau2  = RangeSlider(start=RANGES_LOW[NAMES[3]], end=RANGES_HIGH[NAMES[3]], \n",
    "                           value=(RANGES_LOW[NAMES[3]],RANGES_HIGH[NAMES[3]]), step=.1, title=\"Gau2\")"
   ]
  },
  {
   "cell_type": "code",
   "execution_count": null,
   "id": "6fcfe44e",
   "metadata": {},
   "outputs": [],
   "source": [
    "callback = CustomJS(args=dict(s=source), code=\"\"\"\n",
    "    s.change.emit();\n",
    "\"\"\")\n",
    "\n",
    "slider_exp.js_on_change('value_throttled', callback)\n",
    "slider_gau.js_on_change('value_throttled', callback)\n",
    "slider_exp2.js_on_change('value_throttled', callback)\n",
    "slider_gau2.js_on_change('value_throttled', callback)"
   ]
  },
  {
   "cell_type": "code",
   "execution_count": null,
   "id": "23106403",
   "metadata": {},
   "outputs": [],
   "source": [
    "def get_custom_filter(slider, variable):\n",
    "    return CustomJSFilter(args=dict(slider=slider), code=\"\"\"\n",
    "        var indices = [];\n",
    "        var start = slider.value[0];\n",
    "        var end = slider.value[1];\n",
    "\n",
    "        const data = source.data['{var}'];\n",
    "\n",
    "        for (var i=0; i < source.get_length(); i++){{\n",
    "            indices[i] = data[i] >= start && data[i] <= end;\n",
    "        }}\n",
    "        return indices;\n",
    "        \"\"\".format(var=variable))\n",
    "\n",
    "fexp  = get_custom_filter(slider_exp,  NAMES[0])\n",
    "fgau  = get_custom_filter(slider_gau,  NAMES[1])\n",
    "fexp2 = get_custom_filter(slider_exp2, NAMES[2])\n",
    "fgau2 = get_custom_filter(slider_gau2, NAMES[3])"
   ]
  },
  {
   "cell_type": "code",
   "execution_count": null,
   "id": "f48888f3",
   "metadata": {},
   "outputs": [],
   "source": [
    "# Use the filter in a view\n",
    "view = CDSView(source=source, \n",
    "               filters=[fexp, fgau, fexp2, fgau2])"
   ]
  },
  {
   "cell_type": "markdown",
   "id": "23ecb356",
   "metadata": {},
   "source": [
    "Explore more markers [here](https://docs.bokeh.org/en/latest/docs/reference/plotting.html)"
   ]
  },
  {
   "cell_type": "code",
   "execution_count": null,
   "id": "75eed8c3",
   "metadata": {},
   "outputs": [],
   "source": [
    "COLORS = ['brown', 'purple', 'orange', 'green']\n",
    "MARKERS = ['triangle', 'square', 'square_pin', 'diamond']\n",
    "XVAR = ['exp', 'gau', 'exp', 'gau']\n",
    "YVAR = ['exp2', 'exp2', 'gau2', 'gau2']\n",
    "\n",
    "figs = []\n",
    "for i in range(len(COLORS)):\n",
    "    figs.append( Figure(plot_width=450, plot_height=350, output_backend='webgl') )\n",
    "    figs[-1].scatter(x=XVAR[i], y=YVAR[i], \n",
    "                     color=COLORS[i], marker=MARKERS[i],\n",
    "                     source=source, view=view)\n",
    "    figs[-1].xaxis.axis_label = XVAR[i]\n",
    "    figs[-1].yaxis.axis_label = YVAR[i]\n",
    "    \n",
    "    #fix ranges (otherwise they change during filtering)\n",
    "    figs[-1].x_range=Range1d(RANGES_LOW[XVAR[i]]-1, RANGES_HIGH[XVAR[i]]+1)\n",
    "    figs[-1].y_range=Range1d(RANGES_LOW[YVAR[i]]-1, RANGES_HIGH[YVAR[i]]+1)"
   ]
  },
  {
   "cell_type": "code",
   "execution_count": null,
   "id": "105b4067",
   "metadata": {},
   "outputs": [],
   "source": [
    "lay = layout([[slider_gau],[slider_exp],[slider_exp2],[slider_gau2],\n",
    "              [figs[0], figs[1]], \n",
    "              [figs[2], figs[3]]])\n",
    "show(lay)"
   ]
  },
  {
   "cell_type": "markdown",
   "id": "0169346f",
   "metadata": {},
   "source": [
    "One could have instead a manual selection (hold the SHIFT key for multiple selections):"
   ]
  },
  {
   "cell_type": "code",
   "execution_count": null,
   "id": "8d1e0823",
   "metadata": {},
   "outputs": [],
   "source": [
    "#add data to a ColumnDataSource\n",
    "source.data['color'] = ['grey' for _ in range(npoints)]\n",
    "print(source.data.keys())\n",
    "\n",
    "figs2 = []\n",
    "for i in range(len(COLORS)):\n",
    "    figs2.append( Figure(plot_width=450, plot_height=350, output_backend=\"webgl\") )\n",
    "    figs2[-1].scatter(x=XVAR[i], y=YVAR[i], \n",
    "                      color='color', #now the scatter plot is also linked to the CDS color column \n",
    "                      marker=MARKERS[i],\n",
    "                      source=source)\n",
    "    figs2[-1].xaxis.axis_label = XVAR[i]\n",
    "    figs2[-1].yaxis.axis_label = YVAR[i]"
   ]
  },
  {
   "cell_type": "code",
   "execution_count": null,
   "id": "f1d4d992",
   "metadata": {},
   "outputs": [],
   "source": [
    "source.selected.js_on_change('indices', CustomJS(args=dict(s1=source), code=\"\"\"\n",
    "        var inds = cb_obj.indices;\n",
    "        var dcol = s1.data['color'];\n",
    "        \n",
    "        for (var i=0; i<inds.length; i++) {\n",
    "            dcol[ inds[i] ] = 'red';\n",
    "        }\n",
    "        \n",
    "        s1.change.emit();\n",
    "        \n",
    "        for (var i=0; i<inds.length; i++) {\n",
    "            dcol[ inds[i] ] = 'grey';\n",
    "        }\n",
    "    \"\"\")\n",
    ")"
   ]
  },
  {
   "cell_type": "code",
   "execution_count": null,
   "id": "76c68eb0",
   "metadata": {},
   "outputs": [],
   "source": [
    "from bokeh.models import BoxSelectTool, ResetTool\n",
    "for f in figs2:\n",
    "    f.tools = [BoxSelectTool(dimensions='both'), ResetTool()]\n",
    "lay2 = layout([[figs2[0], figs2[1]], \n",
    "              [figs2[2], figs2[3]]])\n",
    "show(lay2)"
   ]
  },
  {
   "cell_type": "markdown",
   "id": "46d61442",
   "metadata": {},
   "source": [
    "One can alternatively obtain the same result with a different, more general [technique](https://docs.bokeh.org/en/latest/docs/user_guide/interaction/callbacks.html#customjs-for-tools).\n",
    "\n",
    "See other available tools [here](https://docs.bokeh.org/en/latest/docs/user_guide/tools.html#configuring-plot-tools)."
   ]
  },
  {
   "cell_type": "markdown",
   "id": "359b8012",
   "metadata": {},
   "source": [
    "### Examples by the community:\n",
    "\n",
    "- [Bioinformatics](https://pirovc.github.io/grimer-reports/others/placenta_wgs.html)\n",
    "- [COVID interactive paper](https://jacob-barhak.github.io/COVID19_Ensemble_2021.html)\n",
    "- [Fitness](https://hnagib.com/)\n",
    "- [Mortality rates](https://cjdixon.s3-ap-southeast-2.amazonaws.com/bokeh/mortality_rates.html)\n",
    "- [Simple simulation](https://polyas-urn.herokuapp.com/app)"
   ]
  },
  {
   "cell_type": "markdown",
   "id": "85127c2d",
   "metadata": {
    "slideshow": {
     "slide_type": "-"
    }
   },
   "source": [
    "### Curiosity\n",
    "\n",
    "- [hvplot](https://hvplot.holoviz.org/)\n",
    "- if you really love ```pandas``` quick plotting"
   ]
  },
  {
   "cell_type": "code",
   "execution_count": null,
   "id": "48132187",
   "metadata": {
    "slideshow": {
     "slide_type": "-"
    }
   },
   "outputs": [],
   "source": [
    "import pandas as pd, numpy as np\n",
    "idx = np.arange(1000)\n",
    "df  = pd.DataFrame(np.random.randn(1000, 4), index=idx, columns=list('ABCD')).cumsum()\n",
    "df.plot()"
   ]
  },
  {
   "cell_type": "code",
   "execution_count": null,
   "id": "6a13be7b",
   "metadata": {
    "slideshow": {
     "slide_type": "-"
    }
   },
   "outputs": [],
   "source": [
    "#bokeh backend!\n",
    "import hvplot.pandas\n",
    "df.hvplot()"
   ]
  },
  {
   "cell_type": "markdown",
   "id": "7b8de98f",
   "metadata": {
    "slideshow": {
     "slide_type": "-"
    }
   },
   "source": [
    "### Embed plots in a website\n",
    "\n",
    "- [Custom Example #2](https://b-fontana.github.io/)"
   ]
  }
 ],
 "metadata": {
  "celltoolbar": "Slideshow",
  "kernelspec": {
   "display_name": "PyHEP21",
   "language": "python",
   "name": "pyhep21"
  },
  "language_info": {
   "codemirror_mode": {
    "name": "ipython",
    "version": 3
   },
   "file_extension": ".py",
   "mimetype": "text/x-python",
   "name": "python",
   "nbconvert_exporter": "python",
   "pygments_lexer": "ipython3",
   "version": "3.9.5"
  }
 },
 "nbformat": 4,
 "nbformat_minor": 5
}
